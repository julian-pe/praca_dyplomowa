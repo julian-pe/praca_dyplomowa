{
  "cells": [
    {
      "cell_type": "markdown",
      "metadata": {
        "id": "view-in-github",
        "colab_type": "text"
      },
      "source": [
        "<a href=\"https://colab.research.google.com/github/julian-pe/praca_dyplomowa/blob/master/projekt_julian_petrykowski.ipynb\" target=\"_parent\"><img src=\"https://colab.research.google.com/assets/colab-badge.svg\" alt=\"Open In Colab\"/></a>"
      ]
    },
    {
      "cell_type": "markdown",
      "metadata": {
        "id": "AVGp5ha6A8rw"
      },
      "source": [
        "## Wgrywanie plików do dataframe"
      ]
    },
    {
      "cell_type": "code",
      "execution_count": null,
      "metadata": {
        "colab": {
          "base_uri": "https://localhost:8080/"
        },
        "id": "h5s6NLQZVtO7",
        "outputId": "ea66d937-1b3a-43f7-a42f-dd640f0637bb"
      },
      "outputs": [
        {
          "output_type": "stream",
          "name": "stdout",
          "text": [
            "Drive already mounted at /content/drive; to attempt to forcibly remount, call drive.mount(\"/content/drive\", force_remount=True).\n"
          ]
        }
      ],
      "source": [
        "from google.colab import drive\n",
        "drive.mount('/content/drive')"
      ]
    },
    {
      "cell_type": "code",
      "execution_count": null,
      "metadata": {
        "id": "CL_b65qNAcSv"
      },
      "outputs": [],
      "source": [
        "from pathlib import Path\n",
        "import pandas as pd\n",
        "\n",
        "df = None\n",
        "directory = 'drive/MyDrive/PoliTweets'\n",
        "\n",
        "files = Path(directory).glob('*')\n",
        "for file in files:\n",
        "  if df is None:\n",
        "    df = pd.read_csv(file)\n",
        "  else:\n",
        "    df = pd.concat([df, pd.read_csv(file)], axis=0)"
      ]
    },
    {
      "cell_type": "code",
      "execution_count": null,
      "metadata": {
        "id": "LFkPEowhPeY4"
      },
      "outputs": [],
      "source": [
        "df = df.drop(columns=['Unnamed: 0'])\n"
      ]
    },
    {
      "cell_type": "code",
      "execution_count": null,
      "metadata": {
        "colab": {
          "base_uri": "https://localhost:8080/",
          "height": 206
        },
        "id": "tC2Joh6wBJ_C",
        "outputId": "940b8c91-16a7-47e2-8778-cb8aea70a7d0"
      },
      "outputs": [
        {
          "data": {
            "text/html": [
              "\n",
              "  <div id=\"df-22b1a702-c626-4474-a363-2caa66becc46\">\n",
              "    <div class=\"colab-df-container\">\n",
              "      <div>\n",
              "<style scoped>\n",
              "    .dataframe tbody tr th:only-of-type {\n",
              "        vertical-align: middle;\n",
              "    }\n",
              "\n",
              "    .dataframe tbody tr th {\n",
              "        vertical-align: top;\n",
              "    }\n",
              "\n",
              "    .dataframe thead th {\n",
              "        text-align: right;\n",
              "    }\n",
              "</style>\n",
              "<table border=\"1\" class=\"dataframe\">\n",
              "  <thead>\n",
              "    <tr style=\"text-align: right;\">\n",
              "      <th></th>\n",
              "      <th>tweet_id</th>\n",
              "      <th>user_id</th>\n",
              "      <th>party</th>\n",
              "      <th>topics</th>\n",
              "      <th>text</th>\n",
              "      <th>ach</th>\n",
              "    </tr>\n",
              "  </thead>\n",
              "  <tbody>\n",
              "    <tr>\n",
              "      <th>0</th>\n",
              "      <td>1.390951e+18</td>\n",
              "      <td>231224009.0</td>\n",
              "      <td>Konfederacja</td>\n",
              "      <td>Aborcja</td>\n",
              "      <td>@WyrzykowskiP Ale są jakieś nieprzekraczalne g...</td>\n",
              "      <td>NaN</td>\n",
              "    </tr>\n",
              "    <tr>\n",
              "      <th>1</th>\n",
              "      <td>1.390221e+18</td>\n",
              "      <td>231224009.0</td>\n",
              "      <td>Konfederacja</td>\n",
              "      <td>Aborcja</td>\n",
              "      <td>@RobbieScotTwink Jak można być za aborcją na ż...</td>\n",
              "      <td>NaN</td>\n",
              "    </tr>\n",
              "    <tr>\n",
              "      <th>2</th>\n",
              "      <td>1.390368e+18</td>\n",
              "      <td>231224009.0</td>\n",
              "      <td>Konfederacja</td>\n",
              "      <td>TSUE|UE|TK</td>\n",
              "      <td>@lis_tomasz Przecież naczelnik nie wyprowadza ...</td>\n",
              "      <td>NaN</td>\n",
              "    </tr>\n",
              "    <tr>\n",
              "      <th>3</th>\n",
              "      <td>1.466484e+18</td>\n",
              "      <td>231224009.0</td>\n",
              "      <td>Konfederacja</td>\n",
              "      <td>Aborcja</td>\n",
              "      <td>@JKlimasara Wy kuźwa macie obsesję z tą aborcją.</td>\n",
              "      <td>NaN</td>\n",
              "    </tr>\n",
              "    <tr>\n",
              "      <th>4</th>\n",
              "      <td>1.404932e+18</td>\n",
              "      <td>231224009.0</td>\n",
              "      <td>Konfederacja</td>\n",
              "      <td>TSUE|UE|TK</td>\n",
              "      <td>@KLubnauer Was to tylko łączy miłość do UE i n...</td>\n",
              "      <td>NaN</td>\n",
              "    </tr>\n",
              "  </tbody>\n",
              "</table>\n",
              "</div>\n",
              "      <button class=\"colab-df-convert\" onclick=\"convertToInteractive('df-22b1a702-c626-4474-a363-2caa66becc46')\"\n",
              "              title=\"Convert this dataframe to an interactive table.\"\n",
              "              style=\"display:none;\">\n",
              "        \n",
              "  <svg xmlns=\"http://www.w3.org/2000/svg\" height=\"24px\"viewBox=\"0 0 24 24\"\n",
              "       width=\"24px\">\n",
              "    <path d=\"M0 0h24v24H0V0z\" fill=\"none\"/>\n",
              "    <path d=\"M18.56 5.44l.94 2.06.94-2.06 2.06-.94-2.06-.94-.94-2.06-.94 2.06-2.06.94zm-11 1L8.5 8.5l.94-2.06 2.06-.94-2.06-.94L8.5 2.5l-.94 2.06-2.06.94zm10 10l.94 2.06.94-2.06 2.06-.94-2.06-.94-.94-2.06-.94 2.06-2.06.94z\"/><path d=\"M17.41 7.96l-1.37-1.37c-.4-.4-.92-.59-1.43-.59-.52 0-1.04.2-1.43.59L10.3 9.45l-7.72 7.72c-.78.78-.78 2.05 0 2.83L4 21.41c.39.39.9.59 1.41.59.51 0 1.02-.2 1.41-.59l7.78-7.78 2.81-2.81c.8-.78.8-2.07 0-2.86zM5.41 20L4 18.59l7.72-7.72 1.47 1.35L5.41 20z\"/>\n",
              "  </svg>\n",
              "      </button>\n",
              "      \n",
              "  <style>\n",
              "    .colab-df-container {\n",
              "      display:flex;\n",
              "      flex-wrap:wrap;\n",
              "      gap: 12px;\n",
              "    }\n",
              "\n",
              "    .colab-df-convert {\n",
              "      background-color: #E8F0FE;\n",
              "      border: none;\n",
              "      border-radius: 50%;\n",
              "      cursor: pointer;\n",
              "      display: none;\n",
              "      fill: #1967D2;\n",
              "      height: 32px;\n",
              "      padding: 0 0 0 0;\n",
              "      width: 32px;\n",
              "    }\n",
              "\n",
              "    .colab-df-convert:hover {\n",
              "      background-color: #E2EBFA;\n",
              "      box-shadow: 0px 1px 2px rgba(60, 64, 67, 0.3), 0px 1px 3px 1px rgba(60, 64, 67, 0.15);\n",
              "      fill: #174EA6;\n",
              "    }\n",
              "\n",
              "    [theme=dark] .colab-df-convert {\n",
              "      background-color: #3B4455;\n",
              "      fill: #D2E3FC;\n",
              "    }\n",
              "\n",
              "    [theme=dark] .colab-df-convert:hover {\n",
              "      background-color: #434B5C;\n",
              "      box-shadow: 0px 1px 3px 1px rgba(0, 0, 0, 0.15);\n",
              "      filter: drop-shadow(0px 1px 2px rgba(0, 0, 0, 0.3));\n",
              "      fill: #FFFFFF;\n",
              "    }\n",
              "  </style>\n",
              "\n",
              "      <script>\n",
              "        const buttonEl =\n",
              "          document.querySelector('#df-22b1a702-c626-4474-a363-2caa66becc46 button.colab-df-convert');\n",
              "        buttonEl.style.display =\n",
              "          google.colab.kernel.accessAllowed ? 'block' : 'none';\n",
              "\n",
              "        async function convertToInteractive(key) {\n",
              "          const element = document.querySelector('#df-22b1a702-c626-4474-a363-2caa66becc46');\n",
              "          const dataTable =\n",
              "            await google.colab.kernel.invokeFunction('convertToInteractive',\n",
              "                                                     [key], {});\n",
              "          if (!dataTable) return;\n",
              "\n",
              "          const docLinkHtml = 'Like what you see? Visit the ' +\n",
              "            '<a target=\"_blank\" href=https://colab.research.google.com/notebooks/data_table.ipynb>data table notebook</a>'\n",
              "            + ' to learn more about interactive tables.';\n",
              "          element.innerHTML = '';\n",
              "          dataTable['output_type'] = 'display_data';\n",
              "          await google.colab.output.renderOutput(dataTable, element);\n",
              "          const docLink = document.createElement('div');\n",
              "          docLink.innerHTML = docLinkHtml;\n",
              "          element.appendChild(docLink);\n",
              "        }\n",
              "      </script>\n",
              "    </div>\n",
              "  </div>\n",
              "  "
            ],
            "text/plain": [
              "       tweet_id      user_id         party      topics  \\\n",
              "0  1.390951e+18  231224009.0  Konfederacja     Aborcja   \n",
              "1  1.390221e+18  231224009.0  Konfederacja     Aborcja   \n",
              "2  1.390368e+18  231224009.0  Konfederacja  TSUE|UE|TK   \n",
              "3  1.466484e+18  231224009.0  Konfederacja     Aborcja   \n",
              "4  1.404932e+18  231224009.0  Konfederacja  TSUE|UE|TK   \n",
              "\n",
              "                                                text  ach  \n",
              "0  @WyrzykowskiP Ale są jakieś nieprzekraczalne g...  NaN  \n",
              "1  @RobbieScotTwink Jak można być za aborcją na ż...  NaN  \n",
              "2  @lis_tomasz Przecież naczelnik nie wyprowadza ...  NaN  \n",
              "3   @JKlimasara Wy kuźwa macie obsesję z tą aborcją.  NaN  \n",
              "4  @KLubnauer Was to tylko łączy miłość do UE i n...  NaN  "
            ]
          },
          "execution_count": 4,
          "metadata": {},
          "output_type": "execute_result"
        }
      ],
      "source": [
        "df.head()"
      ]
    },
    {
      "cell_type": "code",
      "execution_count": null,
      "metadata": {
        "colab": {
          "base_uri": "https://localhost:8080/"
        },
        "id": "ToIasJcxC0q1",
        "outputId": "2adb1848-da12-4e94-fe02-047219a8d60c"
      },
      "outputs": [
        {
          "name": "stdout",
          "output_type": "stream",
          "text": [
            "Ilość tweetów to 131908\n"
          ]
        }
      ],
      "source": [
        "print(f'Ilość tweetów to {len(df)}')"
      ]
    },
    {
      "cell_type": "code",
      "execution_count": null,
      "metadata": {
        "colab": {
          "base_uri": "https://localhost:8080/",
          "height": 447
        },
        "id": "QYf_V3MGC7gt",
        "outputId": "2c3cf9f0-344f-4bf4-b160-90ae142f52e3"
      },
      "outputs": [
        {
          "data": {
            "text/plain": [
              "<Axes: >"
            ]
          },
          "execution_count": 6,
          "metadata": {},
          "output_type": "execute_result"
        },
        {
          "data": {
            "image/png": "[encoded data removed]",
            "text/plain": [
              "<Figure size 640x480 with 1 Axes>"
            ]
          },
          "metadata": {},
          "output_type": "display_data"
        }
      ],
      "source": [
        "df['party'].hist()"
      ]
    },
    {
      "cell_type": "code",
      "execution_count": null,
      "metadata": {
        "colab": {
          "base_uri": "https://localhost:8080/"
        },
        "id": "SDRnAaIEDXX_",
        "outputId": "7ce92732-4caf-4313-93b5-942999cf3eca"
      },
      "outputs": [
        {
          "data": {
            "text/plain": [
              "PiS             46299\n",
              "PO              39354\n",
              "Konfederacja    29184\n",
              "Lewica          13606\n",
              "Polska 2050      3192\n",
              "Name: party, dtype: int64"
            ]
          },
          "execution_count": 7,
          "metadata": {},
          "output_type": "execute_result"
        }
      ],
      "source": [
        "df['party'].value_counts()"
      ]
    },
    {
      "cell_type": "code",
      "execution_count": null,
      "metadata": {
        "colab": {
          "base_uri": "https://localhost:8080/"
        },
        "id": "Ifu4LsAmDy2g",
        "outputId": "391c7d0c-1239-4c38-e196-d635b5f4c840"
      },
      "outputs": [
        {
          "output_type": "stream",
          "name": "stdout",
          "text": [
            "42227\n",
            "<class 'pandas.core.frame.DataFrame'>\n"
          ]
        }
      ],
      "source": [
        "po_tweets = df.loc[df['party'] == 'PO']\n",
        "print(len(po_tweets))\n",
        "print(type(po_tweets))"
      ]
    },
    {
      "cell_type": "markdown",
      "metadata": {
        "id": "6kpo9y8oLqoV"
      },
      "source": [
        "### Najbardziej aktywni użytkownicy"
      ]
    },
    {
      "cell_type": "code",
      "execution_count": null,
      "metadata": {
        "colab": {
          "base_uri": "https://localhost:8080/"
        },
        "id": "fvXguyhvEVCJ",
        "outputId": "000396e7-0726-403f-930b-ae1aa203856a"
      },
      "outputs": [
        {
          "output_type": "execute_result",
          "data": {
            "text/plain": [
              "[917441213690675200,\n",
              " 1307626595033714688,\n",
              " 3307901823,\n",
              " 819218415634313216,\n",
              " 1282733529609232384,\n",
              " 2907674452,\n",
              " 1318145383986565127,\n",
              " 54274904,\n",
              " 873854439538511872,\n",
              " 1065153478459355136,\n",
              " 4587908235,\n",
              " 1241413861477097478,\n",
              " 1271401282394259459,\n",
              " 856568385882161152,\n",
              " 901431354633711617,\n",
              " 906850310307696641,\n",
              " 861151070,\n",
              " 1064094402719752192,\n",
              " 1351641647529000960,\n",
              " 1606694744]"
            ]
          },
          "metadata": {},
          "execution_count": 6
        }
      ],
      "source": [
        "list(dict(po_tweets['user_id'].value_counts()).keys())[:20]"
      ]
    },
    {
      "cell_type": "code",
      "execution_count": null,
      "metadata": {
        "id": "QOkKwrdzEj8v"
      },
      "outputs": [],
      "source": [
        "#nie wiem z jakiegos powodu to nie dziala\n",
        "#list(dict(po_tweets['user_id'].value_counts()[:20]).keys())"
      ]
    },
    {
      "cell_type": "markdown",
      "metadata": {
        "id": "ELB-CC4GLpTn"
      },
      "source": [
        "Teraz możemy stworzyć listę 20 najbardziej aktywnych (w liczbie tweetów) użytkowników danej partii:"
      ]
    },
    {
      "cell_type": "code",
      "execution_count": null,
      "metadata": {
        "id": "ezVXol6DK4gj"
      },
      "outputs": [],
      "source": [
        "all_parties = list(df['party'].unique())\n",
        "list_of_top_user = list()\n",
        "\n",
        "for party in all_parties:\n",
        "  party_tweets = df.loc[df['party'] == party]\n",
        "  list_of_top_user.extend(list(dict(party_tweets['user_id'].value_counts()).keys())[:20])"
      ]
    },
    {
      "cell_type": "code",
      "execution_count": null,
      "metadata": {
        "colab": {
          "base_uri": "https://localhost:8080/"
        },
        "id": "uQ2PEXIPLZkT",
        "outputId": "280c1ea0-a05f-490a-e11a-a8ca0bca7ff6"
      },
      "outputs": [
        {
          "output_type": "execute_result",
          "data": {
            "text/plain": [
              "100"
            ]
          },
          "metadata": {},
          "execution_count": 44
        }
      ],
      "source": [
        "len(list_of_top_user)"
      ]
    },
    {
      "cell_type": "markdown",
      "metadata": {
        "id": "6PByqV9lMpyq"
      },
      "source": [
        "### Stworzenie datasetu:"
      ]
    },
    {
      "cell_type": "code",
      "execution_count": null,
      "metadata": {
        "colab": {
          "base_uri": "https://localhost:8080/",
          "height": 407
        },
        "id": "C0jTt_vcMo1J",
        "outputId": "f485c274-429e-415b-ed3f-8ac8cffa68e9"
      },
      "outputs": [
        {
          "output_type": "execute_result",
          "data": {
            "text/plain": [
              "    Unnamed: 0             tweet_id              user_id         party  \\\n",
              "66        66.0  1435775827015315458  1221969871371677701  Konfederacja   \n",
              "67        67.0  1387941058101878784  1221969871371677701  Konfederacja   \n",
              "68        68.0  1428473265060814848  1221969871371677701  Konfederacja   \n",
              "69        69.0  1374887084859793411  1221969871371677701  Konfederacja   \n",
              "70        70.0  1372001242625536008  1221969871371677701  Konfederacja   \n",
              "71        71.0  1378697482016849922  1221969871371677701  Konfederacja   \n",
              "72        72.0  1374163461639434241  1221969871371677701  Konfederacja   \n",
              "73        73.0  1396920591924580353  1221969871371677701  Konfederacja   \n",
              "74        74.0  1373766703935586306  1221969871371677701  Konfederacja   \n",
              "75        75.0  1459556594207932419  1221969871371677701  Konfederacja   \n",
              "\n",
              "               topics                                               text  \\\n",
              "66  LexTVN:TSUE|UE|TK  #Polexit Brak robotników z Polski. Niemieckie ...   \n",
              "67            Aborcja  @strajkkobiet @Lewica Bida zesrała się i płacz...   \n",
              "68             LexTVN  @Andruszkiewicz1 TVN poszukuje tanich pracowni...   \n",
              "69            Aborcja  @tvp_info Pod hasłami obrony praw kobiet zaprz...   \n",
              "70             LexTVN  @gambitek @Farma1956 @chili_mus @KamilDziubka ...   \n",
              "71             LexTVN  @Justyna86876846 @Ela59704287 @holownia_k Stra...   \n",
              "72             LexTVN  @BartStaszewski @panoptykon Życie w bańce GW i...   \n",
              "73         TSUE|UE|TK  #wtylewizji TSUE uznało, że zwyczaje kota Kacz...   \n",
              "74             LexTVN  @bbudka Nie możecie zaszczuwać ludzi wraz z ic...   \n",
              "75             LexTVN  @tvn24 Czemu TVN nie pomaga w Syrii? Przecież ...   \n",
              "\n",
              "   lemmatized_text lemmatized_text_only_common  \n",
              "66             NaN                         NaN  \n",
              "67             NaN                         NaN  \n",
              "68             NaN                         NaN  \n",
              "69             NaN                         NaN  \n",
              "70             NaN                         NaN  \n",
              "71             NaN                         NaN  \n",
              "72             NaN                         NaN  \n",
              "73             NaN                         NaN  \n",
              "74             NaN                         NaN  \n",
              "75             NaN                         NaN  "
            ],
            "text/html": [
              "\n",
              "\n",
              "  <div id=\"df-ca993e81-1522-4fdc-968a-5fec3f5fa824\">\n",
              "    <div class=\"colab-df-container\">\n",
              "      <div>\n",
              "<style scoped>\n",
              "    .dataframe tbody tr th:only-of-type {\n",
              "        vertical-align: middle;\n",
              "    }\n",
              "\n",
              "    .dataframe tbody tr th {\n",
              "        vertical-align: top;\n",
              "    }\n",
              "\n",
              "    .dataframe thead th {\n",
              "        text-align: right;\n",
              "    }\n",
              "</style>\n",
              "<table border=\"1\" class=\"dataframe\">\n",
              "  <thead>\n",
              "    <tr style=\"text-align: right;\">\n",
              "      <th></th>\n",
              "      <th>Unnamed: 0</th>\n",
              "      <th>tweet_id</th>\n",
              "      <th>user_id</th>\n",
              "      <th>party</th>\n",
              "      <th>topics</th>\n",
              "      <th>text</th>\n",
              "      <th>lemmatized_text</th>\n",
              "      <th>lemmatized_text_only_common</th>\n",
              "    </tr>\n",
              "  </thead>\n",
              "  <tbody>\n",
              "    <tr>\n",
              "      <th>66</th>\n",
              "      <td>66.0</td>\n",
              "      <td>1435775827015315458</td>\n",
              "      <td>1221969871371677701</td>\n",
              "      <td>Konfederacja</td>\n",
              "      <td>LexTVN:TSUE|UE|TK</td>\n",
              "      <td>#Polexit Brak robotników z Polski. Niemieckie ...</td>\n",
              "      <td>NaN</td>\n",
              "      <td>NaN</td>\n",
              "    </tr>\n",
              "    <tr>\n",
              "      <th>67</th>\n",
              "      <td>67.0</td>\n",
              "      <td>1387941058101878784</td>\n",
              "      <td>1221969871371677701</td>\n",
              "      <td>Konfederacja</td>\n",
              "      <td>Aborcja</td>\n",
              "      <td>@strajkkobiet @Lewica Bida zesrała się i płacz...</td>\n",
              "      <td>NaN</td>\n",
              "      <td>NaN</td>\n",
              "    </tr>\n",
              "    <tr>\n",
              "      <th>68</th>\n",
              "      <td>68.0</td>\n",
              "      <td>1428473265060814848</td>\n",
              "      <td>1221969871371677701</td>\n",
              "      <td>Konfederacja</td>\n",
              "      <td>LexTVN</td>\n",
              "      <td>@Andruszkiewicz1 TVN poszukuje tanich pracowni...</td>\n",
              "      <td>NaN</td>\n",
              "      <td>NaN</td>\n",
              "    </tr>\n",
              "    <tr>\n",
              "      <th>69</th>\n",
              "      <td>69.0</td>\n",
              "      <td>1374887084859793411</td>\n",
              "      <td>1221969871371677701</td>\n",
              "      <td>Konfederacja</td>\n",
              "      <td>Aborcja</td>\n",
              "      <td>@tvp_info Pod hasłami obrony praw kobiet zaprz...</td>\n",
              "      <td>NaN</td>\n",
              "      <td>NaN</td>\n",
              "    </tr>\n",
              "    <tr>\n",
              "      <th>70</th>\n",
              "      <td>70.0</td>\n",
              "      <td>1372001242625536008</td>\n",
              "      <td>1221969871371677701</td>\n",
              "      <td>Konfederacja</td>\n",
              "      <td>LexTVN</td>\n",
              "      <td>@gambitek @Farma1956 @chili_mus @KamilDziubka ...</td>\n",
              "      <td>NaN</td>\n",
              "      <td>NaN</td>\n",
              "    </tr>\n",
              "    <tr>\n",
              "      <th>71</th>\n",
              "      <td>71.0</td>\n",
              "      <td>1378697482016849922</td>\n",
              "      <td>1221969871371677701</td>\n",
              "      <td>Konfederacja</td>\n",
              "      <td>LexTVN</td>\n",
              "      <td>@Justyna86876846 @Ela59704287 @holownia_k Stra...</td>\n",
              "      <td>NaN</td>\n",
              "      <td>NaN</td>\n",
              "    </tr>\n",
              "    <tr>\n",
              "      <th>72</th>\n",
              "      <td>72.0</td>\n",
              "      <td>1374163461639434241</td>\n",
              "      <td>1221969871371677701</td>\n",
              "      <td>Konfederacja</td>\n",
              "      <td>LexTVN</td>\n",
              "      <td>@BartStaszewski @panoptykon Życie w bańce GW i...</td>\n",
              "      <td>NaN</td>\n",
              "      <td>NaN</td>\n",
              "    </tr>\n",
              "    <tr>\n",
              "      <th>73</th>\n",
              "      <td>73.0</td>\n",
              "      <td>1396920591924580353</td>\n",
              "      <td>1221969871371677701</td>\n",
              "      <td>Konfederacja</td>\n",
              "      <td>TSUE|UE|TK</td>\n",
              "      <td>#wtylewizji TSUE uznało, że zwyczaje kota Kacz...</td>\n",
              "      <td>NaN</td>\n",
              "      <td>NaN</td>\n",
              "    </tr>\n",
              "    <tr>\n",
              "      <th>74</th>\n",
              "      <td>74.0</td>\n",
              "      <td>1373766703935586306</td>\n",
              "      <td>1221969871371677701</td>\n",
              "      <td>Konfederacja</td>\n",
              "      <td>LexTVN</td>\n",
              "      <td>@bbudka Nie możecie zaszczuwać ludzi wraz z ic...</td>\n",
              "      <td>NaN</td>\n",
              "      <td>NaN</td>\n",
              "    </tr>\n",
              "    <tr>\n",
              "      <th>75</th>\n",
              "      <td>75.0</td>\n",
              "      <td>1459556594207932419</td>\n",
              "      <td>1221969871371677701</td>\n",
              "      <td>Konfederacja</td>\n",
              "      <td>LexTVN</td>\n",
              "      <td>@tvn24 Czemu TVN nie pomaga w Syrii? Przecież ...</td>\n",
              "      <td>NaN</td>\n",
              "      <td>NaN</td>\n",
              "    </tr>\n",
              "  </tbody>\n",
              "</table>\n",
              "</div>\n",
              "      <button class=\"colab-df-convert\" onclick=\"convertToInteractive('df-ca993e81-1522-4fdc-968a-5fec3f5fa824')\"\n",
              "              title=\"Convert this dataframe to an interactive table.\"\n",
              "              style=\"display:none;\">\n",
              "\n",
              "  <svg xmlns=\"http://www.w3.org/2000/svg\" height=\"24px\"viewBox=\"0 0 24 24\"\n",
              "       width=\"24px\">\n",
              "    <path d=\"M0 0h24v24H0V0z\" fill=\"none\"/>\n",
              "    <path d=\"M18.56 5.44l.94 2.06.94-2.06 2.06-.94-2.06-.94-.94-2.06-.94 2.06-2.06.94zm-11 1L8.5 8.5l.94-2.06 2.06-.94-2.06-.94L8.5 2.5l-.94 2.06-2.06.94zm10 10l.94 2.06.94-2.06 2.06-.94-2.06-.94-.94-2.06-.94 2.06-2.06.94z\"/><path d=\"M17.41 7.96l-1.37-1.37c-.4-.4-.92-.59-1.43-.59-.52 0-1.04.2-1.43.59L10.3 9.45l-7.72 7.72c-.78.78-.78 2.05 0 2.83L4 21.41c.39.39.9.59 1.41.59.51 0 1.02-.2 1.41-.59l7.78-7.78 2.81-2.81c.8-.78.8-2.07 0-2.86zM5.41 20L4 18.59l7.72-7.72 1.47 1.35L5.41 20z\"/>\n",
              "  </svg>\n",
              "      </button>\n",
              "\n",
              "\n",
              "\n",
              "    <div id=\"df-3523c548-4e0d-4fe4-b0f7-fa63b4e75732\">\n",
              "      <button class=\"colab-df-quickchart\" onclick=\"quickchart('df-3523c548-4e0d-4fe4-b0f7-fa63b4e75732')\"\n",
              "              title=\"Suggest charts.\"\n",
              "              style=\"display:none;\">\n",
              "\n",
              "<svg xmlns=\"http://www.w3.org/2000/svg\" height=\"24px\"viewBox=\"0 0 24 24\"\n",
              "     width=\"24px\">\n",
              "    <g>\n",
              "        <path d=\"M19 3H5c-1.1 0-2 .9-2 2v14c0 1.1.9 2 2 2h14c1.1 0 2-.9 2-2V5c0-1.1-.9-2-2-2zM9 17H7v-7h2v7zm4 0h-2V7h2v10zm4 0h-2v-4h2v4z\"/>\n",
              "    </g>\n",
              "</svg>\n",
              "      </button>\n",
              "    </div>\n",
              "\n",
              "<style>\n",
              "  .colab-df-quickchart {\n",
              "    background-color: #E8F0FE;\n",
              "    border: none;\n",
              "    border-radius: 50%;\n",
              "    cursor: pointer;\n",
              "    display: none;\n",
              "    fill: #1967D2;\n",
              "    height: 32px;\n",
              "    padding: 0 0 0 0;\n",
              "    width: 32px;\n",
              "  }\n",
              "\n",
              "  .colab-df-quickchart:hover {\n",
              "    background-color: #E2EBFA;\n",
              "    box-shadow: 0px 1px 2px rgba(60, 64, 67, 0.3), 0px 1px 3px 1px rgba(60, 64, 67, 0.15);\n",
              "    fill: #174EA6;\n",
              "  }\n",
              "\n",
              "  [theme=dark] .colab-df-quickchart {\n",
              "    background-color: #3B4455;\n",
              "    fill: #D2E3FC;\n",
              "  }\n",
              "\n",
              "  [theme=dark] .colab-df-quickchart:hover {\n",
              "    background-color: #434B5C;\n",
              "    box-shadow: 0px 1px 3px 1px rgba(0, 0, 0, 0.15);\n",
              "    filter: drop-shadow(0px 1px 2px rgba(0, 0, 0, 0.3));\n",
              "    fill: #FFFFFF;\n",
              "  }\n",
              "</style>\n",
              "\n",
              "    <script>\n",
              "      async function quickchart(key) {\n",
              "        const containerElement = document.querySelector('#' + key);\n",
              "        const charts = await google.colab.kernel.invokeFunction(\n",
              "            'suggestCharts', [key], {});\n",
              "      }\n",
              "    </script>\n",
              "\n",
              "      <script>\n",
              "\n",
              "function displayQuickchartButton(domScope) {\n",
              "  let quickchartButtonEl =\n",
              "    domScope.querySelector('#df-3523c548-4e0d-4fe4-b0f7-fa63b4e75732 button.colab-df-quickchart');\n",
              "  quickchartButtonEl.style.display =\n",
              "    google.colab.kernel.accessAllowed ? 'block' : 'none';\n",
              "}\n",
              "\n",
              "        displayQuickchartButton(document);\n",
              "      </script>\n",
              "      <style>\n",
              "    .colab-df-container {\n",
              "      display:flex;\n",
              "      flex-wrap:wrap;\n",
              "      gap: 12px;\n",
              "    }\n",
              "\n",
              "    .colab-df-convert {\n",
              "      background-color: #E8F0FE;\n",
              "      border: none;\n",
              "      border-radius: 50%;\n",
              "      cursor: pointer;\n",
              "      display: none;\n",
              "      fill: #1967D2;\n",
              "      height: 32px;\n",
              "      padding: 0 0 0 0;\n",
              "      width: 32px;\n",
              "    }\n",
              "\n",
              "    .colab-df-convert:hover {\n",
              "      background-color: #E2EBFA;\n",
              "      box-shadow: 0px 1px 2px rgba(60, 64, 67, 0.3), 0px 1px 3px 1px rgba(60, 64, 67, 0.15);\n",
              "      fill: #174EA6;\n",
              "    }\n",
              "\n",
              "    [theme=dark] .colab-df-convert {\n",
              "      background-color: #3B4455;\n",
              "      fill: #D2E3FC;\n",
              "    }\n",
              "\n",
              "    [theme=dark] .colab-df-convert:hover {\n",
              "      background-color: #434B5C;\n",
              "      box-shadow: 0px 1px 3px 1px rgba(0, 0, 0, 0.15);\n",
              "      filter: drop-shadow(0px 1px 2px rgba(0, 0, 0, 0.3));\n",
              "      fill: #FFFFFF;\n",
              "    }\n",
              "  </style>\n",
              "\n",
              "      <script>\n",
              "        const buttonEl =\n",
              "          document.querySelector('#df-ca993e81-1522-4fdc-968a-5fec3f5fa824 button.colab-df-convert');\n",
              "        buttonEl.style.display =\n",
              "          google.colab.kernel.accessAllowed ? 'block' : 'none';\n",
              "\n",
              "        async function convertToInteractive(key) {\n",
              "          const element = document.querySelector('#df-ca993e81-1522-4fdc-968a-5fec3f5fa824');\n",
              "          const dataTable =\n",
              "            await google.colab.kernel.invokeFunction('convertToInteractive',\n",
              "                                                     [key], {});\n",
              "          if (!dataTable) return;\n",
              "\n",
              "          const docLinkHtml = 'Like what you see? Visit the ' +\n",
              "            '<a target=\"_blank\" href=https://colab.research.google.com/notebooks/data_table.ipynb>data table notebook</a>'\n",
              "            + ' to learn more about interactive tables.';\n",
              "          element.innerHTML = '';\n",
              "          dataTable['output_type'] = 'display_data';\n",
              "          await google.colab.output.renderOutput(dataTable, element);\n",
              "          const docLink = document.createElement('div');\n",
              "          docLink.innerHTML = docLinkHtml;\n",
              "          element.appendChild(docLink);\n",
              "        }\n",
              "      </script>\n",
              "    </div>\n",
              "  </div>\n"
            ]
          },
          "metadata": {},
          "execution_count": 45
        }
      ],
      "source": [
        "data_df = df.loc[df['user_id'].isin(list_of_top_user)]\n",
        "data_df.head(10)\n"
      ]
    },
    {
      "cell_type": "code",
      "execution_count": null,
      "metadata": {
        "colab": {
          "base_uri": "https://localhost:8080/",
          "height": 354
        },
        "id": "dbp2lI25Ob2k",
        "outputId": "5a65c00e-f451-4c3d-ca19-c1eb38bc373e"
      },
      "outputs": [
        {
          "output_type": "execute_result",
          "data": {
            "text/plain": [
              "   Unnamed: 0             tweet_id              user_id        party  \\\n",
              "0        54.0  1371421509118525441  1221188830834962435          PiS   \n",
              "1         NaN  1387232892921786368            329439741       Lewica   \n",
              "2        80.0  1447295900192288774            240225464  Polska 2050   \n",
              "3        33.0  1457027644575387654   906862587886882817          PiS   \n",
              "4        38.0  1446757142241873920   917441213690675200           PO   \n",
              "\n",
              "       topics                                               text  \\\n",
              "0      LexTVN  Hołownia razem z platformą i lewicą wystawiają...   \n",
              "1     Aborcja  szukam usilnie zgłoszonych budkę postulatów wa...   \n",
              "2  TSUE|UE|TK  @Witold37939310 @Anna_Mierzynska @szymon_holow...   \n",
              "3  TSUE|UE|TK  @JPomorze @barbaraanowacka Proszę poczytać. W ...   \n",
              "4  TSUE|UE|TK  Dzisiaj 2012 Przypadków #COVID19 ❗️\\n4 Fala ju...   \n",
              "\n",
              "                                     lemmatized_text  \\\n",
              "0                                                NaN   \n",
              "1  szukać usilnie zgłoszonych budka postulat waru...   \n",
              "2                                                NaN   \n",
              "3                                                NaN   \n",
              "4                                                NaN   \n",
              "\n",
              "                         lemmatized_text_only_common  \n",
              "0                                                NaN  \n",
              "1  szukać budka postulat popart funduszodbudowy p...  \n",
              "2                                                NaN  \n",
              "3                                                NaN  \n",
              "4                                                NaN  "
            ],
            "text/html": [
              "\n",
              "\n",
              "  <div id=\"df-a0510d03-e8c4-42ae-b4f1-84ee7cb319c0\">\n",
              "    <div class=\"colab-df-container\">\n",
              "      <div>\n",
              "<style scoped>\n",
              "    .dataframe tbody tr th:only-of-type {\n",
              "        vertical-align: middle;\n",
              "    }\n",
              "\n",
              "    .dataframe tbody tr th {\n",
              "        vertical-align: top;\n",
              "    }\n",
              "\n",
              "    .dataframe thead th {\n",
              "        text-align: right;\n",
              "    }\n",
              "</style>\n",
              "<table border=\"1\" class=\"dataframe\">\n",
              "  <thead>\n",
              "    <tr style=\"text-align: right;\">\n",
              "      <th></th>\n",
              "      <th>Unnamed: 0</th>\n",
              "      <th>tweet_id</th>\n",
              "      <th>user_id</th>\n",
              "      <th>party</th>\n",
              "      <th>topics</th>\n",
              "      <th>text</th>\n",
              "      <th>lemmatized_text</th>\n",
              "      <th>lemmatized_text_only_common</th>\n",
              "    </tr>\n",
              "  </thead>\n",
              "  <tbody>\n",
              "    <tr>\n",
              "      <th>0</th>\n",
              "      <td>54.0</td>\n",
              "      <td>1371421509118525441</td>\n",
              "      <td>1221188830834962435</td>\n",
              "      <td>PiS</td>\n",
              "      <td>LexTVN</td>\n",
              "      <td>Hołownia razem z platformą i lewicą wystawiają...</td>\n",
              "      <td>NaN</td>\n",
              "      <td>NaN</td>\n",
              "    </tr>\n",
              "    <tr>\n",
              "      <th>1</th>\n",
              "      <td>NaN</td>\n",
              "      <td>1387232892921786368</td>\n",
              "      <td>329439741</td>\n",
              "      <td>Lewica</td>\n",
              "      <td>Aborcja</td>\n",
              "      <td>szukam usilnie zgłoszonych budkę postulatów wa...</td>\n",
              "      <td>szukać usilnie zgłoszonych budka postulat waru...</td>\n",
              "      <td>szukać budka postulat popart funduszodbudowy p...</td>\n",
              "    </tr>\n",
              "    <tr>\n",
              "      <th>2</th>\n",
              "      <td>80.0</td>\n",
              "      <td>1447295900192288774</td>\n",
              "      <td>240225464</td>\n",
              "      <td>Polska 2050</td>\n",
              "      <td>TSUE|UE|TK</td>\n",
              "      <td>@Witold37939310 @Anna_Mierzynska @szymon_holow...</td>\n",
              "      <td>NaN</td>\n",
              "      <td>NaN</td>\n",
              "    </tr>\n",
              "    <tr>\n",
              "      <th>3</th>\n",
              "      <td>33.0</td>\n",
              "      <td>1457027644575387654</td>\n",
              "      <td>906862587886882817</td>\n",
              "      <td>PiS</td>\n",
              "      <td>TSUE|UE|TK</td>\n",
              "      <td>@JPomorze @barbaraanowacka Proszę poczytać. W ...</td>\n",
              "      <td>NaN</td>\n",
              "      <td>NaN</td>\n",
              "    </tr>\n",
              "    <tr>\n",
              "      <th>4</th>\n",
              "      <td>38.0</td>\n",
              "      <td>1446757142241873920</td>\n",
              "      <td>917441213690675200</td>\n",
              "      <td>PO</td>\n",
              "      <td>TSUE|UE|TK</td>\n",
              "      <td>Dzisiaj 2012 Przypadków #COVID19 ❗️\\n4 Fala ju...</td>\n",
              "      <td>NaN</td>\n",
              "      <td>NaN</td>\n",
              "    </tr>\n",
              "  </tbody>\n",
              "</table>\n",
              "</div>\n",
              "      <button class=\"colab-df-convert\" onclick=\"convertToInteractive('df-a0510d03-e8c4-42ae-b4f1-84ee7cb319c0')\"\n",
              "              title=\"Convert this dataframe to an interactive table.\"\n",
              "              style=\"display:none;\">\n",
              "\n",
              "  <svg xmlns=\"http://www.w3.org/2000/svg\" height=\"24px\"viewBox=\"0 0 24 24\"\n",
              "       width=\"24px\">\n",
              "    <path d=\"M0 0h24v24H0V0z\" fill=\"none\"/>\n",
              "    <path d=\"M18.56 5.44l.94 2.06.94-2.06 2.06-.94-2.06-.94-.94-2.06-.94 2.06-2.06.94zm-11 1L8.5 8.5l.94-2.06 2.06-.94-2.06-.94L8.5 2.5l-.94 2.06-2.06.94zm10 10l.94 2.06.94-2.06 2.06-.94-2.06-.94-.94-2.06-.94 2.06-2.06.94z\"/><path d=\"M17.41 7.96l-1.37-1.37c-.4-.4-.92-.59-1.43-.59-.52 0-1.04.2-1.43.59L10.3 9.45l-7.72 7.72c-.78.78-.78 2.05 0 2.83L4 21.41c.39.39.9.59 1.41.59.51 0 1.02-.2 1.41-.59l7.78-7.78 2.81-2.81c.8-.78.8-2.07 0-2.86zM5.41 20L4 18.59l7.72-7.72 1.47 1.35L5.41 20z\"/>\n",
              "  </svg>\n",
              "      </button>\n",
              "\n",
              "\n",
              "\n",
              "    <div id=\"df-191018e8-1400-452b-9355-c0ba18c153c6\">\n",
              "      <button class=\"colab-df-quickchart\" onclick=\"quickchart('df-191018e8-1400-452b-9355-c0ba18c153c6')\"\n",
              "              title=\"Suggest charts.\"\n",
              "              style=\"display:none;\">\n",
              "\n",
              "<svg xmlns=\"http://www.w3.org/2000/svg\" height=\"24px\"viewBox=\"0 0 24 24\"\n",
              "     width=\"24px\">\n",
              "    <g>\n",
              "        <path d=\"M19 3H5c-1.1 0-2 .9-2 2v14c0 1.1.9 2 2 2h14c1.1 0 2-.9 2-2V5c0-1.1-.9-2-2-2zM9 17H7v-7h2v7zm4 0h-2V7h2v10zm4 0h-2v-4h2v4z\"/>\n",
              "    </g>\n",
              "</svg>\n",
              "      </button>\n",
              "    </div>\n",
              "\n",
              "<style>\n",
              "  .colab-df-quickchart {\n",
              "    background-color: #E8F0FE;\n",
              "    border: none;\n",
              "    border-radius: 50%;\n",
              "    cursor: pointer;\n",
              "    display: none;\n",
              "    fill: #1967D2;\n",
              "    height: 32px;\n",
              "    padding: 0 0 0 0;\n",
              "    width: 32px;\n",
              "  }\n",
              "\n",
              "  .colab-df-quickchart:hover {\n",
              "    background-color: #E2EBFA;\n",
              "    box-shadow: 0px 1px 2px rgba(60, 64, 67, 0.3), 0px 1px 3px 1px rgba(60, 64, 67, 0.15);\n",
              "    fill: #174EA6;\n",
              "  }\n",
              "\n",
              "  [theme=dark] .colab-df-quickchart {\n",
              "    background-color: #3B4455;\n",
              "    fill: #D2E3FC;\n",
              "  }\n",
              "\n",
              "  [theme=dark] .colab-df-quickchart:hover {\n",
              "    background-color: #434B5C;\n",
              "    box-shadow: 0px 1px 3px 1px rgba(0, 0, 0, 0.15);\n",
              "    filter: drop-shadow(0px 1px 2px rgba(0, 0, 0, 0.3));\n",
              "    fill: #FFFFFF;\n",
              "  }\n",
              "</style>\n",
              "\n",
              "    <script>\n",
              "      async function quickchart(key) {\n",
              "        const containerElement = document.querySelector('#' + key);\n",
              "        const charts = await google.colab.kernel.invokeFunction(\n",
              "            'suggestCharts', [key], {});\n",
              "      }\n",
              "    </script>\n",
              "\n",
              "      <script>\n",
              "\n",
              "function displayQuickchartButton(domScope) {\n",
              "  let quickchartButtonEl =\n",
              "    domScope.querySelector('#df-191018e8-1400-452b-9355-c0ba18c153c6 button.colab-df-quickchart');\n",
              "  quickchartButtonEl.style.display =\n",
              "    google.colab.kernel.accessAllowed ? 'block' : 'none';\n",
              "}\n",
              "\n",
              "        displayQuickchartButton(document);\n",
              "      </script>\n",
              "      <style>\n",
              "    .colab-df-container {\n",
              "      display:flex;\n",
              "      flex-wrap:wrap;\n",
              "      gap: 12px;\n",
              "    }\n",
              "\n",
              "    .colab-df-convert {\n",
              "      background-color: #E8F0FE;\n",
              "      border: none;\n",
              "      border-radius: 50%;\n",
              "      cursor: pointer;\n",
              "      display: none;\n",
              "      fill: #1967D2;\n",
              "      height: 32px;\n",
              "      padding: 0 0 0 0;\n",
              "      width: 32px;\n",
              "    }\n",
              "\n",
              "    .colab-df-convert:hover {\n",
              "      background-color: #E2EBFA;\n",
              "      box-shadow: 0px 1px 2px rgba(60, 64, 67, 0.3), 0px 1px 3px 1px rgba(60, 64, 67, 0.15);\n",
              "      fill: #174EA6;\n",
              "    }\n",
              "\n",
              "    [theme=dark] .colab-df-convert {\n",
              "      background-color: #3B4455;\n",
              "      fill: #D2E3FC;\n",
              "    }\n",
              "\n",
              "    [theme=dark] .colab-df-convert:hover {\n",
              "      background-color: #434B5C;\n",
              "      box-shadow: 0px 1px 3px 1px rgba(0, 0, 0, 0.15);\n",
              "      filter: drop-shadow(0px 1px 2px rgba(0, 0, 0, 0.3));\n",
              "      fill: #FFFFFF;\n",
              "    }\n",
              "  </style>\n",
              "\n",
              "      <script>\n",
              "        const buttonEl =\n",
              "          document.querySelector('#df-a0510d03-e8c4-42ae-b4f1-84ee7cb319c0 button.colab-df-convert');\n",
              "        buttonEl.style.display =\n",
              "          google.colab.kernel.accessAllowed ? 'block' : 'none';\n",
              "\n",
              "        async function convertToInteractive(key) {\n",
              "          const element = document.querySelector('#df-a0510d03-e8c4-42ae-b4f1-84ee7cb319c0');\n",
              "          const dataTable =\n",
              "            await google.colab.kernel.invokeFunction('convertToInteractive',\n",
              "                                                     [key], {});\n",
              "          if (!dataTable) return;\n",
              "\n",
              "          const docLinkHtml = 'Like what you see? Visit the ' +\n",
              "            '<a target=\"_blank\" href=https://colab.research.google.com/notebooks/data_table.ipynb>data table notebook</a>'\n",
              "            + ' to learn more about interactive tables.';\n",
              "          element.innerHTML = '';\n",
              "          dataTable['output_type'] = 'display_data';\n",
              "          await google.colab.output.renderOutput(dataTable, element);\n",
              "          const docLink = document.createElement('div');\n",
              "          docLink.innerHTML = docLinkHtml;\n",
              "          element.appendChild(docLink);\n",
              "        }\n",
              "      </script>\n",
              "    </div>\n",
              "  </div>\n"
            ]
          },
          "metadata": {},
          "execution_count": 46
        }
      ],
      "source": [
        "\n",
        "# shuffle\n",
        "data_df = data_df.dropna(subset=['text'])\n",
        "data_df = data_df.sample(frac=1).reset_index(drop=True)\n",
        "data_df.head()\n"
      ]
    },
    {
      "cell_type": "code",
      "execution_count": null,
      "metadata": {
        "colab": {
          "base_uri": "https://localhost:8080/",
          "height": 537
        },
        "id": "ckKpCyT7L6_r",
        "outputId": "3c10abf2-22cd-45de-a01b-4bf4c317e303"
      },
      "outputs": [
        {
          "output_type": "execute_result",
          "data": {
            "text/plain": [
              "PO              5746\n",
              "PiS             4646\n",
              "Konfederacja    4154\n",
              "Lewica          3566\n",
              "Polska 2050     2452\n",
              "Name: party, dtype: int64"
            ]
          },
          "metadata": {},
          "execution_count": 47
        },
        {
          "output_type": "display_data",
          "data": {
            "text/plain": [
              "<Figure size 640x480 with 1 Axes>"
            ],
            "image/png": "[encoded data removed]"
          },
          "metadata": {}
        }
      ],
      "source": [
        "data_df['party'].hist()\n",
        "data_df['party'].value_counts()"
      ]
    },
    {
      "cell_type": "markdown",
      "metadata": {
        "id": "z1Sl6BU3Z7nn"
      },
      "source": [
        "#Preprocessing"
      ]
    },
    {
      "cell_type": "code",
      "execution_count": null,
      "metadata": {
        "colab": {
          "base_uri": "https://localhost:8080/"
        },
        "id": "IidSUCIEZ-wK",
        "outputId": "68b210d5-29b1-4a46-d1bb-5b1ae72b8d32"
      },
      "outputs": [
        {
          "output_type": "stream",
          "name": "stdout",
          "text": [
            "['wyjaśni oco chodzi twj aferze likwidować tvn czytał', '@MarcinTyc lextvn uderza w TVN, kompletnie inna koncesja', 'znają historie opisana wyborczej pokazana tvn antypolska', 'ludzie podpisują przynoszą podpisane listy walka prawa kobiet trwa pabianice legalną aborcją kompromisów legalnaaborcja aborcjabezkompromisow strajkkobiet kobietadecyduje', 'prawa wolności konstytucyjne np wolność prowadzenia działalności gospodarczej ograniczone wyłącznie wprowadzeniu stanu nadzwyczajnego drodze ustawy mówimy rząd działał niezgodnie konstytucją', 'Morawiecki w PE: Najwyższym prawem jest konstytucja https://t.co/gZRHp7kNny #wieszwiecej', 'złapał ryja jachire franka koniec piękne dojechał pis polexit', '@kaska_fu @strajkkobiet @Lewica Zaraz, to lepiej zablokować kasę dla ludzi. Polityka odmrazania sobie uszu? A może chodzi o to, że to nie PO, tylko lewica się dogadała. Dla przypomnienia - czy to co mówił Budka, pisała Jachira czy Lubnauer to też była kolaboracja z PiS? https://t.co/LXCJJZTLBT', 'prawa kobiet kaczyńskim krysią sałatka julka wolfgang beatkami zerem etc komedia ratujcie pieniądze funduszu solidarności zamiast pomoc kobietom wydaje swoich kumpli', '@Vojtekus Czy wszyscy już się domyślili gdzie trafią matki, żony, dzieci i kochanki aparatczyków PiS zwalniane ze SSP w ramach walki z nepotyzmem?\\nBędą tworzyć Radę Nadzorczą Nowego TVN, to prywatna spółka, więc jaki nepotyzm. 😉', 'polacy odwracają pis fajny tytuł podrzuciłem tvn', 'kaczyński paranoje paranoje rok ogłosiłby klęskę żywiołową odbyłoby zgodnie konstytucją sasin przebimbał kasy poczta polska musiałaby udawać pkw przedsiębiorcy dostaliby odszkodowania wówczas byłoby', '@mackowaty094 @dachrzynski @AndrzejSzaja @PaulinaMPabian @strajkkobiet @Lewica Co Wy macie z tą lewicą? Kompleks? Jak PO chciała iść do PiS gadać o Funduszu to było ok, jak to samo robi Lewica to targowica i zdrada. To się nazywa hipokryzja, w tym przypadku wyjątkowo wyraźna. Czekam jak PO zagłosuje przeciwko #FunduszOdbudowy razem z Ziobrą i Bosakiem.', 'konstytucja bodnar nadal pełni swój urząd kuchareczka komunistycznym prokuratorem nielegalnie zasiadają tk', 'prosę tsue zawiesić togi wieszakach sąd dotrze tsue przekracza kompetnecje łamie prawo', '@MorawieckiM ,@ZiobroPL : 1/ratyfikacja Traktatu Lizbonskiego( podpisanego przez prezydenta RP L Kaczyńskiego) uznaliśmy wyższość prawa europejskiego nad krajowym; zgodność Traktatu Lizbońskiego z Konstytucja stwierdził już raz TK! Wiec pytanie PMM do trybunału  nie ma uzasadnień', '@inzBob @lkwarzecha To takie lewackie pierdolamento by sie przypadkiem nie trzeba było zajmować potomstwem-do tego jest potrzebna aborcja na kazdym rogu na pstrykniecie palcem.', '@radekfogiel @JakubWinny ej, ale w sondażu dla TVN... straciliśmy 4 punkty procentowe, ale zrobimy grafikę, że zyskaliśmy 4 punkty procentowe może nikt się niezorietnuje. xd', 'Zaraz się okaże, że KE i TSUE nie pozwalają odwołać tego \"ambasadora\"\\n🤣🤣🤣😂😂😂 https://t.co/oGKdaHpRn9', 'porządku przypomnę lech kaczyński zgodził powołanie życia tsue premier morawiecki zgodził ocenę tsue naszej praworządności']\n"
          ]
        }
      ],
      "source": [
        "print(list(data_df['text'])[:20])"
      ]
    },
    {
      "cell_type": "code",
      "execution_count": null,
      "metadata": {
        "id": "6xlmFE8aaghq"
      },
      "outputs": [],
      "source": [
        "#usuwanie oznaczeń\n",
        "for i in range(len(data_df.text)):\n",
        "    start = \"@\"\n",
        "    end = ' '\n",
        "    text = data_df.loc[i, 'text']\n",
        "    start_index = text.find(start)\n",
        "\n",
        "    while start_index != -1:\n",
        "        end_index = text.find(end, start_index + len(start))\n",
        "        if end_index != -1:\n",
        "            text = text[:start_index] + text[end_index:]\n",
        "        else:\n",
        "            text = text[:start_index]\n",
        "        start_index = text.find(start, start_index + 1)\n",
        "\n",
        "    data_df.loc[i, 'text'] = text"
      ]
    },
    {
      "cell_type": "code",
      "execution_count": null,
      "metadata": {
        "id": "I3O4q6izhdZS"
      },
      "outputs": [],
      "source": [
        "#usuwanie linkow\n",
        "for i in range(len(data_df.text)):\n",
        "    start = \"https://\"\n",
        "    end = ' '\n",
        "    text = data_df.loc[i, 'text']\n",
        "    start_index = text.find(start)\n",
        "\n",
        "    while start_index != -1:\n",
        "        end_index = text.find(end, start_index + len(start))\n",
        "        if end_index != -1:\n",
        "            text = text[:start_index] + text[end_index:]\n",
        "        else:\n",
        "            text = text[:start_index]\n",
        "        start_index = text.find(start, start_index + 1)\n",
        "\n",
        "    data_df.loc[i, 'text'] = text"
      ]
    },
    {
      "cell_type": "code",
      "execution_count": null,
      "metadata": {
        "id": "-wBUqK9WmRZX"
      },
      "outputs": [],
      "source": [
        "#usuwanie znaku nowej linii\n",
        "for i in range(len(data_df.text)):\n",
        "    data_df.loc[i, 'text']=data_df.loc[i, 'text'].replace(\"\\n\", \" \")"
      ]
    },
    {
      "cell_type": "code",
      "execution_count": null,
      "metadata": {
        "id": "PsIZ397sk93D",
        "colab": {
          "base_uri": "https://localhost:8080/"
        },
        "outputId": "473689f0-5488-4bc7-b83a-80d99fdb9dee"
      },
      "outputs": [
        {
          "output_type": "execute_result",
          "data": {
            "text/plain": [
              "0     premier morawiecki reaguje decyzję tsue ws kop...\n",
              "1     może to putin ma tak silne kompromanty na rząd...\n",
              "2     tematy na które polacy są gotowi 🔴uczucia reli...\n",
              "3        ale jakbyś miała wybrać obejrzenie porno a ...\n",
              "4                        miazga pięknie rozjeżdżają tvn\n",
              "5                   chociażby ujazdowski przytulony pis\n",
              "6     skacząc kanałach zwróciłem uwagę fakt obecnośc...\n",
              "7      toteż poniżej jest całość listu św mateusza z...\n",
              "8        u tych łajdaków słowo wolność znaczy zupełn...\n",
              "9     ostrołęka bełchatów turów  polska potrzebuje t...\n",
              "10    policja prokuratura wyrobiła niszczeniem mieni...\n",
              "11         piszesz dalej tsue wczorajszym lądowaniu ufo\n",
              "12    naprawdę powiedział dozwolone zastosowanie pew...\n",
              "13             jakieś wyjście zdrowy wkurw bywa twórczy\n",
              "14     dzisiaj na szali jest polska konstytucja kont...\n",
              "15    polsat skręca w pis tvn to platformerska tuba ...\n",
              "16      im dalej od unii europejskiej tym bliżej fas...\n",
              "17          ke się ucieszy strasburski trybunał również\n",
              "18       obywatele platformy zapominacie co głosiliś...\n",
              "19     już zapomniał pan jak chodził na protesty str...\n",
              "20    jedynym rozwiązaniem izolacja wariatów lewicy ...\n",
              "21    polska straci kolejne miliony upór kaczyńskieg...\n",
              "22    skandal tsue domagają kar polski niewykonanie ...\n",
              "23    p godek walczy równouprawnienie zniesienie rzy...\n",
              "24     z drugiej strony tsue już szósty rok zajmuje ...\n",
              "25    foch przyłębskiej marksie konstytucja julia pr...\n",
              "26    część wierzy tvn mówi większość botów szerzący...\n",
              "27    projekt lewicy depenalizacja aborcja jedyną sz...\n",
              "28       nie umie albo manipuluje by odwracać uwagę ...\n",
              "29       my tym państwem w dużej mierze już jesteśmy...\n",
              "30    rafał trzaskowski wspiera zachęca działania ty...\n",
              "31    banda idiotów hashtagami tylkopis duda babiesl...\n",
              "32    kwestia suwerenności państwa polskiego narodow...\n",
              "33    💬 o tym czy konfederacja poprzez kontrole zasz...\n",
              "34    ue zbudowano kompromisie polski rząd zapomina ...\n",
              "35     min błaszczak odstąpił od tego zamówienia wg ...\n",
              "36    magdalena kołodziej ściga sędziów tsue nieuzas...\n",
              "37    na dobre rozbuja łódkę o nazwie polexit i prze...\n",
              "38                 22 wyrok tsue będzie chyba 8 grud...\n",
              "39                              tvn tego się nie ogląda\n",
              "40    podałeś błaźnie przykładu cywilizowanego kraju...\n",
              "41    europejskie standardy libération sędziwie tsue...\n",
              "42         szkoda że kevin sam w domu nie leci na tvn 😂\n",
              "43    naprawdę bądźcie i chodźcie na te protesty❗️  ...\n",
              "44        tvn trzeba zaorać bo oni nigdy się nie nauczą\n",
              "45                                                  ...\n",
              "46    takiego rozstrzygnięcia rozstrzygnięcie tsue b...\n",
              "47      co takiego związki partnerskie aborcję swoje...\n",
              "48    art 78 konstytucji artykule płodach art 87 kon...\n",
              "49    skreśliło zainwestowali przepchnięciu lextvn m...\n",
              "Name: text, dtype: object"
            ]
          },
          "metadata": {},
          "execution_count": 15
        }
      ],
      "source": [
        "#usuwanie interpunkcji i wielkich liter\n",
        "import string\n",
        "for i in range(len(data_df.text)):\n",
        "  data_df.loc[i, 'text']=data_df.loc[i,'text'].translate(str.maketrans('', '', string.punctuation)).lower()\n",
        "data_df.text.head(50)"
      ]
    },
    {
      "cell_type": "code",
      "execution_count": null,
      "metadata": {
        "id": "nwiO9rNt4egT"
      },
      "outputs": [],
      "source": [
        "!pip install spacy==3.2.0\n",
        "!python -m spacy download pl_core_news_md"
      ]
    },
    {
      "cell_type": "code",
      "execution_count": null,
      "metadata": {
        "colab": {
          "base_uri": "https://localhost:8080/"
        },
        "id": "2cFgC3gKcxK4",
        "outputId": "14564f19-e6f8-4ec1-a974-410953428f75"
      },
      "outputs": [
        {
          "name": "stderr",
          "output_type": "stream",
          "text": [
            "/usr/local/lib/python3.10/dist-packages/spacy/util.py:887: UserWarning: [W095] Model 'pl_core_news_md' (3.2.0) was trained with spaCy v3.2 and may not be 100% compatible with the current version (3.5.2). If you see errors or degraded performance, download a newer compatible model or retrain your custom model with the current spaCy version. For more details and available updates, run: python -m spacy validate\n",
            "  warnings.warn(warn_msg)\n"
          ]
        }
      ],
      "source": [
        "import spacy\n",
        "nlp=spacy.load(\"pl_core_news_md\")\n",
        "def remove_stopwords(text):\n",
        "  doc=nlp(text)\n",
        "  good_words= [token.text for token in doc if not token.is_stop]\n",
        "  return ' '.join(good_words)\n",
        "\n",
        "def remove_nonwords(text):\n",
        "    doc = nlp(text)\n",
        "    good_words=[token.text for token in doc if token.is_alpha or token.is_digit]\n",
        "    return ' '.join(good_words)\n",
        "\n"
      ]
    },
    {
      "cell_type": "code",
      "execution_count": null,
      "metadata": {
        "id": "huleKRKeoHpx"
      },
      "outputs": [],
      "source": [
        "#usuwanie stop words i usuwanie slow z niepolskimi znakami trwa u mnie kolo 6-7 minut\n",
        "data_df['text'] = data_df['text'].apply(remove_nonwords)\n",
        "data_df['text'] = data_df['text'].apply(remove_stopwords)"
      ]
    },
    {
      "cell_type": "code",
      "execution_count": null,
      "metadata": {
        "id": "o2EqHct05GYj"
      },
      "outputs": [],
      "source": [
        "#lematyzacja tekstu\n",
        "i=0\n",
        "for text in data_df['text']:\n",
        "  doc=nlp(text)\n",
        "  lemmas= [token.lemma_ for token in doc]\n",
        "  lemmatized_text=' '.join(lemmas)\n",
        "  data_df.loc[i, 'lemmatized_text']=lemmatized_text\n",
        "  i=i+1\n",
        "\n"
      ]
    },
    {
      "cell_type": "code",
      "execution_count": null,
      "metadata": {
        "colab": {
          "base_uri": "https://localhost:8080/"
        },
        "id": "WJ90uhxAGBNR",
        "outputId": "c4c15317-9106-444f-8484-bd7d906ae40f"
      },
      "outputs": [
        {
          "name": "stdout",
          "output_type": "stream",
          "text": [
            "W całym korpusie jest: 150451 słów\n",
            "5000 najpopularniejszcyh słów występuje łącznie w całym korpusie 120734 razy\n",
            "Wszystkich, różnych słów w całym korpusie jest: 22866\n",
            "{'żebyś', 'wycofanie', 'zagrażać', 'neokrs', 'wyprowadzić', 'jaka', 'rozprawa', 'wydawać', 'wróg', 'kabała', 'paratrybunał', 'środowisko', 'czarny', 'okazywać', 'plk', 'wniosek', 'list', 'uczestnik', 'zgodność', 'dawka', 'okazja', 'przerzucić', 'zamordowanych', 'stołek', 'sprowadzić', 'przekazać', 'michnika', 'regulować', 'europejczyk', 'dyplomata', 'opinia', '2023', 'wyłączenie', 'pojawiać', 'ograniczanie', 'skandal', 'sposób', 'przyjaciółka', 'bilion', 'instytucja', 'odpuścić', 'nowyład', 'limita', 'ukryć', 'uzasadnić', 'nałożone', 'paranoja', 'sala', 'help', 'poradzić', 'kasia', 'tvn', 'zgodnie', 'sowiecki', 'powoływać', 'honorowy', 'nieustający', 'pan', 'model', 'kilkaset', 'dopuszczalny', 'refleksja', 'ścierwo', 'wsparcie', 'czechów', 'orban', 'zawieść', 'zapowiedzieć', 'oddanie', 'liberalizacja', 'szczyt', '247', 'agresja', 'współczuć', 'znaczyć', 'tomasz', 'gubić', 'morze', 'emocja', 'polecenie', 'towarzyszyć', 'stosunek', 'facebook', 'ścigać', 'sąd', 'relacja', 'myśleć', 'planować', 'usunięcie', 'pragnąć', 'szczegół', 'kapelan', 'pokazanie', 'kariera', 'pomyślić', 'porównywać', 'wzrok', 'wskazywać', 'gowina', 'hospicjum', 'wymysł', 'pała', 'całość', 'uwaga', 'paskudny', 'zarobić', 'prawny', 'czarownica', 'ogólnie', 'niczym', 'swoją', 'przyjemność', 'obawa', 'członkowski', 'retoryka', 'przyjąć', 'moneta', 'jednolity', 'cenić', 'śpiewać', 'tygodnik', 'prowincja', 'zobowiązywać', 'zarządzenie', 'strzelić', 'jacek', 'świadomie', 'nos', 'przedmiot', 'centrum', 'utworzyć', 'wyrazić', 'spontaniczny', 'złoto', 'wyjątek', 'wiecej', 'marszniepodleglosci', 'przeznaczyć', 'przestępczy', 'niemiec', 'przeć', 'dom', 'przerywać', 'przymus', 'koronawirus', 'covidowe', 'zamordysta', 'każdej', 'ekonomiczny', 'jakimi', 'docierać', 'obrazić', 'kaczyńskiemu', 'etap', 'zbędny', 'obiecywać', 'pogląd', 'wyjebać', 'wyjaśniać', 'syn', 'wygodnie', 'premier', 'szczepionkowy', 'tępić', 'oceniać', 'nowywał', 'zatrudnić', 'ego', 'interesować', 'dominujący', 'zakres', 'jawnie', 'obiad', 'pomoc', 'dyktat', 'rodzica', 'ciekawostka', 'nadrzędny', 'zainteresowany', 'trybunał', 'milion', 'mający', 'koszulka', 'wypadkogenne', 'matczak', 'koleś', 'samochód', 'wieść', 'onecie', 'policzyć', 'odwrotnie', 'urban', 'dzisiejszy', 'tradycja', 'pieniądz', 'wybiórczo', 'osobiście', 'prawnie', 'imbecyl', 'ryzykować', 'abramsy', 'włochy', 'jaki', 'wrak', 'objętych', 'pseudo', 'ustalać', 'wykonac', 'pub', 'radny', 'czworga', 'gwarantowany', 'ufo', 'szczególny', 'okrągły', 'zgotować', 'poprzez', 'mieć', 'dyplomacja', 'jaśnie', 'rozpoczynać', 'zjeść', '000', 'bezmyślny', 'gender', 'ekipa', 'kaczyści', 'mieszkaniec', 'kurde', 'nauczanie', 'spory', 'średni', 'należny', 'postawić', 'rzeka', 'szkoda', 'działać', 'kpo', 'interwencja', 'dziedzina', 'tylu', 'wyjebane', 'jpii', 'michnik', 'prostak', 'sprzedaż', 'imigrant', 'oficjalnie', 'kropka', 'zbliżać', 'transformacja', 'politycznie', 'niesłychany', 'żałosny', 'chamstwo', 'wpłynąć', 'sprytny', 'ojciec', 'tvpinfo', 'karmić', 'wyprane', 'przedwyborczy', 'małgorzata', 'tydzień', 'włączyć', 'dochodzić', 'zmierzać', 'znicz', 'głupia', 'refundowana', 'tłumaczenie', 'jakiegoś', 'ciąg', 'minimum', 'wywiad', 'wiwat', 'gary', 'czymś', 'sektor', 'wspólnie', 'stacja', 'żyd', 'strona', 'wskazać', 'człowieczeństwo', 'zadowolony', 'plan', 'zabezpieczać', 'ostro', 'zobaczenie', 'skomentować', 'orzekać', 'światło', 'tęcza', 'robić', 'głupi', 'życzenie', 'uwielbiać', 'czegoś', 'myślący', 'poprawnie', 'kontrola', 'zmarnować', 'zwyknąć', 'rzekomy', 'respirator', 'ruszać', 'niektórych', 'grzegorzu', 'błąd', 'wątpliwość', 'odpalić', 'zamknięcie', 'lider', 'przekonywać', 'publicystyczny', 'mieszkaniowy', 'przedłużenie', 'hipokryta', 'moją', 'nawołujący', 'wypuścić', 'zerowy', 'białymstoku', 'konkret', 'rzetelność', 'człowiek', 'daleki', 'aktualny', 'skuteczny', 'publicznie', 'zagrożone', 'doprowadzać', 'kwiat', 'nieprzestrzeganie', 'zomo', 'zaskarżyć', 'wzór', 'posiadanie', 'blokowanie', 'szczujnia', 'dotacja', 'tamtego', 'jakość', 'wypowiadać', 'ofensywa', 'alkohol', 'zalewski', 'edukacja', 'odnośnie', 'ratyfikować', 'rozbawić', 'przejmować', 'kolejność', 'kopa', 'opierać', 'domowy', 'tępy', 'orzeka', 'metoda', 'dobrobyt', 'piso', 'klasyk', 'postanowić', 'certyfikat', 'dostawa', 'musieć', 'suweren', 'zostajewunii', 'miliard', 'invitro', 'setka', 'wellman', 'modlić', 'uzasadnienie', 'burza', 'rosji', 'następny', 'ohydny', 'poród', 'wiadomo', 'atak', 'koalicjant', 'moralny', 'kaleta', 'dystans', 'płód', 'ujawnić', 'niezawisły', 'administracyjny', 'stracić', 'zapisany', 'polsatu', 'prolife', 'czciciel', 'zbrodzień', 'bredzi', 'kochany', 'ekspertyza', 'napisać', 'tvp', 'dupe', 'lewica', 'publicysta', '1000', 'szkodzić', 'michałowa', 'otóż', 'reakcja', 'ściągać', 'krytyka', 'zawarte', 'brzydki', 'terror', 'kurski', 'kiepski', 'prawo', 'szantażować', 'jebaćpis', 'zdjęcie', 'kolejny', 'trzask', 'komentować', 'podkreślić', 'gość', 'instrukcja', 'dzietność', 'mocno', 'zrozumieć', 'główny', 'wschód', 'zgon', 'sankcja', 'korzystny', 'przewodniczący', 'sen', 'zaprzestać', 'wpis', 'para', 'wrzutka', 'generalny', 'konkretnie', 'zbyszku', 'pięć', 'samolot', 'zaatakować', 'odrzucać', 'syndrom', 'bezpiecznie', 'zmniejszyć', 'wyspa', 'orda', 'energetyk', 'wyższość', 'strata', 'ufać', 'ochoczo', 'hamulec', 'finansowy', 'przypomnienie', 'praca', 'zamówienie', 'wpierw', 'europosłowie', 'warto', 'skierować', 'dworczyka', 'międzynarodowy', 'zachęta', 'straszny', 'silva', 'exposecnn', 'świętować', 'liść', 'ambasada', 'głośno', 'stop', 'stawiać', 'lud', 'akcja', 'białowieski', 'kilometrówka', 'spowodować', 'jebany', 'szum', 'wściekły', 'czysty', 'artysta', 'wybór', 'akceptować', 'umieralność', 'twitterowy', 'skazywać', 'kraków', 'włazić', 'bezkarność', 'pedofil', 'kodeks', 'tyg', 'korzyść', 'białorusi', 'radiofonia', 'polacy', 'wydobywać', 'ustrój', 'szalony', 'łza', '636', 'covidowej', 'pakiet', 'popłakać', 'jakże', 'urząd', 'przyjaciel', 'definicja', 'jakich', 'opuścić', 'nabierać', 'wyrok', 'los', 'przedłużyć', 'koniec', 'ziobro', 'rmf', 'sio', 'kreować', 'wiadomy', 'traktat', 'dobitnie', 'przechodzić', 'pochwalić', 'posłanka', 'brawo', 'pojutrze', 'informacja', 'jakąś', 'kopalnia', 'nadużycie', 'podział', 'akolita', 'bubel', 'faszysta', 'wysłuchanie', 'socjalistyczny', 'konferencja', 'zawiadomienie', 'rafał', 'komentator', 'partyjny', 'stopsegregacjisanitarnej', 'ogarnąć', 'pieprzyć', 'rozwijać', 'donalda', 'polskość', 'czarnek', 'lgbtq', 'czas', 'buta', 'rada', 'rozstrzyga', 'eksperyment', 'kapitała', 'zabójstwo', 'skurwysyn', 'gówno', 'wzywać', 'wybierać', 'początek', 'krytycznie', 'strach', 'milicja', 'kucharka', 'używanie', 'jarosław', 'lekceważyć', 'krrit', 'zakwestionować', 'twierdzenie', 'każde', 'szyba', 'chętny', 'konserwatywny', 'zasłużyć', 'kasa', 'koleżanka', 'chodzić', 'jakiego', 'antylgbt', 'goebbels', 'demokratyczny', 'nacisk', 'polecić', 'wyprać', 'zalecenie', 'zobowiązać', 'potwierdzać', 'newsweek', 'kukiz', 'uznać', 'funkcjonariusz', 'dotyczące', 'zdecydować', 'zamach', 'kurwizji', 'donek', 'prymat', 'intencja', 'dostać', 'jazda', 'zajmować', 'ogół', 'pouczać', 'tacy', 'karny', 'celowy', 'wychwalający', 'lis', 'otoczyć', 'granica', 'kaja', 'borys', 'marcina', 'kom', 'narobić', 'cisza', 'online', 'rodak', 'woleć', 'zamrażarka', 'ideowy', 'wyraźny', 'pozbawienie', 'łapa', 'wrażenie', 'kpina', 'piekło', 'otrzymać', 'blamaż', 'połów', 'dziad', 'zyskać', 'otoczenie', 'przybyć', 'możliwy', 'późno', 'zwaną', 'pozwolenie', 'sejmowy', 'zaprosić', 'wojna', 'generalnie', 'legislacyjny', 'koncesja', 'szczęśliwy', 'narzędzie', 'niechęć', 'pruski', 'popełnić', 'polska', 'umierać', 'woda', 'mega', 'jakikolwiek', 'zboczeniec', 'podpisania', 'respektowania', 'młodzież', 'wszak', 'rekord', 'dymisja', 'system', 'ludzki', 'palec', 'anijednejwiecej', 'groźny', 'zawetować', 'indywidualny', 'hiszpania', 'zostały', 'używać', 'oburzać', 'drzewo', 'totalny', 'przeczytać', 'okrzyk', 'emeryt', 'skutkować', 'rozwód', 'wycofywać', 'polskojęzyczny', 'pójść', 'onet', 'owoc', 'oczekiwanie', 'nierząd', 'zmuszanie', 'partnerski', 'ściema', 'kandydat', 'odwracanie', 'osiągnąć', 'litość', 'ciepło', 'pozwać', 'okradać', 'niszczenie', 'genetyczny', 'świadomy', 'ponadto', 'poprosić', 'gwarancja', 'jednoosobowo', 'dziura', 'góra', 'lista', 'pisany', 'popularny', 'organy', 'specjalny', 'ocenić', 'luźnespostrzeżenia', 'tabletka', 'postulować', 'boleć', 'niku', 'brukseli', 'faktycznie', 'dokonywać', 'polak', 'wstrzymywać', 'wyłączony', 'zabraknąć', 'inwektywa', 'byście', 'odważny', 'rozumieć', 'miejsce', '2021', 'globalny', '1600', 'łukaszenki', 'zadzwonić', 'chcący', 'niezawisłość', 'zdanie', 'wtylewizji', 'feminizm', 'gwałcić', 'bezstronny', 'niski', 'zawetowana', 'spacer', 'prosić', 'kciuk', 'gigantyczny', 'pisuar', 'elementy', 'przedstawicielka', 'polityk', 'służba', 'założenie', 'przynależność', 'działacz', 'dyplomatyczny', 'droga', 'częsty', 'szeroki', 'twojego', 'zakłamanie', 'you', 'unikać', 'polski', 'zdziwić', 'jebać', 'plakata', 'manowski', 'zapłata', 'bruksela', 'naród', 'patryk', 'odmienny', 'gra', 'rozkaz', 'wyobraźnia', 'kwiatkowski', 'psycholog', 'każda', 'biblia', 'prasa', 'wtrącać', 'cierpieć', 'bredzić', 'bezkarny', 'hierarchia', 'rzeczniczka', 'pozdrowienie', 'biskup', 'onz', 'turowem', 'zdrowie', 'lubić', 'słowacja', 'eutanazja', 'dochód', 'podpis', 'byłyby', 'reżim', 'odczuwać', 'robert', 'wojenka', 'antykoncepcyjny', 'kaczyńscy', 'ostatnio', 'szyderstwo', 'deszcz', 'dosłownie', 'rak', 'marnować', 'występ', 'przytoczyć', 'uruchomić', 'ekstra', 'kadencja', 'różowy', 'obrażony', 'zbiórka', 'dyktator', 'katolicki', 'jesień', 'sprawa', 'absolutnie', '600', 'określić', 'fala', 'sowa', 'der', 'obstawiać', 'celebryta', 'dotychczasowy', 'sięgnąć', 'rozpaść', 'doniesienie', 'transport', 'kongres', 'skłot', 'jesteście', 'przystąpić', 'opublikować', 'uczyć', 'itd', 'przegłosować', 'łykać', 'rafała', 'podnosić', 'czego', 'popieracie', 'zabierać', 'pszczynie', 'masa', 'telewizor', 'porozmawiać', 'adekwatny', 'szanować', 'uciekać', 'prawidłowo', 'włos', 'realizacja', 'cnie', 'maciej', 'skorzystać', 'czytać', 'oryginalny', 'piotr', 'udostępniać', 'ustalić', 'niedługo', 'wpływy', 'wrzeszczeć', 'seans', 'segregacja', 'odkrywka', 'urzędnik', 'mówić', 'jednoosobowy', 'swoimi', 'apelować', 'rozwiązanie', 'brat', 'zawisły', 'urodzenie', 'tragiczny', 'własność', 'podmiot', 'kretynie', 'konsultacja', 'negatywny', 'ustalenie', 'eugeniczny', 'zaledwie', 'demograficzny', 'zostaną', 'poczuć', 'rozdział', 'ostateczny', 'zapowiedź', 'doczekać', 'istota', 'seria', 'szydło', 'ważność', 'psl', 'ranga', 'wzrosnąć', 'odbyć', 'realnie', 'graniczny', 'eugenik', 'biden', 'wprowadzić', 'wypowiedzenie', 'zatwierdzić', 'obniżyć', 'zainwestować', 'nazista', 'kolejka', 'ryj', 'wyraz', 'przestępstwo', 'łaska', 'idealny', 'kłam', 'talent', 'nazwa', 'data', 'inteligentny', 'poznać', 'faszystowski', 'patrzeć', 'ocieplenie', 'dzielnie', 'łatwo', 'dyskryminacja', 'obsiadająca', 'propagandowy', 'doktryna', 'spod', 'ciocia', 'zwiększać', 'akurat', 'usunąć', 'zauważyć', 'wykończyć', 'złość', 'max', 'wiedzieć', 'iuris', 'niekoniecznie', 'operacja', 'wszystkiego', 'zamordyzm', 'dupa', 'pomyłka', 'abortion', 'tvnu', 'stawać', 'zdobyć', 'dożywocie', 'powinniście', 'stwierdzenie', 'krytykować', 'homofobia', 'opluć', 'państwowy', 'logik', 'niezaszczepionych', 'wiatrak', 'wykrzykiwać', 'legalny', 'atakować', 'podstawowy', 'sąsiad', 'wykonywać', 'kancelaria', 'konfy', 'programowy', 'debila', 'orientacja', 'płatny', 'biologia', 'rok', 'jutro', 'aktywny', 'nowogrodzki', 'pielęgniarka', 'konfederata', 'łódź', 'powiedzieć', 'kupować', 'zagrożenie', 'podły', 'przerażony', 'lokalny', 'logicznie', 'termin', 'wróbel', 'presja', 'klaskać', 'lustro', 'świadek', 'popaść', 'liberał', 'targowicki', 'burdel', 'tyle', 'szmata', 'przesada', 'piórko', 'zachowywać', 'pokrój', 'julki', 'mandat', 'cholera', 'determinacja', 'zaniedbanie', 'utrata', 'wierzyć', 'skład', 'dojść', 'decyzja', 'konsekwencja', 'byś', 'modlitwa', 'żadnym', 'pomylić', 'jasno', 'ograniczony', 'poprawa', 'nowak', 'uczeń', 'opis', 'toco', 'wygodny', 'wiec', 'krystyna', 'obajtek', 'pozycja', 'zdradzać', 'wypadać', 'włącznie', 'zandberg', 'stosowania', 'powstać', 'wyjechać', 'zaszczepieni', 'przynajmniej', 'zaorać', 'krzyż', 'przekazywanie', 'przynosić', 'instancja', 'twojej', 'zebrać', 'hajs', 'czyż', 'podziękować', 'skompromitowany', 'swego', 'toczyć', 'uwalić', 'dylemat', 'przedsiębiorca', 'poddasze', 'przeklęty', 'stawka', 'zmusić', 'przepychać', 'zajęcie', 'kwaśniewski', 'panika', 'mld', 'turowie', 'ogórek', 'teleskopowy', 'porać', 'wierchuszka', 'płynąć', 'leżeć', 'dolar', 'były', 'deklaracja', 'demonstrować', 'powiązanie', 'mafia', 'zajechanie', 'filmik', 'każdym', 'dzicz', 'pluta', 'robiony', 'kształt', 'przestrzegania', 'przywilej', 'china', 'udany', 'funkcjonowanie', 'wisieć', 'zostaje', 'wspólny', 'chrześcijaństwo', 'rodzenie', 'opaska', 'rozliczyć', 'jakim', 'kolaborant', 'wyjście', 'zauwazylem', 'kolonia', 'policyjny', 'wrocławiu', 'wyznawca', 'popatrzyć', 'całkowity', 'przyklaskiwać', 'trafiać', 'białoruski', 'prokuratura', 'pysk', 'swej', 'lex', 'bzdura', 'wybierany', 'lewicowy', 'uemafia', 'szczucie', 'uchwała', 'macierzyństwo', 'zrobić', 'liczny', 'wiadro', 'morderca', 'zadać', 'przekaz', 'abw', 'antena', 'nauczyciel', 'ryć', 'ruchnarodowy', 'front', 'krzysztof', 'abstrahować', 'społeczność', 'brexit', 'szkodnik', 'die', 'rzecznik', 'prezydencki', 'tygodniowo', 'zamykać', 'pasek', 'rozwój', 'pochodzić', 'bezdomny', 'transparent', 'automatycznie', 'afera', 'poła', 'pozbawić', 'uznanie', 'ekpc', 'goły', 'składka', 'pół', 'unijny', 'but', 'antyszczepionkowców', 'wpisywać', 'wiadomosci', 'żyto', 'chory', 'zapytanie', 'nieszczęście', 'dogadywać', 'słuchać', 'rozumiecie', 'powtórzyć', 'ramię', 'podlegać', 'propagandysta', 'pies', 'koleja', 'wspomnąć', 'stosować', 'germandeathcamps', 'odwrót', 'cenzurować', 'niewolnik', 'pilny', 'restauracja', 'znaczący', 'najazd', 'dezinformacja', 'warszawa', 'usta', 'zostawić', 'durny', 'etpcz', 'hola', 'tyś', 'arogancja', 'stół', 'aktywista', 'jakimś', 'przemiana', 'oddawać', 'pieklokobiet', 'puścić', 'zostawiać', 'udzielać', 'zrozumiały', 'zbrodniarz', 'czuwać', 'przesłanie', 'kochać', 'wolski', 'min', 'wyłącznie', 'bankructwo', 'popularność', 'wahać', 'wynieść', 'brak', 'wciskać', 'fanatyczka', 'słychać', 'prawnik', 'zgromadzenie', '2004', 'nagłaśniać', 'obszar', 'awaryjny', 'rewolucja', 'domena', 'groźba', 'możliwość', 'rozkręcać', 'straszyć', 'siebie', 'prawakobiet', 'fot', 'szczujni', 'przeszkadzać', 'dziennikarski', 'naprawdę', 'zawalić', 'opłata', 'ewentualnie', 'psychopata', 'medycyna', 'miara', 'rondo', 'zmiana', 'oczywistość', 'kłopot', 'ratyfikowaliśmy', 'wspomnieć', 'osiągnięcie', 'upadek', 'osoba', 'lewy', 'pora', 'danie', 'przestrzeń', 'dorosły', 'sfera', 'medium', 'retoryk', 'udział', 'płakać', 'pokład', 'odpowiedzialny', 'białoruś', 'studio', 'wina', 'załatwiać', 'pracować', 'agenda', 'komuś', 'koło', 'wyjść', 'naszą', 'odnieść', 'efekt', 'bełchatów', 'sikorski', 'uczciwy', 'zadyma', 'polecać', 'waszym', 'wyrobić', 'wpływ', 'rzeczpospolitej', 'główka', 'trzeci', 'julka', 'mularczyk', 'bajka', 'kilkunastu', 'tuba', 'popierać', 'tsue', 'katastrofa', 'grunt', 'wytrzymać', 'baba', 'funkcja', 'godność', 'hitlera', 'rynka', 'patriota', 'mistrz', 'zanim', 'wycofać', 'brzmieć', 'przejście', 'zastanowić', 'oko', 'konstytucja', 'ofiara', 'manipulować', 'target', 'pismo', 'blokować', 'przedstawiać', 'ukraina', 'żądać', 'walczący', 'kota', 'potrafić', 'źle', 'drastyczny', 'bzdet', 'sporo', 'dna', 'długi', 'piana', 'podległy', 'adamowicz', 'wykształcony', 'delikatny', 'uzyskać', 'wolnemedia', 'katalog', 'iścić', 'rzecz', 'oskarżenie', 'zjednoczonej', 'konieczność', 'promocja', 'basia', 'księża', 'sądzić', 'układ', 'instalacja', 'bawić', 'drakoński', 'różny', 'skok', 'psychoza', 'ssp', 'gruby', 'kulinarny', 'kij', 'bohaterka', 'nieprawda', 'honor', 'wybić', 'jeździć', 'procent', 'powoli', 'wstawiać', 'kompletnie', 'dzielny', 'klauzula', 'zły', 'ograniczenie', 'pani', 'użytkowy', 'paliwo', 'pogarda', 'bezkarnie', 'nagminnie', 'jacy', 'gej', 'publiczny', 'karany', 'pomysł', 'promowanie', 'zapis', 'petycja', 'morderstwo', 'zorganizowanej', 'łeż', 'bagno', 'komentarz', 'gwiazdka', 'zniknąć', 'wrzucić', 'pić', 'powiedzenie', 'jakichkolwiek', '300', 'terrorysta', 'podrzucać', 'porażka', 'geniusz', 'info', 'mejza', 'złodziej', 'fragment', 'uznany', 'arena', 'niezależny', 'sekta', 'marcin', 'dyskutować', 'tvpis', 'zaorany', 'bezprawie', 'konkordat', 'komisja', 'służyć', 'nielegalnie', 'prowadzący', 'wdrożenie', 'ignorować', 'zwyczajnie', 'opętany', 'przygotowana', 'adres', 'służący', 'rodzić', 'idiotka', 'rodzice', 'kuchenny', 'kłamstwapis', 'umieścić', 'byłem', 'porzucić', 'opowieść', 'zapytać', 'symetrysta', 'precz', 'otwarty', 'uczucie', 'jednoznaczny', 'trybunal', 'usłyszeć', 'głupek', 'facto', 'gdula', 'darować', 'kara', 'francuz', 'miś', 'reasumpcja', 'prymitywny', 'przerywania', 'religijny', 'natychmiastowy', 'awantura', 'młódź', 'zemrzeć', 'postawa', 'szok', 'lekarz', 'organizacja', 'vide', 'fake', 'dekada', 'downa', 'nijak', 'łada', 'opłacać', 'pokój', 'wyobrazić', 'szczerze', 'pandemia', 'press', 'poselski', 'zarzucić', 'korzeń', 'narta', 'lecha', 'życie', 'odkąd', 'biurokrata', 'jarek', 'grzywna', 'kobietadecyduje', 'obóz', 'zagraniczny', 'opcja', 'teza', 'jakiej', 'binarny', 'głos', 'rydzyk', 'zachód', 'zarodek', 'tymczasem', 'rozumienie', 'hymn', 'spotkać', 'szczególność', 'mateusz', 'polaryzacja', '250', 'uprawiać', 'przygotowanie', 'bóg', 'jesteśmy', 'przyłębskiej', 'wał', 'braun', 'zawiesić', 'przerwanie', 'broń', 'przeszłość', 'okradający', 'amerykański', 'żywy', 'ból', 'doktor', 'wykładnia', 'kraść', 'taktyk', 'prenatalny', 'ogon', 'fundamentalny', 'mln', 'sztuczny', 'większość', 'warta', 'pogrom', 'spółka', 'poniedziałek', 'nóż', 'migrant', 'dowodzić', 'debile', 'nikt', 'chrześcijanin', 'wnuki', 'moich', 'szerzenie', 'pokojowo', 'bliźni', 'przejaw', 'wolnościowiec', 'zbigniew', 'kosztować', 'siła', 'organ', 'wyciągnąć', 'nawidzić', 'przekazywać', 'samodzielnie', 'sld', 'dream', 'świadomość', 'sygnał', 'przyjaźń', 'publiczność', 'zmieniać', 'kazać', 'dopuścić', 'pomyśleć', 'przykrywka', 'połączyć', 'zamknięty', 'dług', 'podobać', 'nagonka', 'pacjentka', 'źródło', 'amp', 'pieniążek', 'portfel', 'własny', 'wyniść', 'idiota', 'wedle', 'faktyczny', 'oglądanie', 'podatkowy', 'bezprecedensowy', 'obowiązek', 'pepik', 'mkb', 'przyjęcie', 'opisać', 'tańczyć', 'inteligencja', 'napisane', 'impreza', 'młody', 'ostatecznie', 'równouprawnienie', 'agresywny', 'wola', 'sukces', 'tekst', 'dany', 'covidowych', 'niezgodny', 'łukaszenka', 'szymon', 'przykry', 'konserwa', 'słusznie', 'prawdopodobny', 'donald', 'postępowanie', 'hołownię', 'wtorek', 'talibanu', 'przypadkowy', '1800', 'dotknąć', 'wszystkimi', 'grób', 'odsunąć', 'dziewczyna', 'naiwny', 'bezprawny', 'amsterdam', 'dywan', 'poszanowanie', 'pjk', 'dusza', 'prawda', 'podatek', 'immunitet', 'złodziejstwo', 'nadzieja', 'zarządzanie', 'idiotyzm', 'swojemu', 'produkcja', 'obecnie', 'wóda', 'boży', 'komuna', 'wywołać', 'aparat', '1100', 'wybaczyć', 'holandii', 'zakończyć', 'statystyka', 'podać', 'złoty', 'wykonywania', 'dyktatura', 'światopoglądowy', 'zabobon', 'rocznie', 'kreml', 'okazać', 'nieruchomość', 'samotny', 'bić', 'aktywa', 'sztandar', 'zarabiać', 'właściwy', 'pięknie', 'wideo', 'ciągle', 'reputacja', 'pokaz', 'wszcząć', 'kompromis', 'serce', 'swoich', 'sprawdzać', 'wieś', 'przemoc', 'dobro', 'krajowy', 'pewnych', 'hohenstein', 'przyjęty', 'katolik', 'wciąż', 'urbana', 'dzienie', 'zamieszanie', 'obrzydliwy', 'żądanie', 'kaczystan', 'pchać', 'sex', 'wylecieć', 'napluć', 'sadownictwo', 'formuła', 'drogowy', 'stanąć', 'nieba', 'przychodzić', 'pierwszeństwo', 'wiedza', 'aneks', 'wreszcie', 'szmatka', 'różnić', 'kremlowski', 'standardowy', 'wszelkie', 'dowiadywać', 'nienarodzonych', 'tworzenie', 'zbierać', 'kwestionować', 'jednopłciowy', 'klęska', 'opisywać', 'zostajemywue', 'przykro', 'paragraf', 'autorytarny', 'parlamentarny', 'obumarcie', 'show', 'imo', 'pozdrawiać', 'dowolny', 'faszyzm', 'zwanego', 'wyszehradzki', 'joanna', 'miernota', 'przemysł', 'stocznia', 'istnieć', 'solidarny', 'kwalifikacje', 'ograniczać', 'próba', 'podejście', 'słowo', 'przeciwnik', 'rokrocznie', 'chuj', 'względem', 'ostrożny', 'zauważać', 'mucha', 'ciasteczkowy', 'złamać', 'czesi', 'inwestycja', 'zbadanie', 'integracja', 'wrogi', 'cytata', 'prawdopodobnie', 'strategia', 'ogłupiać', 'segregacjasanitarna', 'węgiel', 'wstydzić', 'łudzić', 'dramatyczny', 'obalić', 'najwyraźniej', 'stylo', 'hotel', 'naszym', 'niepodległość', 'powikłanie', 'wulgaryzm', 'dołączyć', 'ponoć', 'każdego', 'narodowy', 'izrael', 'medyczny', 'tłumaczyć', 'typowy', 'zajrzeć', 'rpo', 'suchanow', 'idol', 'fundować', 'ziobry', 'finansować', 'serwować', 'potencjalny', 'ciąża', 'nowelizacja', 'sprzedajny', 'spełniać', 'amerykan', 'hiszpanii', 'spojrzeć', 'dymać', 'rozwalić', 'przysłać', 'elementarny', 'okej', 'baran', 'czegokolwiek', 'telewizja', 'pisowiec', 'okolica', 'region', 'smutek', 'ramówka', 'niestety', 'zobaczcie', 'numer', 'zbadać', 'dziwić', 'intelektualnie', 'zablokować', 'wczorajszy', 'ozdoba', 'obejrzeć', 'inicjatywa', 'wódz', 'reklama', 'województwo', 'skandaliczny', 'kwiatek', 'podjąć', 'sympatia', 'usuwanie', 'frontex', 'pompować', 'ust', 'for', 'grzać', 'osobno', 'postulat', 'pipe', 'majątek', 'zaczynać', 'płacz', 'wieko', 'samowolka', 'wypełniać', 'super', 'likwidować', 'historia', 'godek', 'zagłosować', 'uspokoić', 'oskarżony', 'analizować', 'wielki', 'cóż', 'niedouczony', 'lot', 'przystąpienie', 'zakończenie', 'prawdopodobieństwo', 'dvbt', 'szumowski', 'janusz', 'zabić', 'zakup', 'spokojny', 'wypłata', 'rosja', 'nagranie', 'wypowiadania', 'proces', 'lipiec', 'karo', 'zarządzić', 'chabadlubawicz', 'goebbelsowska', 'gdybyśmy', 'brukselski', 'wykorzystanie', 'szkodliwy', 'martwy', 'rozmawiać', 'ukraść', 'którą', 'banaś', 'kamil', 'przerwać', 'wulgarny', 'wywiesić', 'wielokrotnie', 'agora', 'standard', 'ewa', 'nowoczesny', '1997', 'dzielić', 'prędko', 'macica', 'odbudowa', 'lekcja', 'blisko', 'mijać', 'świadczyć', 'wbrew', 'pełny', 'wychodzić', 'zachwyt', 'brauna', 'wersja', 'światowy', 'zawierać', 'suski', 'zniesienie', 'zasadność', 'wyciek', 'namawiać', 'tysiąc', 'skakać', 'siewca', 'radio', 'kredyt', 'rzeplinskiego', 'zabijać', 'decydowania', 'twardy', 'kibel', 'byliśmy', 'nakładany', 'covidowy', 'wydane', 'ochota', 'posta', 'chęć', 'czele', 'poważny', 'mocny', 'ziobryści', 'luksemburgu', 'dworczyk', 'zrezygnować', 'obsługa', 'polskiwał', 'marka', 'łono', 'dzień', 'trend', 'pkb', 'chamski', 'wymyślić', 'opal', 'odwracalny', 'prokop', 'zatrzymać', 'sto', 'totalitarny', 'zaliczka', 'głęboko', 'sytuacja', 'zwierzę', 'pasować', 'von', 'odszkodowanie', 'policja', 'równia', 'jakiejkolwiek', 'komunista', 'poprawić', 'podstawa', 'przykryć', 'naukowy', 'teoria', 'ciążyć', 'szmaciak', 'jedność', 'hańba', 'szereg', 'ideologiczny', 'toaleta', 'linia', 'uderzenie', 'rzekomo', 'negocjować', 'wyroknakobiety', 'pałac', 'kłamca', 'zarząd', 'sensowny', 'obserwować', 'bitwa', 'otwarcie', 'podkreślać', 'wybrać', 'prześladowanie', 'noc', 'ujawniać', 'szacunek', 'potępiać', 'fałszywy', 'kłamliwy', 'zdrajca', 'słońce', 'jechać', 'stan', 'robot', 'hipokryzja', 'kurs', 'reprodukcyjny', 'nikim', 'odpowiedź', 'spodziewać', 'starać', 'ogień', 'błoto', 'wspólnota', 'tusk', 'odebrać', 'przepchnąć', 'kogoś', 'waszych', 'wrzesień', 'naruszenie', 'celowo', 'lobbysta', 'głosowanie', 'opodatkowanie', 'napad', 'bojkotować', 'sojusz', 'premiera', 'banda', 'zwłaszcza', 'roszczenie', 'przeciwieństwo', 'dwukrotnie', 'zwracać', 'nauka', 'olewać', 'patriotyzm', 'nocnik', 'sprawić', 'siedzieć', 'występować', 'legalizacja', 'otworzyć', 'francji', 'czerwiec', 'opowiadać', 'ruskiład', 'krew', 'pomagać', 'byłby', 'zastanawiać', 'tłuc', 'bałagan', 'fakenews', 'prowokacja', 'ingerencja', 'mafijny', 'wole', 'trzy', 'muzeum', 'prl', 'miesięcznie', 'pamięć', 'głowa', 'ogłosić', 'przeprowadzić', 'gorąco', 'ustawodawstwo', 'idiotyczny', 'nałożenie', 'podobnie', 'kantar', 'szopka', 'pierwszy', 'otrzymywać', 'pilot', 'putina', 'grzech', 'wykazać', 'wylewać', 'klamka', 'wałęsa', 'składać', 'forum', 'obecny', 'podobny', 'widz', 'piach', 'terapia', 'akcesyjny', 'zysk', 'skarga', 'przeciwdziałanie', 'skóra', 'świat', 'uwierzyć', 'youtube', 'ultimatum', 'lol', 'rzucać', 'przeciwko', 'intelektualny', 'efo', 'szczucia', 'odsetka', 'sprawdzenia', 'błyskawica', 'ginąć', 'senator', 'przygotować', 'bycie', 'globalistyczny', 'euro', 'mordowaniem', 'full', 'osobisty', 'ingerować', 'zapoznać', 'tanio', 'ogólnikowy', 'wyjątkowo', 'kawanaławę', 'zdołać', 'bogatyni', 'górka', 'mosbaher', 'odrzucone', 'stworzyć', 'zatrzymanie', 'olać', 'pałka', 'nieudolność', 'racjonalny', 'fundament', 'uniatomy', 'pożyteczny', 'dostosować', 'wstęp', 'zapewnienie', 'ruszyć', 'twoich', 'keuetsue', 'ciągnąć', 'słuchacz', 'fozz', 'zamierzać', 'rolny', 'reportaż', 'toga', 'umieć', 'działaczka', 'legalnie', '2019', 'babieslivesmatter', 'kaczyńskiego', 'publikacja', 'dostarczać', 'osłabiać', 'myśle', 'naruszanie', 'lewak', 'uderzać', '2050', 'dojny', 'zapowiadać', 'powstawać', 'real', 'covidowym', 'napewno', 'jeden', 'formalność', 'winien', 'dzwonić', 'koronawiruswpolsce', 'przejąć', 'zapominać', 'przypadkowo', 'ogłoszenie', 'niczego', 'zegarek', 'bando', 'niełaska', 'śledztwo', 'gowinem', 'suwerenność', 'polityka', 'odmówić', 'zaprzyjaźniony', 'obcy', 'obłąkany', 'mundur', 'ława', 'zarówno', 'zaszczepić', 'logo', 'podejmować', 'atrapa', 'partner', 'tymczasowy', 'mix', 'polit', 'piesek', 'lizać', 'błędny', 'wyprzedzenie', 'porażający', 'budować', 'wmówić', 'nadanie', 'pogodzić', 'badanie', 'realizować', 'nakazywać', 'narodziny', 'kontekst', 'zniszczyć', 'hadze', 'zakazać', 'pisowskiego', 'grać', 'nisko', 'wierność', 'kasta', 'zadziwiający', 'posiadać', 'atomowy', 'stopień', 'słabość', 'święty', 'wysłać', 'ignorant', 'prawidłowy', 'wydawanie', 'żyć', 'odpowiedzialność', 'popart', 'bronicie', 'stały', 'poznanie', 'przegrany', 'dyduch', 'obarczyć', 'groń', 'praktyka', 'millera', 'antykoncepcja', 'odniesienie', 'przynieść', 'upolitycznione', 'mąż', 'szymek', 'zostawać', 'zwolnić', 'winny', 'wyjaśnienie', 'sprawny', 'ważny', 'interpretować', 'widać', 'złożenie', 'hiena', 'sprzęt', 'różaniec', 'ciężko', 'xxi', 'zapraszanie', 'przyczynić', 'znacznie', 'zwykle', 'znikać', 'upaść', 'wpadka', '2005', 'spór', 'satelita', 'uboczny', 'wino', 'ciężki', 'oddział', 'podporządkować', 'serwis', '2000', 'dziecko', 'najwyżej', 'sojusznik', 'małpa', 'błaszczak', 'obniżać', 'ubiegły', 'morawiecki', 'chłop', 'przyznawać', 'zatem', 'cenzura', 'rozum', 'przedstawić', 'dopuszczalna', 'wkurzać', 'cnn', 'rodzina', 'oznaczać', 'etat', 'przejść', 'samorządowiec', 'spadek', 'dotyczącego', 'moc', 'bieg', 'chronić', 'stary', 'ostrzegać', 'pokazać', 'wjechać', 'obowiązkowy', 'gardzić', 'bit', 'żywność', 'sorosa', 'oprócz', 'przyjść', 'nfz', 'chyba', 'znać', 'faszyzmpolski', 'wracać', 'energia', 'trójpodział', 'spirala', 'senior', 'stwierdzić', 'wizerunek', 'respondent', 'spotkanie', 'sanitarny', 'wykorzystać', 'psychol', 'pedofilia', 'spisek', 'wylądować', 'wynikających', 'krytyk', 'rozwiązać', 'przeszło', 'takim', 'obowiązkowo', 'zostali', 'nałożyć', 'kręgosłup', 'pierdoła', 'mówienie', 'lasa', 'rozpłakać', 'biuro', 'gaza', 'szpital', 'sądownictwo', 'pad', 'uczestnictwo', 'rodzinny', 'którymi', 'awans', 'horban', 'postanowienie', 'równość', 'brunatny', 'opuszczenie', 'sondaż', 'sieć', 'byłaby', 'wycinka', 'zwanej', 'zakazany', 'oba', 'słynny', 'skuteczność', 'nagle', 'cynicznie', 'tuskiem', 'serio', 'popis', 'jprdl', 'wynagrodzenie', 'konsekwentnie', 'słup', 'kulturowy', 'wynikać', 'zamiar', 'wyrażać', 'piekłokobiet', 'zakład', 'byłam', 'wypowiedzieć', '2016', 'próg', 'mail', 'rzeszów', 'narkobiznes', 'xero', 'święto', 'powielać', 'bogaty', 'turcji', 'delegalizacja', 'piwo', 'transmisja', 'odwrócić', 'rymanowski', 'marta', 'gospodarstwo', 'chcieć', 'szeroko', 'świetny', 'poland', 'związka', 'kuchnia', 'start', 'poddawać', 'szaleństwo', 'zwany', 'depopulacja', 'francuski', 'trzaskowski', 'bezbronny', 'krewa', 'lek', 'bełkot', 'władza', 'wiara', 'zadbać', 'suska', 'dziwnie', 'ojczyzna', 'diabeł', 'uważać', 'zignorować', 'moralność', 'odkrycie', 'posłuchać', 'umierający', 'balcerowicza', 'inaczej', 'wykształcenie', 'ludowy', 'informować', 'skoda', 'otwierać', 'opozycyjny', 'złamanie', 'prostować', 'smoleńsk', 'niby', 'nudny', 'demokracja', 'zdjąć', 'wewnętrzny', 'symbol', 'ucho', 'antysemityzm', 'zachęcać', 'zabrać', 'piorun', 'mózg', 'budżet', 'mądrość', 'dysc', 'pełnosprawny', 'zależeć', 'wejść', 'julia', 'duch', 'wypierdalać', 'zechcieć', 'powinny', 'zyskować', 'cudzy', 'chłopiec', 'tez', 'stalinowski', 'tarnowski', 'chleb', 'prezydentura', 'zachodzić', 'naziemny', 'podtrzymywać', 'mądry', 'wybitny', 'starczać', 'zajechać', 'przepis', 'stosowaniu', 'plac', 'zgodzić', 'pozwolić', 'wygasać', 'odejście', 'rozstrzygnięcie', '800', 'czoło', 'karetka', 'znak', 'obniżenie', 'kowalski', 'decydować', 'zawodowy', 'rzadko', 'brutalnie', 'poziom', 'izba', 'podpisać', 'cel', 'wygrywać', 'koncert', 'przemawiać', 'rzeszowa', 'sprawdzenie', 'odruch', '100', 'opieka', 'zajęty', 'znaczenie', 'skrajny', 'ogląd', 'określenie', 'stanowić', 'środa', 'eksperymentalny', 'poniżej', 'ruch', 'pawłowicz', 'spróbować', 'zapewnić', 'zasadniczy', 'ostatni', 'naturalny', 'zapomnieć', 'prezentować', 'tryba', 'społeczny', 'kontynuować', 'konieczny', 'turbo', 'paszport', 'wspaniały', 'pilnować', 'zło', 'rezolucja', 'kieszeń', 'arabski', 'lockdownu', 'eksperymentmedyczny', 'polityczny', 'doprowadzenie', 'sprawka', 'głęboki', 'biedaplus', 'prawić', 'kompleks', 'szafa', 'partia', 'srebrnik', 'konfa', 'ledwo', 'zobaczyć', 'dziać', 'doświadczenie', 'zależność', 'żydowski', 'koncentracyjny', 'niezgodnie', 'wieszwiecej', 'żadnego', 'wydobycie', 'merkel', 'górnik', 'kukiza', 'brakować', 'wyrównanie', 'internet', 'ulec', 'białorusią', 'dzieciak', 'aparatczyk', 'cham', 'redakcja', 'wprowadzony', 'niezgodność', 'tło', 'maseczka', 'rodo', 'śmietnik', 'wzgląd', 'wkurwiać', 'scena', 'rozjeżdżać', 'izolacja', 'dzielenie', 'legitymacja', 'onety', 'szerzyć', 'trudny', 'zdrada', 'andrzej', 'wizja', 'zbieranie', 'weta', 'połączenie', 'politruk', 'cały', 'drożeć', 'zwiększenie', 'siedziba', 'bandyta', 'odważyć', 'logiczny', 'uleczalny', 'oszukiwać', 'groteskowy', 'idea', 'nieuk', 'pajac', 'wszędzie', 'prezenter', 'wiece', 'mieszać', 'wiążący', 'jakoby', 'siostra', 'narodowiec', 'propaganda', 'urządzać', 'repolonizacja', 'powszechny', 'lextvn', '200', 'przymusowy', 'upierać', 'obrót', 'umysł', 'zachowanie', 'wysoki', 'ośmieszyć', 'antenowy', 'negocjacje', 'mata', 'ciepły', 'przedszkole', 'noszenia', 'klient', 'razem', 'bądź', 'polsat', 'obiecać', 'przejęcie', 'opowiedzieć', 'bieda', 'zabezpieczenie', 'rozliczenie', 'nurt', 'instrument', 'peło', 'konstytucyjny', 'widocznie', 'marzyć', 'okres', 'złudzenie', 'myć', 'walka', 'żadnej', 'wstrzymanie', 'wcześnie', 'czyn', 'bis', 'uratować', 'komunistyczny', 'kolorowy', 'oddalić', 'berlinie', 'wszelkich', 'ząb', 'azyl', 'postać', 'priorytet', 'rozmowy', 'środki', 'bida', 'drzeć', 'olejnik', 'mózgowy', 'sejm', 'ueke', 'prowadzić', 'wyprowadzać', 'wróblewski', 'cywilizowanych', 'emerytura', 'oddolny', 'długopis', 'grudzień', 'zabicie', 'prawdziwy', 'mniej', 'kraj', 'pewnego', 'radość', 'zarzut', 'kaczyński', 'podsumowanie', 'nauczyć', 'cudowny', 'skutek', 'bohater', 'raport', 'obiektywizm', 'nadawać', 'telewizyjny', 'ratyfikowane', 'polexit', 'pierze', 'kacyk', 'zginąć', 'równo', 'niebo', 'marszałek', 'tokfm', 'głupota', 'manifestacja', 'wizyta', 'skarżyć', 'klucz', 'dziennie', 'każdemu', 'zorganizować', 'polskę', 'kolor', 'wprowadzać', 'medialny', 'niedawno', 'straszy', 'letalny', 'różnica', 'zamykanie', 'połowa', 'agentura', 'ludzkość', 'skala', 'ojej', 'jednostka', 'porównanie', 'ocena', 'bolszewicki', 'ameba', 'mateusza', 'hahaha', 'hołownia', 'przeprosić', 'hasztag', 'jajo', 'wariat', 'kawa', 'łączyć', 'pisu', 'bliżej', 'przekonany', 'uświadomić', 'antyrządowy', 'psychiatra', 'kult', 'lublin', 'czechach', 'onrowców', 'spotykać', 'śmieciówka', 'dyplomatołki', 'wystąpienie', 'restrykcja', 'racja', 'dotyczącej', 'mienie', 'elektryczny', 'historyczny', 'zasługiwać', 'kontrowersyjny', 'wątpić', 'koszt', 'szykana', 'taką', 'tortura', 'zaproponować', 'prywatny', 'ogarniać', 'piasecki', 'wyglądać', 'sławka', 'komu', 'mięso', 'ekspert', 'czerpać', 'sympatyk', 'oszustwo', 'nakręcać', 'uciec', 'powcy', 'byle', 'wspierający', 'oficjalny', 'wyemitować', 'kwiczeć', 'cieszyć', 'dodać', 'myśl', 'biały', 'poprzedni', 'założyciel', 'zostało', 'zabronić', 'komórka', 'radykalny', 'leworzędności', 'głosujących', 'walić', 'alarm', 'krzyczeć', 'rządowy', 'obraza', 'fan', 'korwin', 'smutny', 'etpc', 'zakłamany', 'przestrzeganiem', 'byłoby', 'żartować', 'elita', 'brnąć', 'rozpad', 'aktywnie', 'gaz', 'narzekać', 'niewolnictwo', 'bezczelnie', 'wiecznie', 'orzekania', 'finanse', 'śmieszny', 'pitolić', 'walczyć', 'przepraszać', 'pajace', 'swołocz', 'mur', 'jachiry', 'osk', 'dotrzeć', 'ziemia', 'placówka', 'środek', 'zająć', 'ramy', 'grzesiowski', 'demokrata', 'zamienić', 'spaść', 'oszukać', 'gmina', 'samo', 'odrobina', 'zaakceptować', 'mnóstwo', 'art', 'kolektyw', 'liberalny', 'ustawić', 'oderwany', 'współczesny', 'handel', 'zasądzić', 'stanowisko', 'nepotyzm', 'rekordowy', 'btw', 'biegać', 'zarżnięcie', 'wpisać', 'zajebisty', 'podejrzenie', 'warunek', 'powrót', 'trzaska', 'kadrowy', 'gwarantować', 'zapisać', 'bodnar', 'dokładnie', 'tworzyć', 'marianin', 'norma', 'oglądalność', 'słaby', 'pomnik', 'kaczystów', 'stolica', 'zygota', 'kretyński', 'założyć', 'potrzeba', 'obchodzić', 'team', 'ignorancja', 'twoją', 'wysoko', 'pewne', 'produkować', 'prlu', 'stopa', 'organizator', 'odejść', 'kręcić', 'wiarygodny', 'rasizm', 'tuska', 'trans', 'homofobiczny', 'tłum', 'moskwy', 'przypomnieć', 'anta', 'pis', 'dodawać', 'właściwie', 'płaszcz', 'zryć', 'status', 'prostu', 'państwo', 'weekend', 'totalnie', 'troska', 'powiązać', 'udać', 'przewidzenie', 'urojenie', 'agnostyk', 'sądowy', 'wykonywanie', 'reporter', 'złapać', 'opamiętanie', 'mowa', 'skrajnie', 'apel', 'pytanie', 'siać', 'aborcyjny', 'komuch', 'wzmacniać', 'międzymorze', 'dyscyplinarny', 'duet', 'raczej', 'duży', 'ranking', 'widownia', 'przyjazny', 'nadrzędność', 'wydmuszka', 'kontrolowany', 'rucho', 'przyszłość', 'grono', 'realista', 'zarażać', 'ostry', 'znany', 'turow', 'krytyczny', 'dać', 'ministerstwo', 'płaca', 'papier', 'zwyciężyć', 'furtka', 'wybudować', 'budka', 'głupiec', 'kamera', 'zmuszać', 'przestrzegana', 'startować', 'dobry', 'zadecydować', 'zatrudniać', '350', 'mieść', 'angela', 'jakiekolwiek', 'smierć', 'żałować', 'dopóki', 'złotówka', 'mleko', 'domyślać', 'miłosierdzie', 'miedzynarodowej', 'wycierać', 'kura', 'regulacja', 'polka', 'minister', 'interes', 'przemowa', 'polofaszyści', 'wkraczać', 'dokonanie', 'praktycznie', 'grupa', 'marzenie', 'brednia', 'kontra', 'sędzia', 'podważenie', 'ciul', 'islam', 'zmienić', 'parlament', 'zwiększyć', 'rozmówca', 'wpaść', 'oglądać', 'stopaborcji', 'ogromny', 'zaszczepionych', 'aplikacja', 'wzmocnić', 'recepta', 'kryć', 'zasada', 'tuskowi', 'wyobrażać', 'katoliczka', 'trump', 'wymiar', 'konstrukcja', 'wyborczy', 'nadzwyczajny', 'episkopat', 'bezpieczny', 'zobowiązanie', 'potępić', 'koryto', 'plecy', 'leszek', 'protest', 'wynik', 'odbiorca', 'babcia', 'odpowiednik', 'produkt', 'ręka', 'krakowie', 'msz', 'sms', 'sens', 'odwołać', 'zabijania', 'październik', 'śmiertelny', 'prorządowy', 'cześć', 'mojej', 'lobby', 'chwila', 'karta', 'śledzić', 'holenderski', 'milionowy', 'rzeczywistość', 'poważni', 'referendum', 'dudzie', 'poprzednik', 'przyjmować', 'internauta', 'koda', 'wada', 'wyłączać', 'usuwać', 'zafundować', 'grzecznie', 'odcinek', 'uzasadniać', 'umrzeć', 'rzetelny', 'polskinieład', 'patologiczny', 'rozsądek', 'glosować', 'sasin', 'zielonyład', '175', 'powinniśmy', 'genialny', 'kabaret', 'reforma', 'pytać', 'zapaść', 'ciężarny', 'czekać', 'domagać', 'poważanie', 'rachunek', 'rezygnacja', 'nazwisko', 'kwestia', 'symetryzm', 'tona', 'hejlujących', 'polskiładdlapolskiejwsi', 'przychód', 'cisnąć', 'przyzwoity', 'fundamentalizm', 'analfabeta', 'żona', 'prawy', 'charakter', 'wystawiać', 'systema', 'oddać', 'kim', 'imigracja', 'zamordystyczny', 'mundurowy', 'terlecki', 'telefon', 'szansa', 'któremu', 'sklep', 'gabinet', 'dostępny', 'klasa', 'koniecznie', 'naszej', 'spadać', 'wystąpić', 'przylebskiej', 'pisie', 'plus', 'ilustracja', 'włączać', 'równie', 'zamknąć', 'tusku', 'wykupić', 'kprm', 'inwigilacja', 'balcerowicz', 'tani', 'plandemii', 'męski', 'czechom', 'potrzebować', 'zdążyć', 'jebane', 'szczepienie', 'zamiana', 'formacja', 'byśmy', 'zacząć', 'dziennikarstwo', 'cierpienie', 'miasto', 'wypierać', 'cichy', 'szarańcza', 'ochronić', 'skutecznie', 'piękny', 'medyk', 'zależny', 'polsacie', 'godzić', 'uciecha', 'odrzucić', 'dostęp', 'wyznaczyć', 'marzec', 'marsz', 'lewicowiec', 'lockdown', 'izy', 'przekraczać', 'kilkanaście', 'antypolski', 'nabrać', 'urodzić', 'konfederacja', 'zbrodniczy', 'prośba', 'jarosława', 'mitoman', 'cena', 'podpisywać', 'keue', 'darmo', 'specjalnie', 'cba', 'merytorycznie', 'jakiejś', 'czarno', 'michał', 'gierka', 'odwaga', 'kryzys', 'und', 'anarchia', 'zabijanie', 'blokada', 'gadać', 'artykuł', 'zaprzestanie', 'pijany', 'nieść', 'mówiący', 'frekwencja', 'podchodzić', 'usiąść', 'czyżby', 'thegreatreset', 'cytować', 'szukać', 'załatwić', 'wymienić', 'wieczór', 'świnia', 'inflacja', 'doić', 'śmiać', 'chować', 'zastępczy', 'konkurencja', 'multipleks', 'protestmedykow', 'doskonale', 'irlandii', 'uniaeuropejska', 'następować', 'ujawnienie', 'nawiedzony', 'protestować', 'szeregi', 'olej', 'przyłożyć', 'parada', 'zmądrzeć', 'rrf', 'komitet', 'praworządny', 'zażyciem', 'badać', 'miller', 'głupio', 'żebyśmy', 'wyraźnie', 'nałożonych', 'doczytać', '2015', 'martwić', 'wkrótce', 'powtórka', 'trauma', 'przedstawiciel', 'uderzyć', 'kartka', 'wartość', 'przyłebskiej', 'cyrk', 'marynarka', 'won', 'itp', 'niszczyć', 'szantaż', 'potrzebny', 'nakaz', 'funduszzadłużenia', 'jeść', 'fatalny', 'automat', 'swoim', 'katolicyzm', 'teatrzyk', 'pokazywać', 'egzemplifikacja', 'spytać', 'płaczący', 'polsatnews', 'słodki', '104', 'nadal', 'obrazek', 'szymona', 'dobrowolny', 'zupełnie', 'mit', 'akt', 'energetyka', 'stąd', 'frasyniuka', 'wystarczający', 'zdziwienie', 'przeżyć', 'moment', 'zagranica', 'wtrącania', 'wpuścić', 'auto', 'pamiętać', 'wypć', 'obiektywny', 'kształtować', 'partactwo', 'wcale', 'pisać', 'dotyczących', 'czasnazmiane', 'polsce', 'utrzymywać', 'adamowicza', 'tweet', 'kapitał', 'struktura', 'niezależnie', 'przykrywać', 'cela', 'długo', 'postęp', 'zdolność', 'chwalić', 'farmakologiczny', 'facet', 'likwidacja', 'czerwony', 'powiedziane', 'zabawa', 'spać', 'wspominać', 'zapomnąć', 'zjep', 'gotować', 'zaproszenie', 'anijednejwięcej', 'rzymkowski', 'parlamentarzysta', 'dążyć', 'kolenda', 'słabo', 'kreatura', 'izabeli', 'nakładać', 'wojsko', 'suchy', 'mężczyzna', 'przywódca', 'przygotowywać', 'przydupas', 'akta', 'wykonanie', 'poparcie', 'dowiedzieć', 'zobowiązany', 'utrzymanie', 'zapamiętać', 'udostępnić', 'neonazista', 'profilowy', 'drożyzna', 'sakrament', 'paweł', 'rządzący', 'zatrudniony', 'dzban', 'biedny', 'współpracować', 'towarzyski', 'ładnie', 'odwoływać', 'podważać', 'miłość', 'minimalny', 'sprawiedliwy', 'zdawać', 'czym', 'gotowy', 'wystarczyć', 'urodzony', 'wywalić', 'katarzyna', 'dosyć', 'wierny', 'spokojnie', 'rzeczpospolita', 'ulga', 'religia', 'hard', 'fanatyk', 'partnerstwo', 'ciało', 'bać', 'wymusić', 'mniejszość', 'interii', 'zwykły', 'poczytać', 'prąd', 'joe', 'wykona', 'hołowni', 'błagać', 'sprzedawać', 'opozycja', '19112019', 'przeciw', 'ostrołęka', 'powrócić', 'legalnaaborcja', 'przeprosiny', 'przestrzegać', 'silnirazem', 'zdecydowanie', 'ośrodek', 'trochę', 'dramat', 'słuszny', 'usa', 'zasięg', 'europejski', 'podnieść', 'stworzenie', 'imię', 'podważyć', 'sekretarz', 'grafika', 'ulegać', 'samodzielny', 'projekt', 'aha', 'żołnierz', 'gonić', 'kosmos', 'kuriozalny', 'mediabezwyboru', 'musić', 'zastosować', 'awaria', 'medialies', 'sprzeciwa', 'ilość', 'parta', 'syf', 'wyznanie', 'satysfakcja', 'przydać', 'zasługa', 'kończyć', 'świetnie', 'zet', 'dorobek', 'stado', 'działanie', '230', 'uchwalić', 'wyznaczać', 'dyktować', 'przystawka', 'strajk', 'med', 'mieścić', 'krok', 'propagandzista', 'ciemny', 'związek', 'wykluczony', 'przegrać', 'swój', 'czechami', 'głównie', 'leczyć', 'pudło', 'jarka', 'dzięki', 'pranie', 'ogóle', 'przyjechać', 'humanitarny', 'treść', 'zadawane', 'kiedyś', 'węgier', 'service', 'uczynić', 'zgoda', 'dodatkowo', 'platformerski', 'jakub', 'budynek', 'skłamać', 'czystka', 'podetrzeć', 'drzwi', 'spr', 'rola', 'posiedzenie', 'wypadek', 'przebić', 'procedować', 'testować', 'dostawać', 'element', 'chociażby', 'homoseksualizm', 'napisana', 'wydanie', 'podanie', 'sprowadzać', 'fajny', 'adopcja', 'normalny', 'reżimowy', 'serial', 'mojego', 'zandberga', 'swojej', 'niektórzy', 'przekonać', 'dubler', 'flaga', 'dialog', 'subskrypcja', 'wyznaniowy', 'demografia', 'zlepka', 'waszą', 'redaktor', 'doopie', 'trwanie', 'przebieg', 'pocałować', 'pełnić', 'skupić', 'nietk', 'cywilizacja', 'zbudować', 'serdecznie', 'nazywać', 'życzyć', 'genewski', 'jednocześnie', 'poglądy', 'iii', 'wmawiać', 'wsadzić', 'aktualnie', 'zbyt', 'orzec', 'pozostawać', 'politykier', 'trudno', 'naruszać', '667', 'wyrzucać', 'fogiel', 'krótki', 'oczywisty', 'zabawny', 'dotyczyć', 'ludobójstwo', 'bzdurny', 'zdrowotny', 'hej', 'zareagować', 'skandować', 'parę', 'przypominać', 'skoro', 'odbierać', 'dostrzegać', 'tamtym', 'wokół', 'ideologia', 'umysłowy', 'zdolny', 'nazistowski', 'szczujnie', 'bliski', 'skończony', 'zwrot', 'niektóre', 'zus', 'wskazanie', 'kgodek', '597', 'uprawniony', 'ekran', 'wiek', 'fryc', 'berlina', 'reguła', 'dyktando', 'cecha', 'myślić', 'autorytet', 'bądźmy', 'kategoria', 'jedzenie', 'zrobienia', 'faktypofaktach', 'ziobrą', 'putinowski', 'bezpłatny', 'twierdzić', 'kato', 'zwrócić', 'ratyfikacja', 'orzeczenie', 'przerwa', 'sonda', 'magister', 'głośny', 'wpuszczać', 'wakacje', 'covidowa', 'wszelką', 'prowadzenie', 'pęknąć', 'dodatkowy', 'kai', 'wyzywać', 'pośrednio', 'tytuł', 'wniść', 'sędziowski', 'uchwalenia', 'gazociąg', 'związane', '180', 'jedyny', 'narracja', 'prosty', 'zdradzić', 'ponownie', 'stań', 'sprzyjać', 'czepiać', 'całkiem', 'onetu', 'cień', 'rzeszowie', 'pretensja', 'manipulacje', 'przybywać', 'społecznościowy', 'przemówienie', 'kultura', 'vitro', 'agent', 'koncern', 'piątka', 'waszej', 'nadmiarowy', 'kawałek', 'bezpieczeństwoenergetyczne', 'kogo', 'podsumować', 'osiągać', 'napis', 'karton', 'traktowani', 'prawicowy', 'link', 'poważnie', 'zdrowy', 'rząd', 'daleko', 'obowiązujący', 'babka', 'zdecydowany', 'komika', 'odpowiedzieć', 'pogonić', 'cytowanego', 'zadeklarować', 'członkostwo', 'dureń', 'poczęcie', '1200', 'post', 'biznes', 'lansować', 'bezpieczeństwo', 'krzyk', 'weto', 'dodatek', 'ślub', 'wymuszenie', 'układać', 'stale', 'tysiące', 'sprawować', 'podobno', 'zadanie', 'klinika', 'prawica', 'zażądać', 'ryzyka', 'zniszczenie', 'ramia', 'zestarzeć', 'braki', 'dokonać', 'odgwałca', 'określony', 'nawoływać', 'posadka', 'dudy', 'pogoda', 'lewacki', 'nato', 'konsekwentny', 'książka', 'suma', 'staliśmy', 'wolny', 'hitler', 'równolegle', 'dbać', 'ipn', 'informacyjny', 'pojawić', 'definiować', 'marny', 'hasło', 'lextvp', 'warszawski', 'krritv', 'potraktować', 'uderzający', 'wyjątkowy', 'histeria', 'krowa', 'łamać', 'miękki', 'rocznica', 'odmawiać', 'spójny', 'robota', 'amsterdamie', 'pge', 'wypisywać', 'reagować', 'legalność', 'bezstronność', 'grubo', 'ech', 'znaczny', 'donosić', 'zespół', 'grodzki', 'zapłacić', 'materia', 'latać', 'łamany', 'związkowiec', 'litera', 'planeta', 'książeczka', 'poszukać', 'regulamin', 'wyeliminować', 'kosz', 'transmitować', 'grupka', 'należeć', 'znaleźć', 'odróżniać', 'zamiast', 'agresor', 'haniebny', 'wnosić', 'ziobrystów', 'pewno', 'wyłączyć', 'zapoznania', 'dyplom', 'pisowi', 'widzieć', 'polsatem', 'materiał', 'terleckiego', 'republika', 'zmniejszać', 'powołać', 'przewidywać', 'papka', '2022', 'śledczy', 'krs', 'złożyć', 'roczny', 'trafić', 'poprzeć', '2020', 'teren', 'kluba', 'chodnik', 'absurdalny', 'leming', 'mało', 'kilkadziesiąt', 'bronić', 'spina', 'przyznanie', 'pensja', 'mapa', 'chiński', 'robia', 'boomerze', 'orzekanie', 'sprzedać', 'sądowniczy', 'orlen', 'sutanna', 'fakt', 'wzrość', 'urodziny', 'wyborca', 'wzrost', 'prejudycjalny', 'wprost', 'obronić', 'tzn', 'davosagenda', 'pacjent', 'przemówić', 'udowodnić', 'legitymowanie', 'cofnąć', 'tracić', 'kwiecień', 'strajkkobiet', 'byt', 'dwa', 'depresja', 'współpraca', 'dużo', 'brutto', 'poczucie', 'doba', 'świstek', 'beton', 'zaniechanie', 'wejście', 'młodzieżówka', 'począć', 'ewidentny', 'potworny', 'internetowy', 'odsyłać', 'mieszkanie', 'tyłek', 'proponować', 'zlecenie', 'drugi', 'focha', 'przykre', 'zdelegalizować', 'spot', 'izraela', 'istnienie', 'zasób', 'afryce', 'absurd', 'neofaszysta', 'rybnik', 'porządek', 'cywilny', 'głupie', 'pewien', 'fizyczny', 'antyaborcyjny', 'znajomy', 'kół', 'ukochany', 'przypadek', 'pln', 'poszczególny', 'gratulować', 'uprawnienie', 'zdziwiony', 'flora', 'poczekać', 'sprzeczny', 'proc', 'sam', 'level', 'kupić', 'bywa', 'zaraz', 'lekarski', 'debata', 'płacić', 'ban', 'koń', 'żal', 'personel', 'debil', 'pomóc', 'powodzenie', 'chętnie', 'skończyć', 'szybki', 'obywatel', 'sekunda', 'nieźle', 'rzymskokatolicki', 'wraz', 'kompromitacja', 'prasowy', 'kościelny', 'wysyłać', 'hejt', 'garstka', 'przekazie', 'temat', 'nosić', 'stanowczy', 'popatrzeć', 'przyznać', 'autobus', 'przeciwny', 'scenariusz', 'tue', 'ratownik', 'wasz', 'marionetka', 'klimatyczny', 'równy', 'strzelać', 'skasować', 'nadawanie', 'burak', 'nieroby', 'reprezentant', 'doskonały', 'obojętny', 'popisowy', 'roić', 'dot', 'podejrzany', 'społeczeństwo', 'wygrać', 'póki', 'naprawić', 'zero', 'polskilad', 'strefa', 'swoboda', 'vision', 'farma', 'kluczowy', 'zajść', 'ambasador', 'iść', 'dowód', 'wydany', 'przekonanie', 'takiego', 'sumienie', 'wysokość', 'targowica', 'zwłoka', 'szczególnie', 'niedzielski', 'polin', 'mordować', 'and', 'baza', 'matka', 'dwójka', 'bezprawnie', 'smród', '1912', 'choroba', 'preparat', 'szef', 'wiertniczy', 'ustawa', 'odnosić', 'bidena', 'znosić', 'prowadzony', 'werdykt', 'wybrany', 'senat', 'koalicja', 'godzina', 'bezrobocie', 'ekspansja', 'studium', 'czyt', 'morawieckim', 'dana', 'rozporządzenie', 'przesłanka', 'tłusty', 'ponosić', 'odlot', 'polskiład', 'miły', 'podatkipis', 'posłanek', 'przykład', 'strasznie', 'rejestr', 'zawód', 'oby', 'argument', 'covid', 'szanowny', 'julii', 'użyć', 'obrażać', 'rzesza', 'ramach', 'cicho', 'gospodarka', 'wskaźnik', 'pierdolić', 'węgrzech', 'wykonać', 'szefostwo', 'wyjaśnić', 'wojewódzki', 'konwencja', 'format', 'koza', 'asystent', 'masowo', 'gosp', 'widzenie', 'została', 'zaorania', 'sztucznie', 'wirtualny', 'punkt', 'suwerenny', 'hala', 'umiejętność', 'starczyć', 'pojęcie', 'pluralizm', 'świecki', 'jednoznacznie', '2027', 'szczerba', 'gadanie', 'protestujący', 'wydać', 'pojąć', 'przewracać', 'przestawać', 'europa', 'pretekst', 'czech', 'uzależniony', 'karnowscy', 'zaufanie', 'pluć', 'prezydent', 'ubekistanu', 'zabieg', 'dopuszczać', 'plotka', 'dziwny', 'ćwok', 'łgarz', 'pisem', 'przepaść', 'zastrzeżenie', 'lać', '1850', 'mantra', 'traktować', 'szczęście', 'panna', 'bezczelny', 'wnioskować', 'bezpośrednio', 'tajny', 'wrażliwość', 'zakaz', 'obudzić', 'powstanie', 'homoseksualny', 'istotny', 'całkowicie', 'funkcjonować', 'żart', 'rodzaj', 'cmentarz', 'szambo', 'kadra', 'chrześcijański', 'faza', 'półka', 'codzienny', 'uznawać', 'związany', 'kompetencja', 'zjadać', 'zostać', 'support', 'uczestniczyć', 'zarobek', 'wystartować', 'kontrolować', 'dogadać', 'niewykonanie', 'kompletny', 'liczba', 'wspierać', 'naiwność', 'resztka', 'takiej', 'myślenie', 'news', 'ksiądz', 'więzienie', 'popsl', 'pracujący', 'wezwanie', 'zaprzeczać', 'wierzący', 'zachodni', 'robienie', 'zbywalny', 'rosnąć', 'poświęcić', 'żoliborza', 'żywo', 'jad', 'przestrzeganie', 'kanał', 'natura', 'czajka', 'noga', 'obecność', 'grozić', 'elektrownia', 'rano', 'jasny', 'tęczowy', 'funduszodbudowy', 'prokurator', 'klimat', 'kopertowy', 'nacjonalista', 'margot', 'pominąć', 'konkretny', 'wypierd', 'realny', 'raptem', 'wydarzenie', 'żłobek', 'hegemonia', 'licznik', 'network', 'obrońca', 'sasina', 'wadliwy', 'wesprzeć', 'potwierdzić', 'trwać', 'spokój', 'thun', 'patrzenie', 'boja', 'wef', 'feministka', 'troll', 'kontakt', 'wieża', 'kupa', 'ciekawość', 'świadczenie', 'ład', 'waszego', 'traktatowy', 'pelikan', 'idy', 'podawać', 'atakowanie', 'mieszkać', 'lecieć', 'jawny', 'sepsa', 'imperium', 'wówczas', 'luty', 'drogo', 'gęba', 'skrót', 'worek', 'zesrać', 'generować', 'wczoraj', 'zastosowanie', 'nowogrodzka', 'bosak', 'krzywda', 'panować', 'spoko', 'pozór', 'komunizm', 'korupcja', 'pojechać', 'gwiazda', 'extra', 'spec', 'typ', 'choćby', 'niewinność', 'duma', 'korporacja', 'zatrzymajaborcję', 'ekologiczny', 'następnie', 'zjednoczona', 'trumpa', 'bąkiewicz', 'capi', 'powiat', 'afganistanie', 'zadziałać', 'wchodzić', 'gazeta', 'kaczynski', 'pomijać', 'niedzielskiego', 'kołchoz', 'tour', 'szary', 'stokrotka', 'trzymać', 'rzeczywiście', 'inwestycyjny', 'zbawca', 'węglowy', 'autor', 'kumpel', 'rozpatrzenie', 'środkowy', 'bastion', 'program', 'baltic', 'komisarz', 'czynienie', 'nik', 'łącznie', 'masturbacja', 'wpływać', 'wojciech', 'idioci', 'skłaniać', 'pisowski', 'prywatnie', 'wprowadzenie', 'tok', 'analiza', 'pozbawiać', 'ciekawy', 'merytoryczny', 'znieść', 'dostępność', 'kościół', 'cichu', 'wolnościowy', 'opresyjny', 'manowska', 'organizm', 'jacka', 'argumentacja', 'szkoła', 'kierunek', 'ostrożnie', 'promować', 'zrównoważony', 'duda', 'pisanie', 'ewentualny', 'żebyście', 'wręcz', 'córka', 'epidemia', 'niemczech', 'ilu', 'jaką', 'warchoł', '500', 'niekompetencja', 'etc', 'będąc', 'orzecznictwo', 'kłamstwo', 'próbować', 'zostajemywunii', 'miesiąc', 'zachować', 'sprzed', 'komorowski', 'kot', 'dziesiątka', 'mentalny', 'pro', 'uchodźca', 'głosować', 'polegać', 'postkomunistyczny', 'jebacpis', 'zapraszać', 'jesteś', 'zgadzać', 'norwegii', 'wymagać', 'jebac', 'konserwatysta', 'sprzeczność', 'wiatr', 'znudzić', 'zaostrzenie', 'odbywać', 'dobrowolność', 'przestać', 'forma', 'przód', 'sorry', 'abonament', 'powtarzać', 'profesor', 'zresztą', 'wiązać', 'poinformować', 'przyłębska', 'ściek', 'małżeństwo', 'ruina', 'gowin', 'właściciel', 'ratować', 'reszta', 'administracja', 'wobec', 'ciągły', 'oferta', 'onr', 'szymuś', 'budowa', 'polszmat', 'procedura', 'pole', 'kumulacja', 'odezwać', 'objąć', 'wyć', 'opór', 'swojego', 'policjant', 'wzajemny', 'nwo', 'oburzenie', 'zaglądać', 'dziennik', 'sześć', 'pszczyny', 'takimi', 'dziennikarka', 'przeszkoda', 'pozwalać', 'kontrakt', 'andrzeja', 'skazać', 'wiadomość', 'oddziaływanie', 'poseł', 'bunt', 'język', 'kochający', 'góry', 'fantastyczny', 'hołota', 'gościa', 'dawny', 'czuć', 'psychiczny', 'łeb', 'pełnia', 'misja', 'holandia', 'czołówka', 'odwołanie', 'wstać', 'usługi', 'zdradziecki', 'obrażanie', 'podwyżka', 'dziambor', 'wykorzystywać', 'rządzić', 'masakra', 'zasiadać', 'gospodarczy', 'oświadczenie', 'lempart', 'prawodożycia', 'ustanowienia', 'zgodny', 'oczekiwać', 'wyciąć', 'solidarność', 'nienawiść', 'radzić', 'luznespostrzezenia', 'oświata', 'tylny', 'zadawać', 'naruszyć', 'ewidentnie', 'kaczor', 'odzyskać', 'lewactwo', 'rosją', 'przekręt', 'niezależność', 'fejk', 'stosowany', 'nazwanie', 'prezenta', 'czytanie', 'dotyczący', 'ślad', 'vat', 'oświadczyć', 'tymi', 'ratunkowy', 'obietnica', 'dumny', 'ugrupowanie', 'kierować', 'wenecki', 'powietrze', 'dawać', 'udowadniać', 'mająca', 'kanada', 'przyszły', 'rolnik', 'resortowy', 'wiceminister', 'zaskoczenie', 'kompetentny', 'wart', 'inc', 'szkalować', '1791', 'respektować', 'zadłużenie', 'określać', 'covidem', 'odrzucony', 'zniść', 'women', 'działalność', 'nakazać', 'narzucać', 'poddać', 'pinokio', 'kojarzyć', 'skazany', 'częściowo', 'przywrócić', 'uchwalona', 'warunki', 'dopiero', 'konto', 'profil', 'prawniczy', 'praworządność', 'etyka', 'szczepimysie', 'król', 'ignorowanie', 'tragedia', 'francja', 'dobić', 'rynek', 'zainteresowanie', 'poprawka', 'europ', 'skarb', 'ulubiony', 'zakładać', 'rozpocząć', 'zza', 'maska', 'odroczenie', 'energetyczny', 'nikomu', 'pkt', 'kolega', 'sad', 'śniadanie', 'czwartka', 'lgbt', 'doradca', 'dopłata', 'obalenie', 'obłudny', 'zrozumienie', 'uzależnienie', 'naczelny', 'red', 'wiarygodność', 'kretyn', 'wośp', 'twitter', 'dotąd', 'słupek', 'fundusz', 'pogrzeb', 'pozostały', 'czyim', 'przenieść', 'milczeć', 'progresywny', 'kompromitować', 'wojenny', 'dno', 'nienarodzone', 'bardzo', 'nigdzie', 'potęga', 'procedowany', 'gnój', 'dół', 'pazerność', 'udolny', 'powołanie', 'gotów', 'nikogo', 'propos', 'prosto', 'putin', 'sobota', 'wolno', 'polskinowyład', 'belgii', 'ogłaszać', 'veto', 'wyprawiać', 'zwolennik', 'kucharski', 'lokal', 'przypisywać', 'puszczać', 'federalizacja', 'mały', 'różnorodność', 'obostrzenie', 'neutralny', 'zlikwidować', 'deklarować', 'przyczyna', 'szczepionka', 'unia', 'newsweeka', 'żenada', 'troszkę', 'wziąć', 'precedens', 'organizować', 'płeć', 'manipulacja', 'krótko', 'straża', 'tuż', 'libki', 'uniknąć', 'wrócić', 'trybunałkonstytucyjny', 'kampania', 'fajnie', 'negować', 'sprawiedliwość', 'witka', 'prezes', 'tolerancja', 'doprowadzić', 'manifestować', 'wyciągać', 'non', 'niemiecki', 'słyszeć', 'naukowiec', 'bruk', 'odrzucenie', 'inwestor', 'kwota', 'trakt', 'szczepimysię', 'pandemiczny', 'morda', 'kaczyńskim', 'ukrywać', 'lubnauer', 'iza', 'samorząd', 'dyskusja', 'mobilizacja', 'bracić', 'bodnara', 'turowy', 'pzpr', 'gwałt', 'negatywnie', 'pisior', 'raz', 'zapewniać', 'kosztowny', 'niebawem', 'wynegocjować', 'kraśko', 'rolnictwo', 'bańka', 'świeckość', 'dokument', 'odważnie', 'zostanie', 'obywatelski', 'zielony', 'obłuda', 'platforma', 'rozważać', 'twarz', 'mechanizm', 'nastąpić', 'padać', 'oczywiście', 'pracownik', 'tura', 'debili', 'wiosna', 'przybudówka', 'często', 'pozostać', 'szczuć', 'rozmowa', 'samowity', 'dzieło', 'niebezpieczny', 'ściganie', 'specjalista', 'uzasadniony', 'palić', 'odchodzić', 'rosyjski', 'brać', 'ponieść', 'donoszenie', 'hybrydowy', 'podatnik', 'przygotowany', 'pozew', 'msza', 'normalność', 'skurwiel', 'zaskoczony', 'przedłużać', 'film', 'zeszły', 'zgłosić', 'nagroda', 'forsować', 'jakbyś', 'pewność', 'oszołom', 'operator', 'bydło', 'piotrowicz', 'smoleński', 'wyjazd', 'jakieś', 'kajać', 'debilny', 'łatwy', 'ograniczyć', 'żenujący', 'kobieta', 'kurwa', 'darmowy', 'wolność', 'śmieć', 'silny', 'niedziela', 'zsrr', 'powodować', 'zajob', 'szczur', 'niezaszczepieni', 'listopad', 'zasłaniać', 'dawno', 'wczesny', 'domniemanie', 'konflikt', 'utrzymać', 'przeciętny', 'finansowo', 'spójność', 'każdą', 'kolumna', 'członek', 'logika', 'zakażenie', 'wątek', 'paść', 'bezpośredni', 'rozgarnięty', 'nazizm', 'zamieniać', 'akces', 'afganistanu', 'obrona', 'pierś', 'brudny', 'towarzystwo', 'eurokołchozu', 'szczepić', 'inwigilacjapis', 'pomyje', 'nazwać', 'odpowiadać', 'leczenie', 'rekompensata', 'morawieckiego', 'prof', 'interpretacja', 'zdarzyć', 'kłamać', 'pomiędzy', 'blok', 'discovery', 'podpisanie', 'styczeń', 'dziewczynka', 'towarzysz', 'masowy', 'umożliwić', 'maj', 'szabelka', 'korzystać', 'czeski', 'sugerować', 'pmm', 'traktowanie', 'odpowiedni', 'waga', 'lotnisko', 'minąć', 'reprezentować', 'ulica', 'pokonać', 'aborcjabezgranic', 'perspektywa', 'zgłaszać', 'europoseł', 'test', 'odciąć', 'wincyj', 'potrzebujący', 'zasugerować', 'towarzyszka', 'chociaż', 'raczyć', 'oszust', 'obawiać', 'wydatek', 'dozwolona', 'rzucić', 'las', 'fundacja', 'wytłumaczyć', 'tur', 'karać', 'socjalizm', 'pracodawca', 'nosio', 'przestępca', 'normalnie', 'adolfa', 'warunkowość', 'sędzina', 'sformułowanie', 'neo', 'ochrona', 'dorwać', 'współpracownik', '770', 'godny', 'pewnie', 'zarządzać', 'kapłaństwo', 'pozbyć', 'aborcja', 'dzienny', 'znajdywać', 'najwięcej', 'szykować', 'tvny', 'patologia', 'totalitaryzm', 'reformy', 'portal', 'wymyślać', 'dobrze', 'fundamentalista', 'socjalny', 'kart', 'zamkowy', 'okupacja', 'nieudacznik', 'cztery', 'imunitet', 'oskarżać', 'liczyć', 'niemal', 'tysiącom', 'odmowa', 'problem', 'codziennie', 'ateista', 'drogi', 'trzaskowskiego', 'ośmieszać', 'oparcie', 'komunikat', 'zakazywać', 'sok', 'pozytywny', 'wydawca', 'wschodni', 'podzielić', 'bomba', 'przyzwoitość', 'ustąpić', 'sprawdzić', 'obajtka', 'doktór', 'móc', 'google', 'upór', 'przekroczyć', 'minuta', 'zwijać', 'zawieszenie', 'kler', 'ordo', 'udawać', 'mgr', 'lizboński', 'obowiązywać', 'wycie', 'rozdawać', 'wymierzone', 'mina', 'lekceważenie', 'stwierdzać', 'mgła', 'wstyd', 'strasburgu', 'grosz', 'ściana', 'amator', 'covidowego', 'biedroń', 'smrodek', 'pewny', 'ustawka', 'byłbym', 'kierownictwo', 'budowlany', 'mylić', 'sanepid', 'wstrzymać', 'bezkompromisów', 'pański', 'krzysiu', 'inny', 'następca', 'wrzucać', 'róża', 'puszcza', 'branża', 'dyrektor', 'bank', 'wynosić', 'wykluczać', 'powołany', 'powód', 'aferzysta', 'mordowanie', 'elektorat', 'pistolet', 'patrzyć', 'umowa', 'kolano', 'aktor', 'być', 'podejrzewać', 'odwracać', 'czechy', 'powstrzymać', 'safian', 'negocjacja', 'wyrzucić', 'bąkiewicza', 'szybko', 'komedia', 'dupie', 'śmierć', 'łamanie', 'ruski', 'oferować', 'pigułka', 'petru', 'żłopiąca', 'ueketsue', 'poronienie', 'odróżnienie', 'paru', 'niewiele', 'pokolenie', 'żałośny', 'mama', 'nowy', 'jprd', 'część', 'armia', 'czarzasty', 'stać', 'brytania', 'zarzucać', 'wojskowy', 'orlenu', 'firma', 'potem', 'dane', 'homo', 'nawistny', 'porządny', 'chaos', 'powyżej', 'propozycja', 'byłeś', 'celibat', 'pusty', 'wypad', 'dziennikarz', 'monopol', 'porozumienie', 'wypowiedź', 'dewiacja', '150', 'niszczenia', 'wirus', 'najpierw', 'dziękować', 'seksualny', 'pokazić', 'niezły', 'bezczelność', 'demonstracja'}\n"
          ]
        }
      ],
      "source": [
        "#najpopularniejsze wyrazy- rozważania i stworzenie zbioru przechowującego 5000 najpopularniejszych słów o długości większej niż 2 litery\n",
        "from pandas.core.series import Frequency\n",
        "from collections import Counter\n",
        "\n",
        "word_frequencies=Counter()\n",
        "aggregate=0\n",
        "suma=0\n",
        "set_of_most_common_words = set()\n",
        "ile=5*(10**3)\n",
        "\n",
        "for text in data_df['lemmatized_text']:\n",
        "  lemmas=text.split()\n",
        "  lemmas=[word for word in lemmas if len(word)>2]\n",
        "  word_frequencies.update(lemmas)\n",
        "  number=len(text.split())\n",
        "  aggregate=aggregate+number\n",
        "most_common_words=word_frequencies.most_common(ile)\n",
        "for word, frequency in most_common_words:\n",
        "    #print(word, frequency)\n",
        "    suma= suma+frequency\n",
        "    set_of_most_common_words.add(word)\n",
        "print(\"W całym korpusie jest: \" + str(aggregate) + \" słów\")\n",
        "print(\"{} najpopularniejszcyh słów występuje łącznie w całym korpusie \".format(ile) + str(suma) + \" razy\")\n",
        "print(\"Wszystkich, różnych słów w całym korpusie jest: \" + str(len(word_frequencies)))\n",
        "\n",
        "print(set_of_most_common_words)"
      ]
    },
    {
      "cell_type": "code",
      "execution_count": null,
      "metadata": {
        "colab": {
          "base_uri": "https://localhost:8080/"
        },
        "id": "4WRkOwO1IClX",
        "outputId": "a51aee32-0380-48ee-d56f-71eb22452bfc"
      },
      "outputs": [
        {
          "name": "stdout",
          "output_type": "stream",
          "text": [
            "0    parchini wg siku tvn agentura ruskopruska nata...\n",
            "1    naciekawsze komentarz jeden widzieć egoizm dru...\n",
            "2    poziom ochrona prawo człowiek obecny polski ni...\n",
            "3    lewica popierać prawo aborcyjny ponoć walczyć ...\n",
            "4    obawiać rząd uznać wyrok tsue dwa przypadek 1 ...\n",
            "5    zawora fantazja słabość mieć słabość szambo ko...\n",
            "Name: lemmatized_text, dtype: object\n",
            "0                                         tvn agentura\n",
            "1    komentarz jeden widzieć drugi hołowni tusk dzi...\n",
            "2    poziom ochrona prawo człowiek obecny polski ni...\n",
            "3    lewica popierać prawo aborcyjny ponoć walczyć ...\n",
            "4    obawiać rząd uznać wyrok tsue dwa przypadek wy...\n",
            "5    słabość mieć słabość szambo koniec ciągnąć swó...\n",
            "Name: lemmatized_text_only_common, dtype: object\n"
          ]
        }
      ],
      "source": [
        "#wyrzucic wszystko czego nie ma w set_of_most_common_words\n",
        "i=0\n",
        "for text in data_df['lemmatized_text']:\n",
        "  text_0= text.split()\n",
        "  text_only_common_words= [word for word in text_0 if word in set_of_most_common_words]\n",
        "  data_df.loc[i, 'lemmatized_text_only_common']=' '.join(text_only_common_words)\n",
        "  i=i+1"
      ]
    },
    {
      "cell_type": "code",
      "execution_count": null,
      "metadata": {
        "id": "D0oJEPeQ7zNo"
      },
      "outputs": [],
      "source": [
        "data_df.to_csv('drive/MyDrive/PoliTweets/preprocessed_data.csv', index=False)"
      ]
    },
    {
      "cell_type": "markdown",
      "metadata": {
        "id": "ZO7pw_lL81B2"
      },
      "source": [
        "#Budowanie modelu"
      ]
    },
    {
      "cell_type": "markdown",
      "metadata": {
        "id": "yM9BDcfpzg75"
      },
      "source": [
        "##Przygotowanie danych do użycia w HerBERT"
      ]
    },
    {
      "cell_type": "code",
      "execution_count": null,
      "metadata": {
        "id": "F0a7tZDA3m0A",
        "colab": {
          "base_uri": "https://localhost:8080/"
        },
        "outputId": "72ceb4b7-d13b-4ed0-dac6-0c662fcf20f5"
      },
      "outputs": [
        {
          "output_type": "stream",
          "name": "stdout",
          "text": [
            "Collecting datasets\n",
            "  Downloading datasets-2.13.1-py3-none-any.whl (486 kB)\n",
            "\u001b[2K     \u001b[90m━━━━━━━━━━━━━━━━━━━━━━━━━━━━━━━━━━━━━━\u001b[0m \u001b[32m486.2/486.2 kB\u001b[0m \u001b[31m11.3 MB/s\u001b[0m eta \u001b[36m0:00:00\u001b[0m\n",
            "\u001b[?25hRequirement already satisfied: numpy>=1.17 in /usr/local/lib/python3.10/dist-packages (from datasets) (1.22.4)\n",
            "Requirement already satisfied: pyarrow>=8.0.0 in /usr/local/lib/python3.10/dist-packages (from datasets) (9.0.0)\n",
            "Collecting dill<0.3.7,>=0.3.0 (from datasets)\n",
            "  Downloading dill-0.3.6-py3-none-any.whl (110 kB)\n",
            "\u001b[2K     \u001b[90m━━━━━━━━━━━━━━━━━━━━━━━━━━━━━━━━━━━━━━━\u001b[0m \u001b[32m110.5/110.5 kB\u001b[0m \u001b[31m9.3 MB/s\u001b[0m eta \u001b[36m0:00:00\u001b[0m\n",
            "\u001b[?25hRequirement already satisfied: pandas in /usr/local/lib/python3.10/dist-packages (from datasets) (1.5.3)\n",
            "Requirement already satisfied: requests>=2.19.0 in /usr/local/lib/python3.10/dist-packages (from datasets) (2.27.1)\n",
            "Requirement already satisfied: tqdm>=4.62.1 in /usr/local/lib/python3.10/dist-packages (from datasets) (4.65.0)\n",
            "Collecting xxhash (from datasets)\n",
            "  Downloading xxhash-3.2.0-cp310-cp310-manylinux_2_17_x86_64.manylinux2014_x86_64.whl (212 kB)\n",
            "\u001b[2K     \u001b[90m━━━━━━━━━━━━━━━━━━━━━━━━━━━━━━━━━━━━━━\u001b[0m \u001b[32m212.5/212.5 kB\u001b[0m \u001b[31m26.3 MB/s\u001b[0m eta \u001b[36m0:00:00\u001b[0m\n",
            "\u001b[?25hCollecting multiprocess (from datasets)\n",
            "  Downloading multiprocess-0.70.14-py310-none-any.whl (134 kB)\n",
            "\u001b[2K     \u001b[90m━━━━━━━━━━━━━━━━━━━━━━━━━━━━━━━━━━━━━━\u001b[0m \u001b[32m134.3/134.3 kB\u001b[0m \u001b[31m19.8 MB/s\u001b[0m eta \u001b[36m0:00:00\u001b[0m\n",
            "\u001b[?25hRequirement already satisfied: fsspec[http]>=2021.11.1 in /usr/local/lib/python3.10/dist-packages (from datasets) (2023.6.0)\n",
            "Requirement already satisfied: aiohttp in /usr/local/lib/python3.10/dist-packages (from datasets) (3.8.4)\n",
            "Collecting huggingface-hub<1.0.0,>=0.11.0 (from datasets)\n",
            "  Downloading huggingface_hub-0.16.4-py3-none-any.whl (268 kB)\n",
            "\u001b[2K     \u001b[90m━━━━━━━━━━━━━━━━━━━━━━━━━━━━━━━━━━━━━━\u001b[0m \u001b[32m268.8/268.8 kB\u001b[0m \u001b[31m37.1 MB/s\u001b[0m eta \u001b[36m0:00:00\u001b[0m\n",
            "\u001b[?25hRequirement already satisfied: packaging in /usr/local/lib/python3.10/dist-packages (from datasets) (23.1)\n",
            "Requirement already satisfied: pyyaml>=5.1 in /usr/local/lib/python3.10/dist-packages (from datasets) (6.0)\n",
            "Requirement already satisfied: attrs>=17.3.0 in /usr/local/lib/python3.10/dist-packages (from aiohttp->datasets) (23.1.0)\n",
            "Requirement already satisfied: charset-normalizer<4.0,>=2.0 in /usr/local/lib/python3.10/dist-packages (from aiohttp->datasets) (2.0.12)\n",
            "Requirement already satisfied: multidict<7.0,>=4.5 in /usr/local/lib/python3.10/dist-packages (from aiohttp->datasets) (6.0.4)\n",
            "Requirement already satisfied: async-timeout<5.0,>=4.0.0a3 in /usr/local/lib/python3.10/dist-packages (from aiohttp->datasets) (4.0.2)\n",
            "Requirement already satisfied: yarl<2.0,>=1.0 in /usr/local/lib/python3.10/dist-packages (from aiohttp->datasets) (1.9.2)\n",
            "Requirement already satisfied: frozenlist>=1.1.1 in /usr/local/lib/python3.10/dist-packages (from aiohttp->datasets) (1.3.3)\n",
            "Requirement already satisfied: aiosignal>=1.1.2 in /usr/local/lib/python3.10/dist-packages (from aiohttp->datasets) (1.3.1)\n",
            "Requirement already satisfied: filelock in /usr/local/lib/python3.10/dist-packages (from huggingface-hub<1.0.0,>=0.11.0->datasets) (3.12.2)\n",
            "Requirement already satisfied: typing-extensions>=3.7.4.3 in /usr/local/lib/python3.10/dist-packages (from huggingface-hub<1.0.0,>=0.11.0->datasets) (4.7.1)\n",
            "Requirement already satisfied: urllib3<1.27,>=1.21.1 in /usr/local/lib/python3.10/dist-packages (from requests>=2.19.0->datasets) (1.26.16)\n",
            "Requirement already satisfied: certifi>=2017.4.17 in /usr/local/lib/python3.10/dist-packages (from requests>=2.19.0->datasets) (2023.5.7)\n",
            "Requirement already satisfied: idna<4,>=2.5 in /usr/local/lib/python3.10/dist-packages (from requests>=2.19.0->datasets) (3.4)\n",
            "Requirement already satisfied: python-dateutil>=2.8.1 in /usr/local/lib/python3.10/dist-packages (from pandas->datasets) (2.8.2)\n",
            "Requirement already satisfied: pytz>=2020.1 in /usr/local/lib/python3.10/dist-packages (from pandas->datasets) (2022.7.1)\n",
            "Requirement already satisfied: six>=1.5 in /usr/local/lib/python3.10/dist-packages (from python-dateutil>=2.8.1->pandas->datasets) (1.16.0)\n",
            "Installing collected packages: xxhash, dill, multiprocess, huggingface-hub, datasets\n",
            "Successfully installed datasets-2.13.1 dill-0.3.6 huggingface-hub-0.16.4 multiprocess-0.70.14 xxhash-3.2.0\n",
            "Collecting transformers\n",
            "  Downloading transformers-4.30.2-py3-none-any.whl (7.2 MB)\n",
            "\u001b[2K     \u001b[90m━━━━━━━━━━━━━━━━━━━━━━━━━━━━━━━━━━━━━━━━\u001b[0m \u001b[32m7.2/7.2 MB\u001b[0m \u001b[31m60.4 MB/s\u001b[0m eta \u001b[36m0:00:00\u001b[0m\n",
            "\u001b[?25hRequirement already satisfied: filelock in /usr/local/lib/python3.10/dist-packages (from transformers) (3.12.2)\n",
            "Requirement already satisfied: huggingface-hub<1.0,>=0.14.1 in /usr/local/lib/python3.10/dist-packages (from transformers) (0.16.4)\n",
            "Requirement already satisfied: numpy>=1.17 in /usr/local/lib/python3.10/dist-packages (from transformers) (1.22.4)\n",
            "Requirement already satisfied: packaging>=20.0 in /usr/local/lib/python3.10/dist-packages (from transformers) (23.1)\n",
            "Requirement already satisfied: pyyaml>=5.1 in /usr/local/lib/python3.10/dist-packages (from transformers) (6.0)\n",
            "Requirement already satisfied: regex!=2019.12.17 in /usr/local/lib/python3.10/dist-packages (from transformers) (2022.10.31)\n",
            "Requirement already satisfied: requests in /usr/local/lib/python3.10/dist-packages (from transformers) (2.27.1)\n",
            "Collecting tokenizers!=0.11.3,<0.14,>=0.11.1 (from transformers)\n",
            "  Downloading tokenizers-0.13.3-cp310-cp310-manylinux_2_17_x86_64.manylinux2014_x86_64.whl (7.8 MB)\n",
            "\u001b[2K     \u001b[90m━━━━━━━━━━━━━━━━━━━━━━━━━━━━━━━━━━━━━━━━\u001b[0m \u001b[32m7.8/7.8 MB\u001b[0m \u001b[31m83.0 MB/s\u001b[0m eta \u001b[36m0:00:00\u001b[0m\n",
            "\u001b[?25hCollecting safetensors>=0.3.1 (from transformers)\n",
            "  Downloading safetensors-0.3.1-cp310-cp310-manylinux_2_17_x86_64.manylinux2014_x86_64.whl (1.3 MB)\n",
            "\u001b[2K     \u001b[90m━━━━━━━━━━━━━━━━━━━━━━━━━━━━━━━━━━━━━━━━\u001b[0m \u001b[32m1.3/1.3 MB\u001b[0m \u001b[31m71.4 MB/s\u001b[0m eta \u001b[36m0:00:00\u001b[0m\n",
            "\u001b[?25hRequirement already satisfied: tqdm>=4.27 in /usr/local/lib/python3.10/dist-packages (from transformers) (4.65.0)\n",
            "Requirement already satisfied: fsspec in /usr/local/lib/python3.10/dist-packages (from huggingface-hub<1.0,>=0.14.1->transformers) (2023.6.0)\n",
            "Requirement already satisfied: typing-extensions>=3.7.4.3 in /usr/local/lib/python3.10/dist-packages (from huggingface-hub<1.0,>=0.14.1->transformers) (4.7.1)\n",
            "Requirement already satisfied: urllib3<1.27,>=1.21.1 in /usr/local/lib/python3.10/dist-packages (from requests->transformers) (1.26.16)\n",
            "Requirement already satisfied: certifi>=2017.4.17 in /usr/local/lib/python3.10/dist-packages (from requests->transformers) (2023.5.7)\n",
            "Requirement already satisfied: charset-normalizer~=2.0.0 in /usr/local/lib/python3.10/dist-packages (from requests->transformers) (2.0.12)\n",
            "Requirement already satisfied: idna<4,>=2.5 in /usr/local/lib/python3.10/dist-packages (from requests->transformers) (3.4)\n",
            "Installing collected packages: tokenizers, safetensors, transformers\n",
            "Successfully installed safetensors-0.3.1 tokenizers-0.13.3 transformers-4.30.2\n",
            "Collecting sacremoses\n",
            "  Downloading sacremoses-0.0.53.tar.gz (880 kB)\n",
            "\u001b[2K     \u001b[90m━━━━━━━━━━━━━━━━━━━━━━━━━━━━━━━━━━━━━━\u001b[0m \u001b[32m880.6/880.6 kB\u001b[0m \u001b[31m15.8 MB/s\u001b[0m eta \u001b[36m0:00:00\u001b[0m\n",
            "\u001b[?25h  Preparing metadata (setup.py) ... \u001b[?25l\u001b[?25hdone\n",
            "Requirement already satisfied: regex in /usr/local/lib/python3.10/dist-packages (from sacremoses) (2022.10.31)\n",
            "Requirement already satisfied: six in /usr/local/lib/python3.10/dist-packages (from sacremoses) (1.16.0)\n",
            "Requirement already satisfied: click in /usr/local/lib/python3.10/dist-packages (from sacremoses) (8.1.4)\n",
            "Requirement already satisfied: joblib in /usr/local/lib/python3.10/dist-packages (from sacremoses) (1.3.1)\n",
            "Requirement already satisfied: tqdm in /usr/local/lib/python3.10/dist-packages (from sacremoses) (4.65.0)\n",
            "Building wheels for collected packages: sacremoses\n",
            "  Building wheel for sacremoses (setup.py) ... \u001b[?25l\u001b[?25hdone\n",
            "  Created wheel for sacremoses: filename=sacremoses-0.0.53-py3-none-any.whl size=895241 sha256=ea1381f9f2d6d32191b0c0b3527d5aca1b819e1330252406f774273aa6b1d114\n",
            "  Stored in directory: /root/.cache/pip/wheels/00/24/97/a2ea5324f36bc626e1ea0267f33db6aa80d157ee977e9e42fb\n",
            "Successfully built sacremoses\n",
            "Installing collected packages: sacremoses\n",
            "Successfully installed sacremoses-0.0.53\n",
            "Requirement already satisfied: transformers[torch] in /usr/local/lib/python3.10/dist-packages (4.30.2)\n",
            "Requirement already satisfied: filelock in /usr/local/lib/python3.10/dist-packages (from transformers[torch]) (3.12.2)\n",
            "Requirement already satisfied: huggingface-hub<1.0,>=0.14.1 in /usr/local/lib/python3.10/dist-packages (from transformers[torch]) (0.16.4)\n",
            "Requirement already satisfied: numpy>=1.17 in /usr/local/lib/python3.10/dist-packages (from transformers[torch]) (1.22.4)\n",
            "Requirement already satisfied: packaging>=20.0 in /usr/local/lib/python3.10/dist-packages (from transformers[torch]) (23.1)\n",
            "Requirement already satisfied: pyyaml>=5.1 in /usr/local/lib/python3.10/dist-packages (from transformers[torch]) (6.0)\n",
            "Requirement already satisfied: regex!=2019.12.17 in /usr/local/lib/python3.10/dist-packages (from transformers[torch]) (2022.10.31)\n",
            "Requirement already satisfied: requests in /usr/local/lib/python3.10/dist-packages (from transformers[torch]) (2.27.1)\n",
            "Requirement already satisfied: tokenizers!=0.11.3,<0.14,>=0.11.1 in /usr/local/lib/python3.10/dist-packages (from transformers[torch]) (0.13.3)\n",
            "Requirement already satisfied: safetensors>=0.3.1 in /usr/local/lib/python3.10/dist-packages (from transformers[torch]) (0.3.1)\n",
            "Requirement already satisfied: tqdm>=4.27 in /usr/local/lib/python3.10/dist-packages (from transformers[torch]) (4.65.0)\n",
            "Requirement already satisfied: torch!=1.12.0,>=1.9 in /usr/local/lib/python3.10/dist-packages (from transformers[torch]) (2.0.1+cu118)\n",
            "Collecting accelerate>=0.20.2 (from transformers[torch])\n",
            "  Downloading accelerate-0.21.0-py3-none-any.whl (244 kB)\n",
            "\u001b[2K     \u001b[90m━━━━━━━━━━━━━━━━━━━━━━━━━━━━━━━━━━━━━━━\u001b[0m \u001b[32m244.2/244.2 kB\u001b[0m \u001b[31m6.5 MB/s\u001b[0m eta \u001b[36m0:00:00\u001b[0m\n",
            "\u001b[?25hRequirement already satisfied: psutil in /usr/local/lib/python3.10/dist-packages (from accelerate>=0.20.2->transformers[torch]) (5.9.5)\n",
            "Requirement already satisfied: fsspec in /usr/local/lib/python3.10/dist-packages (from huggingface-hub<1.0,>=0.14.1->transformers[torch]) (2023.6.0)\n",
            "Requirement already satisfied: typing-extensions>=3.7.4.3 in /usr/local/lib/python3.10/dist-packages (from huggingface-hub<1.0,>=0.14.1->transformers[torch]) (4.7.1)\n",
            "Requirement already satisfied: sympy in /usr/local/lib/python3.10/dist-packages (from torch!=1.12.0,>=1.9->transformers[torch]) (1.11.1)\n",
            "Requirement already satisfied: networkx in /usr/local/lib/python3.10/dist-packages (from torch!=1.12.0,>=1.9->transformers[torch]) (3.1)\n",
            "Requirement already satisfied: jinja2 in /usr/local/lib/python3.10/dist-packages (from torch!=1.12.0,>=1.9->transformers[torch]) (3.1.2)\n",
            "Requirement already satisfied: triton==2.0.0 in /usr/local/lib/python3.10/dist-packages (from torch!=1.12.0,>=1.9->transformers[torch]) (2.0.0)\n",
            "Requirement already satisfied: cmake in /usr/local/lib/python3.10/dist-packages (from triton==2.0.0->torch!=1.12.0,>=1.9->transformers[torch]) (3.25.2)\n",
            "Requirement already satisfied: lit in /usr/local/lib/python3.10/dist-packages (from triton==2.0.0->torch!=1.12.0,>=1.9->transformers[torch]) (16.0.6)\n",
            "Requirement already satisfied: urllib3<1.27,>=1.21.1 in /usr/local/lib/python3.10/dist-packages (from requests->transformers[torch]) (1.26.16)\n",
            "Requirement already satisfied: certifi>=2017.4.17 in /usr/local/lib/python3.10/dist-packages (from requests->transformers[torch]) (2023.5.7)\n",
            "Requirement already satisfied: charset-normalizer~=2.0.0 in /usr/local/lib/python3.10/dist-packages (from requests->transformers[torch]) (2.0.12)\n",
            "Requirement already satisfied: idna<4,>=2.5 in /usr/local/lib/python3.10/dist-packages (from requests->transformers[torch]) (3.4)\n",
            "Requirement already satisfied: MarkupSafe>=2.0 in /usr/local/lib/python3.10/dist-packages (from jinja2->torch!=1.12.0,>=1.9->transformers[torch]) (2.1.3)\n",
            "Requirement already satisfied: mpmath>=0.19 in /usr/local/lib/python3.10/dist-packages (from sympy->torch!=1.12.0,>=1.9->transformers[torch]) (1.3.0)\n",
            "Installing collected packages: accelerate\n",
            "Successfully installed accelerate-0.21.0\n",
            "Requirement already satisfied: accelerate in /usr/local/lib/python3.10/dist-packages (0.21.0)\n",
            "Requirement already satisfied: numpy>=1.17 in /usr/local/lib/python3.10/dist-packages (from accelerate) (1.22.4)\n",
            "Requirement already satisfied: packaging>=20.0 in /usr/local/lib/python3.10/dist-packages (from accelerate) (23.1)\n",
            "Requirement already satisfied: psutil in /usr/local/lib/python3.10/dist-packages (from accelerate) (5.9.5)\n",
            "Requirement already satisfied: pyyaml in /usr/local/lib/python3.10/dist-packages (from accelerate) (6.0)\n",
            "Requirement already satisfied: torch>=1.10.0 in /usr/local/lib/python3.10/dist-packages (from accelerate) (2.0.1+cu118)\n",
            "Requirement already satisfied: filelock in /usr/local/lib/python3.10/dist-packages (from torch>=1.10.0->accelerate) (3.12.2)\n",
            "Requirement already satisfied: typing-extensions in /usr/local/lib/python3.10/dist-packages (from torch>=1.10.0->accelerate) (4.7.1)\n",
            "Requirement already satisfied: sympy in /usr/local/lib/python3.10/dist-packages (from torch>=1.10.0->accelerate) (1.11.1)\n",
            "Requirement already satisfied: networkx in /usr/local/lib/python3.10/dist-packages (from torch>=1.10.0->accelerate) (3.1)\n",
            "Requirement already satisfied: jinja2 in /usr/local/lib/python3.10/dist-packages (from torch>=1.10.0->accelerate) (3.1.2)\n",
            "Requirement already satisfied: triton==2.0.0 in /usr/local/lib/python3.10/dist-packages (from torch>=1.10.0->accelerate) (2.0.0)\n",
            "Requirement already satisfied: cmake in /usr/local/lib/python3.10/dist-packages (from triton==2.0.0->torch>=1.10.0->accelerate) (3.25.2)\n",
            "Requirement already satisfied: lit in /usr/local/lib/python3.10/dist-packages (from triton==2.0.0->torch>=1.10.0->accelerate) (16.0.6)\n",
            "Requirement already satisfied: MarkupSafe>=2.0 in /usr/local/lib/python3.10/dist-packages (from jinja2->torch>=1.10.0->accelerate) (2.1.3)\n",
            "Requirement already satisfied: mpmath>=0.19 in /usr/local/lib/python3.10/dist-packages (from sympy->torch>=1.10.0->accelerate) (1.3.0)\n"
          ]
        }
      ],
      "source": [
        "!pip install datasets\n",
        "!pip install transformers\n",
        "!pip install sacremoses\n",
        "!pip install transformers[torch]\n",
        "!pip install accelerate -U"
      ]
    },
    {
      "cell_type": "code",
      "execution_count": null,
      "metadata": {
        "id": "HzT4-L196HOP"
      },
      "outputs": [],
      "source": [
        "import pandas as pd\n",
        "from sklearn.preprocessing import LabelEncoder\n",
        "\n",
        "#directory = 'drive/MyDrive'\n",
        "#data_df=pd.read_csv(directory + '/preprocessed_data.csv')\n",
        "#data_df=data_df.drop(\"ach\", axis=1)\n",
        "#data_df=data_df.drop(\"lemmatized_text_only_coommon\", axis=1)\n",
        "\n",
        "encoder = LabelEncoder()\n",
        "data_df['labels'] = encoder.fit_transform(data_df['party'])\n"
      ]
    },
    {
      "cell_type": "code",
      "execution_count": null,
      "metadata": {
        "id": "tRUbToknzncI"
      },
      "outputs": [],
      "source": [
        "def count_length(x):\n",
        "  if type(x)==str:\n",
        "    return len(x.split())\n",
        "  else:\n",
        "    return 0\n",
        "max_length= max(data_df['text'].apply(count_length))\n",
        "\n",
        "tweets_text=list(data_df['text'])\n",
        "labels=list(data_df['labels'])\n",
        "print(len(tweets_text))\n",
        "print(max_length)\n",
        "data_df.head()"
      ]
    },
    {
      "cell_type": "code",
      "execution_count": null,
      "metadata": {
        "id": "wGDBZsjAUH1O",
        "colab": {
          "base_uri": "https://localhost:8080/",
          "height": 738,
          "referenced_widgets": [
            "0a83c333e4f24fba991c7cf526321ede",
            "ae7a026ddd6f45508544c581ec5b725c",
            "d0b0131dbc9343479dc188547eeddf39",
            "50c345c9494d4868a2ed3bb8affeb206",
            "a9df4d9897dd4f30871d6a5a340886b3",
            "405b96b7316b488d8a823e7559d1e456",
            "192d75ab24ed42f5bb83bcb825acf820",
            "523edb2c615d4a3fa5a5cb9c3ca2a4d9",
            "a600a20512cf4667aaeee6c601b76fa6",
            "d612a304740c4792806dc82a69dfbd3d",
            "bc1419c857b148599e5a046ec669bdf9",
            "68e87bf488014130862ea5f7a0326bb7",
            "6dbe584568b84bd59373ff1b4d803fc6",
            "65d6d1d41b6646b5bc0c902ccee5f481",
            "759691084bbb4e48b3d891d4f5d68d3e",
            "c7b9d41a66e24d10848a28648a4de603",
            "bd46abd64a3b43e5ab3dba6fd5657295",
            "b1149ef9b21544dc979811e9d2384f02",
            "b8c14563ba494d9eb303bfdd9a56cdb9",
            "a057c9060fda436ab71815da481f5b1c",
            "03b4fa741fb34ebc899985d15a416708",
            "799fbf825ce6467492cb5c683fbc737b",
            "3a5167e021654cd79134082080db1daa",
            "d3bcb72b5854480ca00b6416527a4b34",
            "9c195e7b41a94ead830b1a61ae27532e",
            "e07b8d0bfe32485c80416e73a86761cc",
            "43dec9dbfb3f407b95c2c1e540e95e03",
            "4cc055162a304f4094825cf6da287fd4",
            "335f7bc479f74a69bfe75a8bc3034bcf",
            "06490cec285043ebadc40f74f34f8fa2",
            "0595b44199d040708e8906147b589f25",
            "c394d5843eff4d42b63683491d82d6a4",
            "c58710b726bf4d32b01baefadd4beee0"
          ]
        },
        "outputId": "45f125be-b7ac-48e5-ef77-2914e76a95ab"
      },
      "outputs": [
        {
          "output_type": "stream",
          "name": "stdout",
          "text": [
            "Collecting evaluate\n",
            "  Downloading evaluate-0.4.0-py3-none-any.whl (81 kB)\n",
            "\u001b[?25l     \u001b[90m━━━━━━━━━━━━━━━━━━━━━━━━━━━━━━━━━━━━━━━━\u001b[0m \u001b[32m0.0/81.4 kB\u001b[0m \u001b[31m?\u001b[0m eta \u001b[36m-:--:--\u001b[0m\r\u001b[2K     \u001b[90m━━━━━━━━━━━━━━━━━━━━━━━━━━━━━━━━━━━━━━━━\u001b[0m \u001b[32m81.4/81.4 kB\u001b[0m \u001b[31m4.1 MB/s\u001b[0m eta \u001b[36m0:00:00\u001b[0m\n",
            "\u001b[?25hRequirement already satisfied: datasets>=2.0.0 in /usr/local/lib/python3.10/dist-packages (from evaluate) (2.13.1)\n",
            "Requirement already satisfied: numpy>=1.17 in /usr/local/lib/python3.10/dist-packages (from evaluate) (1.22.4)\n",
            "Requirement already satisfied: dill in /usr/local/lib/python3.10/dist-packages (from evaluate) (0.3.6)\n",
            "Requirement already satisfied: pandas in /usr/local/lib/python3.10/dist-packages (from evaluate) (1.5.3)\n",
            "Requirement already satisfied: requests>=2.19.0 in /usr/local/lib/python3.10/dist-packages (from evaluate) (2.27.1)\n",
            "Requirement already satisfied: tqdm>=4.62.1 in /usr/local/lib/python3.10/dist-packages (from evaluate) (4.65.0)\n",
            "Requirement already satisfied: xxhash in /usr/local/lib/python3.10/dist-packages (from evaluate) (3.2.0)\n",
            "Requirement already satisfied: multiprocess in /usr/local/lib/python3.10/dist-packages (from evaluate) (0.70.14)\n",
            "Requirement already satisfied: fsspec[http]>=2021.05.0 in /usr/local/lib/python3.10/dist-packages (from evaluate) (2023.6.0)\n",
            "Requirement already satisfied: huggingface-hub>=0.7.0 in /usr/local/lib/python3.10/dist-packages (from evaluate) (0.16.4)\n",
            "Requirement already satisfied: packaging in /usr/local/lib/python3.10/dist-packages (from evaluate) (23.1)\n",
            "Collecting responses<0.19 (from evaluate)\n",
            "  Downloading responses-0.18.0-py3-none-any.whl (38 kB)\n",
            "Requirement already satisfied: pyarrow>=8.0.0 in /usr/local/lib/python3.10/dist-packages (from datasets>=2.0.0->evaluate) (9.0.0)\n",
            "Requirement already satisfied: aiohttp in /usr/local/lib/python3.10/dist-packages (from datasets>=2.0.0->evaluate) (3.8.4)\n",
            "Requirement already satisfied: pyyaml>=5.1 in /usr/local/lib/python3.10/dist-packages (from datasets>=2.0.0->evaluate) (6.0)\n",
            "Requirement already satisfied: filelock in /usr/local/lib/python3.10/dist-packages (from huggingface-hub>=0.7.0->evaluate) (3.12.2)\n",
            "Requirement already satisfied: typing-extensions>=3.7.4.3 in /usr/local/lib/python3.10/dist-packages (from huggingface-hub>=0.7.0->evaluate) (4.7.1)\n",
            "Requirement already satisfied: urllib3<1.27,>=1.21.1 in /usr/local/lib/python3.10/dist-packages (from requests>=2.19.0->evaluate) (1.26.16)\n",
            "Requirement already satisfied: certifi>=2017.4.17 in /usr/local/lib/python3.10/dist-packages (from requests>=2.19.0->evaluate) (2023.5.7)\n",
            "Requirement already satisfied: charset-normalizer~=2.0.0 in /usr/local/lib/python3.10/dist-packages (from requests>=2.19.0->evaluate) (2.0.12)\n",
            "Requirement already satisfied: idna<4,>=2.5 in /usr/local/lib/python3.10/dist-packages (from requests>=2.19.0->evaluate) (3.4)\n",
            "Requirement already satisfied: python-dateutil>=2.8.1 in /usr/local/lib/python3.10/dist-packages (from pandas->evaluate) (2.8.2)\n",
            "Requirement already satisfied: pytz>=2020.1 in /usr/local/lib/python3.10/dist-packages (from pandas->evaluate) (2022.7.1)\n",
            "Requirement already satisfied: attrs>=17.3.0 in /usr/local/lib/python3.10/dist-packages (from aiohttp->datasets>=2.0.0->evaluate) (23.1.0)\n",
            "Requirement already satisfied: multidict<7.0,>=4.5 in /usr/local/lib/python3.10/dist-packages (from aiohttp->datasets>=2.0.0->evaluate) (6.0.4)\n",
            "Requirement already satisfied: async-timeout<5.0,>=4.0.0a3 in /usr/local/lib/python3.10/dist-packages (from aiohttp->datasets>=2.0.0->evaluate) (4.0.2)\n",
            "Requirement already satisfied: yarl<2.0,>=1.0 in /usr/local/lib/python3.10/dist-packages (from aiohttp->datasets>=2.0.0->evaluate) (1.9.2)\n",
            "Requirement already satisfied: frozenlist>=1.1.1 in /usr/local/lib/python3.10/dist-packages (from aiohttp->datasets>=2.0.0->evaluate) (1.3.3)\n",
            "Requirement already satisfied: aiosignal>=1.1.2 in /usr/local/lib/python3.10/dist-packages (from aiohttp->datasets>=2.0.0->evaluate) (1.3.1)\n",
            "Requirement already satisfied: six>=1.5 in /usr/local/lib/python3.10/dist-packages (from python-dateutil>=2.8.1->pandas->evaluate) (1.16.0)\n",
            "Installing collected packages: responses, evaluate\n",
            "Successfully installed evaluate-0.4.0 responses-0.18.0\n"
          ]
        },
        {
          "output_type": "display_data",
          "data": {
            "text/plain": [
              "Downloading builder script:   0%|          | 0.00/6.77k [00:00<?, ?B/s]"
            ],
            "application/vnd.jupyter.widget-view+json": {
              "version_major": 2,
              "version_minor": 0,
              "model_id": "0a83c333e4f24fba991c7cf526321ede"
            }
          },
          "metadata": {}
        },
        {
          "output_type": "display_data",
          "data": {
            "text/plain": [
              "Downloading builder script:   0%|          | 0.00/7.36k [00:00<?, ?B/s]"
            ],
            "application/vnd.jupyter.widget-view+json": {
              "version_major": 2,
              "version_minor": 0,
              "model_id": "68e87bf488014130862ea5f7a0326bb7"
            }
          },
          "metadata": {}
        },
        {
          "output_type": "display_data",
          "data": {
            "text/plain": [
              "Downloading builder script:   0%|          | 0.00/4.20k [00:00<?, ?B/s]"
            ],
            "application/vnd.jupyter.widget-view+json": {
              "version_major": 2,
              "version_minor": 0,
              "model_id": "3a5167e021654cd79134082080db1daa"
            }
          },
          "metadata": {}
        }
      ],
      "source": [
        "!pip install evaluate\n",
        "import evaluate\n",
        "import numpy as np\n",
        "f1_metric = evaluate.load(\"f1\")\n",
        "recall_metric = evaluate.load(\"recall\")\n",
        "accuracy_metric=evaluate.load(\"accuracy\")\n",
        "def compute_metrics (eval_pred):\n",
        "    logits, labels = eval_pred\n",
        "    preds = np.argmax(logits, axis = -1)\n",
        "\n",
        "    results = {}\n",
        "    results.update(f1_metric.compute(predictions=preds, references = labels, average=\"weighted\"))\n",
        "    results.update(recall_metric.compute(predictions=preds, references = labels, average=\"weighted\"))\n",
        "    results.update(accuracy_metric.compute(predictions=preds, references = labels))\n",
        "    return results"
      ]
    },
    {
      "cell_type": "code",
      "execution_count": null,
      "metadata": {
        "colab": {
          "base_uri": "https://localhost:8080/",
          "height": 177,
          "referenced_widgets": [
            "af61c734a2c84aaab7f06eacf3aaf1fa",
            "e5c85a2c92c84388a99d36abe9492b42",
            "73589ef319d1492aa04717adda90ff1e",
            "21d93ef3877f41afab40257963fce491",
            "e40af7ded49543179b42e99edd4dce44",
            "0701a39ec8d64f76bd07f45aa65dfa6d",
            "8e48805d46e048e589acf0c0991127cb",
            "824d024d3f88418086c29c9f97eb87ca",
            "cb566c34eeb445e58c7a8201b0c07834",
            "a2e4297f071f4e47a4b64ceaba357595",
            "d57698d60b984b6a842a6e4978c304f1",
            "76fc50101ff14ad6a9b443c2e67780e7",
            "c27a5991f0ea4543b8745f011d748a00",
            "91ad4d5aa62348f4887c7648d4ae9c6f",
            "8de255b1361a4caeacc23e923029f9d9",
            "06de9b2d638d421498c99773055b2676",
            "b210a86342fe4758b02f80e5b9d142c5",
            "d7e26febe9ee44fa9eeafccc5c1f7d52",
            "5e7629f0ed0844eabdb030b237ba3557",
            "fc7762d3ac1341fb993757a10096e391",
            "5f0834ce431f49fb8d047ea390172958",
            "520e3ef905c642fe921a4e571b0d7e89",
            "b1498a8845d5415ab53a97b63d9c0ac8",
            "f2c47d75d460475eb5859f2cf2393477",
            "0ede8fe8e7e84b71b4c5e65934ab4259",
            "114d03fe56f74909b8ad8e999371bd0e",
            "c1233411942f4827a8efd0344aa768fa",
            "e620754c8aad43139fb1ca2da2f68870",
            "254dcaf4252a46baa8700178dc55a551",
            "0a33ef01b8804771942d0917c5109d68",
            "f02034f70bca4155bfc23623239a5d37",
            "15aff10d30e240f4a5247f53b32106ec",
            "38373cf07a0644de8a6f9b293064a75f",
            "828838d2cac240ea83b1fefe5024e102",
            "a006e6ff7cb744d3a1ab69b0e397f1dc",
            "d98c6f7e2aa441da866675f60ecd0c58",
            "7fc0650632754e94a66295edbf54c2e6",
            "f28feaf5e7c54e9996e4395a829303f8",
            "9485a2c0dcc24bfdb44f0d1e875f07c0",
            "a61caf1a9c2946dea3af80608648e17d",
            "397c8df9a3d141d593ddda956b4fcd4c",
            "b90542eeec0d4633b2abced024aa3490",
            "1b296e42bec540d09d0a8ea0a8194652",
            "bf5358950cda40b1a56e727083459cde",
            "fa033b2c877c465b938977f062254a1c",
            "44e2155f25264e83a9ff5921975a5e61",
            "e42338f8afc647b9abc804a97d3417fc",
            "6205c7cee93e43459717934baad571c2",
            "7469f735e0ef4ad8888f575c10abbdd4",
            "258bef030e33459788e34dbacc9b7717",
            "12d3766c20414172a3d6a7c9b3fd310a",
            "fcb8c2ec95c74f788918b15b4554716c",
            "0f626b51bdcc467c9d3af96a8d45215d",
            "92016dff8f054c67bea6cd0a72d99d9e",
            "ee64f82a79e642c392e61f8dbc599705",
            "e8cf12288d064915b14316a608f9f223",
            "818b3c5feac64a7f8b7fa30aae9dba26",
            "e090a08d83694b488b0bd91f67a2b2ee",
            "60a927df912c4c9c84dffd4c2809663f",
            "b7b96aac524240a1984e1ec753afa14b",
            "6436accc446f4934a7531f7f6fe522cb",
            "fc0fd4efbfa64d87a1b4dc81907c0aa6",
            "a83b365baef84d5b83932624f73cd5e9",
            "f107ded1c3b04040a5ccc15e3f2e295c",
            "c77e1004b0f84292ae36359399c37bbb",
            "523178bc3b9348f39f6f91db34519301"
          ]
        },
        "id": "BHu2MjfDZ6G4",
        "outputId": "63695ddc-1463-4afe-f710-baacb9a1feef"
      },
      "outputs": [
        {
          "output_type": "display_data",
          "data": {
            "text/plain": [
              "Downloading (…)okenizer_config.json:   0%|          | 0.00/229 [00:00<?, ?B/s]"
            ],
            "application/vnd.jupyter.widget-view+json": {
              "version_major": 2,
              "version_minor": 0,
              "model_id": "af61c734a2c84aaab7f06eacf3aaf1fa"
            }
          },
          "metadata": {}
        },
        {
          "output_type": "display_data",
          "data": {
            "text/plain": [
              "Downloading (…)lve/main/config.json:   0%|          | 0.00/472 [00:00<?, ?B/s]"
            ],
            "application/vnd.jupyter.widget-view+json": {
              "version_major": 2,
              "version_minor": 0,
              "model_id": "76fc50101ff14ad6a9b443c2e67780e7"
            }
          },
          "metadata": {}
        },
        {
          "output_type": "display_data",
          "data": {
            "text/plain": [
              "Downloading (…)olve/main/vocab.json:   0%|          | 0.00/907k [00:00<?, ?B/s]"
            ],
            "application/vnd.jupyter.widget-view+json": {
              "version_major": 2,
              "version_minor": 0,
              "model_id": "b1498a8845d5415ab53a97b63d9c0ac8"
            }
          },
          "metadata": {}
        },
        {
          "output_type": "display_data",
          "data": {
            "text/plain": [
              "Downloading (…)olve/main/merges.txt:   0%|          | 0.00/556k [00:00<?, ?B/s]"
            ],
            "application/vnd.jupyter.widget-view+json": {
              "version_major": 2,
              "version_minor": 0,
              "model_id": "828838d2cac240ea83b1fefe5024e102"
            }
          },
          "metadata": {}
        },
        {
          "output_type": "display_data",
          "data": {
            "text/plain": [
              "Downloading (…)cial_tokens_map.json:   0%|          | 0.00/129 [00:00<?, ?B/s]"
            ],
            "application/vnd.jupyter.widget-view+json": {
              "version_major": 2,
              "version_minor": 0,
              "model_id": "fa033b2c877c465b938977f062254a1c"
            }
          },
          "metadata": {}
        },
        {
          "output_type": "display_data",
          "data": {
            "text/plain": [
              "Map:   0%|          | 0/20564 [00:00<?, ? examples/s]"
            ],
            "application/vnd.jupyter.widget-view+json": {
              "version_major": 2,
              "version_minor": 0,
              "model_id": "e8cf12288d064915b14316a608f9f223"
            }
          },
          "metadata": {}
        }
      ],
      "source": [
        "from datasets import Dataset\n",
        "from transformers import AutoTokenizer\n",
        "\n",
        "dataset_text = Dataset.from_pandas(data_df[['text','labels']])\n",
        "\n",
        "#dataset_lemmatized_text = Dataset.from_pandas(data_df[['lemmatized_text','labels']])\n",
        "#dataset_lemmatized_text = dataset_lemmatized_text.rename_column(\"lemmatized_text\", \"text\")\n",
        "\n",
        "#dataset_lemmatized_text_only_common = Dataset.from_pandas(data_df[['lemmatized_text_only_common','labels']].dropna())#okazało się, że coś zrobiło się całkiem puste\n",
        "#dataset_lemmatized_text_only_common = dataset_lemmatized_text_only_common.rename_column(\"lemmatized_text_only_common\", \"text\")\n",
        "\n",
        "tokenizer = AutoTokenizer.from_pretrained(\"allegro/herbert-base-cased\")\n",
        "\n",
        "\n",
        "def tokenize_function(examples):\n",
        "    return tokenizer(examples[\"text\"], padding='max_length', truncation=True)\n",
        "\n",
        "tokenized_datasets_text = dataset_text.map(tokenize_function, batched=True)\n",
        "#tokenized_datasets_lemmatized_text = dataset_lemmatized_text.map(tokenize_function, batched=True)\n",
        "#tokenized_datasets_lemmatized_text_only_common = dataset_lemmatized_text_only_common.map(tokenize_function, batched=True)"
      ]
    },
    {
      "cell_type": "code",
      "execution_count": null,
      "metadata": {
        "id": "jEpo3wBle3wx"
      },
      "outputs": [],
      "source": [
        "final_dataset = tokenized_datasets_text.train_test_split(test_size=0.1)\n",
        "\n",
        "train_dataset_text = final_dataset[\"train\"].shuffle(seed=42).select(range(4000))\n",
        "eval_dataset_text = final_dataset[\"test\"].select(range(500))\n",
        "test_dataset_text = final_dataset[\"test\"].select(range(500,1000))\n",
        "\n",
        "#final_dataset = tokenized_datasets_lemmatized_text.train_test_split(test_size=0.1)\n",
        "\n",
        "#train_dataset_lemmatized_text = final_dataset[\"train\"].shuffle(seed=42).select(range(4000))\n",
        "#eval_dataset_lemmatized_text = final_dataset[\"test\"].select(range(500))\n",
        "#test_dataset_lemmatized_text = final_dataset[\"test\"].select(range(500,1000))\n",
        "\n",
        "#final_dataset = tokenized_datasets_lemmatized_text_only_common.train_test_split(test_size=0.1)\n",
        "\n",
        "#train_dataset_lemmatized_text_only_common = final_dataset[\"train\"].shuffle(seed=42).select(range(4000))\n",
        "#eval_dataset_lemmatized_text_only_common = final_dataset[\"test\"].select(range(500))\n",
        "#test_dataset_lemmatized_text_only_common = final_dataset[\"test\"].select(range(500,1000))"
      ]
    },
    {
      "cell_type": "markdown",
      "metadata": {
        "id": "s1woIbZaZdAZ"
      },
      "source": [
        "##Wandb i stworzenie modelu"
      ]
    },
    {
      "cell_type": "code",
      "execution_count": null,
      "metadata": {
        "colab": {
          "base_uri": "https://localhost:8080/",
          "height": 225
        },
        "id": "zknnHpTP83ES",
        "outputId": "668cc49c-3076-4f55-b022-c0cd15b56244"
      },
      "outputs": [
        {
          "output_type": "stream",
          "name": "stdout",
          "text": [
            "\u001b[2K     \u001b[90m━━━━━━━━━━━━━━━━━━━━━━━━━━━━━━━━━━━━━━━━\u001b[0m \u001b[32m2.1/2.1 MB\u001b[0m \u001b[31m16.3 MB/s\u001b[0m eta \u001b[36m0:00:00\u001b[0m\n",
            "\u001b[2K     \u001b[90m━━━━━━━━━━━━━━━━━━━━━━━━━━━━━━━━━━━━━━\u001b[0m \u001b[32m188.5/188.5 kB\u001b[0m \u001b[31m18.2 MB/s\u001b[0m eta \u001b[36m0:00:00\u001b[0m\n",
            "\u001b[2K     \u001b[90m━━━━━━━━━━━━━━━━━━━━━━━━━━━━━━━━━━━━━━\u001b[0m \u001b[32m214.7/214.7 kB\u001b[0m \u001b[31m20.3 MB/s\u001b[0m eta \u001b[36m0:00:00\u001b[0m\n",
            "\u001b[?25h  Preparing metadata (setup.py) ... \u001b[?25l\u001b[?25hdone\n",
            "\u001b[2K     \u001b[90m━━━━━━━━━━━━━━━━━━━━━━━━━━━━━━━━━━━━━━━━\u001b[0m \u001b[32m62.7/62.7 kB\u001b[0m \u001b[31m8.2 MB/s\u001b[0m eta \u001b[36m0:00:00\u001b[0m\n",
            "\u001b[?25h  Building wheel for pathtools (setup.py) ... \u001b[?25l\u001b[?25hdone\n"
          ]
        },
        {
          "output_type": "display_data",
          "data": {
            "text/plain": [
              "<IPython.core.display.Javascript object>"
            ],
            "application/javascript": [
              "\n",
              "        window._wandbApiKey = new Promise((resolve, reject) => {\n",
              "            function loadScript(url) {\n",
              "            return new Promise(function(resolve, reject) {\n",
              "                let newScript = document.createElement(\"script\");\n",
              "                newScript.onerror = reject;\n",
              "                newScript.onload = resolve;\n",
              "                document.body.appendChild(newScript);\n",
              "                newScript.src = url;\n",
              "            });\n",
              "            }\n",
              "            loadScript(\"https://cdn.jsdelivr.net/npm/postmate/build/postmate.min.js\").then(() => {\n",
              "            const iframe = document.createElement('iframe')\n",
              "            iframe.style.cssText = \"width:0;height:0;border:none\"\n",
              "            document.body.appendChild(iframe)\n",
              "            const handshake = new Postmate({\n",
              "                container: iframe,\n",
              "                url: 'https://wandb.ai/authorize'\n",
              "            });\n",
              "            const timeout = setTimeout(() => reject(\"Couldn't auto authenticate\"), 5000)\n",
              "            handshake.then(function(child) {\n",
              "                child.on('authorize', data => {\n",
              "                    clearTimeout(timeout)\n",
              "                    resolve(data)\n",
              "                });\n",
              "            });\n",
              "            })\n",
              "        });\n",
              "    "
            ]
          },
          "metadata": {}
        },
        {
          "output_type": "stream",
          "name": "stderr",
          "text": [
            "\u001b[34m\u001b[1mwandb\u001b[0m: Logging into wandb.ai. (Learn how to deploy a W&B server locally: https://wandb.me/wandb-server)\n",
            "\u001b[34m\u001b[1mwandb\u001b[0m: You can find your API key in your browser here: https://wandb.ai/authorize\n",
            "wandb: Paste an API key from your profile and hit enter, or press ctrl+c to quit:"
          ]
        },
        {
          "name": "stdout",
          "output_type": "stream",
          "text": [
            " ··········\n"
          ]
        },
        {
          "output_type": "stream",
          "name": "stderr",
          "text": [
            "\u001b[34m\u001b[1mwandb\u001b[0m: Appending key for api.wandb.ai to your netrc file: /root/.netrc\n"
          ]
        },
        {
          "output_type": "execute_result",
          "data": {
            "text/plain": [
              "True"
            ]
          },
          "metadata": {},
          "execution_count": 55
        }
      ],
      "source": [
        "!pip install wandb -qqq\n",
        "import wandb\n",
        "wandb.login()\n"
      ]
    },
    {
      "cell_type": "markdown",
      "source": [
        "###Model dla text"
      ],
      "metadata": {
        "id": "RvbUZOv1n0_P"
      }
    },
    {
      "cell_type": "code",
      "execution_count": null,
      "metadata": {
        "colab": {
          "base_uri": "https://localhost:8080/"
        },
        "id": "X14Hqc10Znsk",
        "outputId": "98ae0bec-2a9a-4f6e-a684-59c516c62e01"
      },
      "outputs": [
        {
          "output_type": "stream",
          "name": "stderr",
          "text": [
            "Some weights of the model checkpoint at allegro/herbert-base-cased were not used when initializing BertForSequenceClassification: ['cls.predictions.transform.dense.bias', 'cls.sso.sso_relationship.bias', 'cls.predictions.transform.dense.weight', 'cls.sso.sso_relationship.weight', 'cls.predictions.decoder.bias', 'cls.predictions.bias', 'cls.predictions.transform.LayerNorm.bias', 'cls.predictions.decoder.weight', 'cls.predictions.transform.LayerNorm.weight']\n",
            "- This IS expected if you are initializing BertForSequenceClassification from the checkpoint of a model trained on another task or with another architecture (e.g. initializing a BertForSequenceClassification model from a BertForPreTraining model).\n",
            "- This IS NOT expected if you are initializing BertForSequenceClassification from the checkpoint of a model that you expect to be exactly identical (initializing a BertForSequenceClassification model from a BertForSequenceClassification model).\n",
            "Some weights of BertForSequenceClassification were not initialized from the model checkpoint at allegro/herbert-base-cased and are newly initialized: ['classifier.weight', 'classifier.bias']\n",
            "You should probably TRAIN this model on a down-stream task to be able to use it for predictions and inference.\n"
          ]
        }
      ],
      "source": [
        "from transformers import AutoModelForSequenceClassification\n",
        "\n",
        "model=AutoModelForSequenceClassification.from_pretrained(\"allegro/herbert-base-cased\", num_labels=5)"
      ]
    },
    {
      "cell_type": "code",
      "execution_count": null,
      "metadata": {
        "id": "3w_px6K0kN2-",
        "colab": {
          "base_uri": "https://localhost:8080/",
          "height": 104
        },
        "outputId": "5389b1d4-51a0-48dc-b657-a95cca7edce2"
      },
      "outputs": [
        {
          "output_type": "display_data",
          "data": {
            "text/plain": [
              "<IPython.core.display.HTML object>"
            ],
            "text/html": [
              "Tracking run with wandb version 0.15.5"
            ]
          },
          "metadata": {}
        },
        {
          "output_type": "display_data",
          "data": {
            "text/plain": [
              "<IPython.core.display.HTML object>"
            ],
            "text/html": [
              "Run data is saved locally in <code>/content/wandb/run-20230714_140720-iv8co8uu</code>"
            ]
          },
          "metadata": {}
        },
        {
          "output_type": "display_data",
          "data": {
            "text/plain": [
              "<IPython.core.display.HTML object>"
            ],
            "text/html": [
              "Syncing run <strong><a href='https://wandb.ai/julian-petrykowski/projekt%20inzynieria%20lingwistyczna/runs/iv8co8uu' target=\"_blank\">text_20_epochs_plain_text</a></strong> to <a href='https://wandb.ai/julian-petrykowski/projekt%20inzynieria%20lingwistyczna' target=\"_blank\">Weights & Biases</a> (<a href='https://wandb.me/run' target=\"_blank\">docs</a>)<br/>"
            ]
          },
          "metadata": {}
        },
        {
          "output_type": "display_data",
          "data": {
            "text/plain": [
              "<IPython.core.display.HTML object>"
            ],
            "text/html": [
              " View project at <a href='https://wandb.ai/julian-petrykowski/projekt%20inzynieria%20lingwistyczna' target=\"_blank\">https://wandb.ai/julian-petrykowski/projekt%20inzynieria%20lingwistyczna</a>"
            ]
          },
          "metadata": {}
        },
        {
          "output_type": "display_data",
          "data": {
            "text/plain": [
              "<IPython.core.display.HTML object>"
            ],
            "text/html": [
              " View run at <a href='https://wandb.ai/julian-petrykowski/projekt%20inzynieria%20lingwistyczna/runs/iv8co8uu' target=\"_blank\">https://wandb.ai/julian-petrykowski/projekt%20inzynieria%20lingwistyczna/runs/iv8co8uu</a>"
            ]
          },
          "metadata": {}
        }
      ],
      "source": [
        "from transformers import TrainingArguments, Trainer\n",
        "\n",
        "wandb.init(project=\"projekt inzynieria lingwistyczna\", name=\"text_20_epochs_plain_text\")\n",
        "\n",
        "training_args = TrainingArguments(output_dir=\"wyniki_text\",\n",
        "                                  evaluation_strategy=\"epoch\",\n",
        "                                  logging_strategy=\"epoch\",\n",
        "                                  num_train_epochs=20,\n",
        "                                  report_to=\"wandb\",\n",
        "                                  run_name=\"text_20_epochs_plain_text\",\n",
        "                                  learning_rate=10**(-2),\n",
        "\n",
        "                                  )\n"
      ]
    },
    {
      "cell_type": "code",
      "execution_count": null,
      "metadata": {
        "id": "G_YmAMvAkb7_"
      },
      "outputs": [],
      "source": [
        "model_1=model\n",
        "trainer = Trainer(\n",
        "    model=model_1,\n",
        "    args=training_args,\n",
        "    train_dataset=train_dataset_text,\n",
        "    eval_dataset=eval_dataset_text,\n",
        "    compute_metrics=compute_metrics\n",
        ")"
      ]
    },
    {
      "cell_type": "code",
      "execution_count": null,
      "metadata": {
        "id": "w3Tx54Zc5_Rm",
        "colab": {
          "base_uri": "https://localhost:8080/",
          "height": 792
        },
        "outputId": "d1baf2ec-f807-4953-f9cf-ba861d19a820"
      },
      "outputs": [
        {
          "output_type": "stream",
          "name": "stderr",
          "text": [
            "/usr/local/lib/python3.10/dist-packages/transformers/optimization.py:411: FutureWarning: This implementation of AdamW is deprecated and will be removed in a future version. Use the PyTorch implementation torch.optim.AdamW instead, or set `no_deprecation_warning=True` to disable this warning\n",
            "  warnings.warn(\n"
          ]
        },
        {
          "output_type": "display_data",
          "data": {
            "text/plain": [
              "<IPython.core.display.HTML object>"
            ],
            "text/html": [
              "\n",
              "    <div>\n",
              "      \n",
              "      <progress value='10000' max='10000' style='width:300px; height:20px; vertical-align: middle;'></progress>\n",
              "      [10000/10000 2:03:59, Epoch 20/20]\n",
              "    </div>\n",
              "    <table border=\"1\" class=\"dataframe\">\n",
              "  <thead>\n",
              " <tr style=\"text-align: left;\">\n",
              "      <th>Epoch</th>\n",
              "      <th>Training Loss</th>\n",
              "      <th>Validation Loss</th>\n",
              "      <th>F1</th>\n",
              "      <th>Recall</th>\n",
              "      <th>Accuracy</th>\n",
              "    </tr>\n",
              "  </thead>\n",
              "  <tbody>\n",
              "    <tr>\n",
              "      <td>1</td>\n",
              "      <td>2.853000</td>\n",
              "      <td>2.205205</td>\n",
              "      <td>0.127210</td>\n",
              "      <td>0.286000</td>\n",
              "      <td>0.286000</td>\n",
              "    </tr>\n",
              "    <tr>\n",
              "      <td>2</td>\n",
              "      <td>2.843000</td>\n",
              "      <td>3.277963</td>\n",
              "      <td>0.027359</td>\n",
              "      <td>0.124000</td>\n",
              "      <td>0.124000</td>\n",
              "    </tr>\n",
              "    <tr>\n",
              "      <td>3</td>\n",
              "      <td>2.868400</td>\n",
              "      <td>2.075610</td>\n",
              "      <td>0.057189</td>\n",
              "      <td>0.184000</td>\n",
              "      <td>0.184000</td>\n",
              "    </tr>\n",
              "    <tr>\n",
              "      <td>4</td>\n",
              "      <td>2.820200</td>\n",
              "      <td>1.781992</td>\n",
              "      <td>0.088746</td>\n",
              "      <td>0.234000</td>\n",
              "      <td>0.234000</td>\n",
              "    </tr>\n",
              "    <tr>\n",
              "      <td>5</td>\n",
              "      <td>2.632400</td>\n",
              "      <td>2.186419</td>\n",
              "      <td>0.088746</td>\n",
              "      <td>0.234000</td>\n",
              "      <td>0.234000</td>\n",
              "    </tr>\n",
              "    <tr>\n",
              "      <td>6</td>\n",
              "      <td>2.846400</td>\n",
              "      <td>4.588333</td>\n",
              "      <td>0.088746</td>\n",
              "      <td>0.234000</td>\n",
              "      <td>0.234000</td>\n",
              "    </tr>\n",
              "    <tr>\n",
              "      <td>7</td>\n",
              "      <td>2.608000</td>\n",
              "      <td>1.976235</td>\n",
              "      <td>0.027359</td>\n",
              "      <td>0.124000</td>\n",
              "      <td>0.124000</td>\n",
              "    </tr>\n",
              "    <tr>\n",
              "      <td>8</td>\n",
              "      <td>2.609400</td>\n",
              "      <td>2.508597</td>\n",
              "      <td>0.027359</td>\n",
              "      <td>0.124000</td>\n",
              "      <td>0.124000</td>\n",
              "    </tr>\n",
              "    <tr>\n",
              "      <td>9</td>\n",
              "      <td>2.539600</td>\n",
              "      <td>1.963461</td>\n",
              "      <td>0.127210</td>\n",
              "      <td>0.286000</td>\n",
              "      <td>0.286000</td>\n",
              "    </tr>\n",
              "    <tr>\n",
              "      <td>10</td>\n",
              "      <td>2.297200</td>\n",
              "      <td>1.744955</td>\n",
              "      <td>0.088746</td>\n",
              "      <td>0.234000</td>\n",
              "      <td>0.234000</td>\n",
              "    </tr>\n",
              "    <tr>\n",
              "      <td>11</td>\n",
              "      <td>2.189200</td>\n",
              "      <td>2.372080</td>\n",
              "      <td>0.127210</td>\n",
              "      <td>0.286000</td>\n",
              "      <td>0.286000</td>\n",
              "    </tr>\n",
              "    <tr>\n",
              "      <td>12</td>\n",
              "      <td>2.245300</td>\n",
              "      <td>2.021949</td>\n",
              "      <td>0.127210</td>\n",
              "      <td>0.286000</td>\n",
              "      <td>0.286000</td>\n",
              "    </tr>\n",
              "    <tr>\n",
              "      <td>13</td>\n",
              "      <td>2.150100</td>\n",
              "      <td>2.015909</td>\n",
              "      <td>0.050485</td>\n",
              "      <td>0.172000</td>\n",
              "      <td>0.172000</td>\n",
              "    </tr>\n",
              "    <tr>\n",
              "      <td>14</td>\n",
              "      <td>2.071600</td>\n",
              "      <td>1.942053</td>\n",
              "      <td>0.127210</td>\n",
              "      <td>0.286000</td>\n",
              "      <td>0.286000</td>\n",
              "    </tr>\n",
              "    <tr>\n",
              "      <td>15</td>\n",
              "      <td>1.980100</td>\n",
              "      <td>2.086786</td>\n",
              "      <td>0.127210</td>\n",
              "      <td>0.286000</td>\n",
              "      <td>0.286000</td>\n",
              "    </tr>\n",
              "    <tr>\n",
              "      <td>16</td>\n",
              "      <td>1.910200</td>\n",
              "      <td>1.577887</td>\n",
              "      <td>0.127210</td>\n",
              "      <td>0.286000</td>\n",
              "      <td>0.286000</td>\n",
              "    </tr>\n",
              "    <tr>\n",
              "      <td>17</td>\n",
              "      <td>1.832600</td>\n",
              "      <td>1.790855</td>\n",
              "      <td>0.127210</td>\n",
              "      <td>0.286000</td>\n",
              "      <td>0.286000</td>\n",
              "    </tr>\n",
              "    <tr>\n",
              "      <td>18</td>\n",
              "      <td>1.780500</td>\n",
              "      <td>1.637058</td>\n",
              "      <td>0.088746</td>\n",
              "      <td>0.234000</td>\n",
              "      <td>0.234000</td>\n",
              "    </tr>\n",
              "    <tr>\n",
              "      <td>19</td>\n",
              "      <td>1.703700</td>\n",
              "      <td>1.641899</td>\n",
              "      <td>0.127210</td>\n",
              "      <td>0.286000</td>\n",
              "      <td>0.286000</td>\n",
              "    </tr>\n",
              "    <tr>\n",
              "      <td>20</td>\n",
              "      <td>1.668000</td>\n",
              "      <td>1.571281</td>\n",
              "      <td>0.127210</td>\n",
              "      <td>0.286000</td>\n",
              "      <td>0.286000</td>\n",
              "    </tr>\n",
              "  </tbody>\n",
              "</table><p>"
            ]
          },
          "metadata": {}
        },
        {
          "output_type": "execute_result",
          "data": {
            "text/plain": [
              "TrainOutput(global_step=10000, training_loss=2.322438977050781, metrics={'train_runtime': 7440.5352, 'train_samples_per_second': 10.752, 'train_steps_per_second': 1.344, 'total_flos': 2.104945139712e+16, 'train_loss': 2.322438977050781, 'epoch': 20.0})"
            ]
          },
          "metadata": {},
          "execution_count": 69
        }
      ],
      "source": [
        "trainer.train()\n"
      ]
    },
    {
      "cell_type": "code",
      "source": [
        "evaluation_text_10_epochs=trainer.evaluate(eval_dataset=test_dataset_text)\n",
        "wandb.log({\"evaluation_lemmatized_text\":evaluation_text_10_epochs})\n",
        "print(evaluation_text_10_epochs)\n",
        "wandb.finish()"
      ],
      "metadata": {
        "colab": {
          "base_uri": "https://localhost:8080/",
          "height": 583
        },
        "id": "BGYYwr6gepr1",
        "outputId": "fe9f0dd8-df91-48c1-b19c-2c243b0d4be4"
      },
      "execution_count": null,
      "outputs": [
        {
          "output_type": "display_data",
          "data": {
            "text/plain": [
              "<IPython.core.display.HTML object>"
            ],
            "text/html": [
              "\n",
              "    <div>\n",
              "      \n",
              "      <progress value='63' max='63' style='width:300px; height:20px; vertical-align: middle;'></progress>\n",
              "      [63/63 00:14]\n",
              "    </div>\n",
              "    "
            ]
          },
          "metadata": {}
        },
        {
          "output_type": "stream",
          "name": "stdout",
          "text": [
            "{'eval_loss': 1.5524977445602417, 'eval_f1': 0.11480314960629921, 'eval_recall': 0.27, 'eval_accuracy': 0.27, 'eval_runtime': 14.5804, 'eval_samples_per_second': 34.293, 'eval_steps_per_second': 4.321, 'epoch': 20.0}\n"
          ]
        },
        {
          "output_type": "display_data",
          "data": {
            "text/plain": [
              "<IPython.core.display.HTML object>"
            ],
            "text/html": [
              "Waiting for W&B process to finish... <strong style=\"color:green\">(success).</strong>"
            ]
          },
          "metadata": {}
        },
        {
          "output_type": "display_data",
          "data": {
            "text/plain": [
              "<IPython.core.display.HTML object>"
            ],
            "text/html": [
              "<style>\n",
              "    table.wandb td:nth-child(1) { padding: 0 10px; text-align: left ; width: auto;} td:nth-child(2) {text-align: left ; width: 100%}\n",
              "    .wandb-row { display: flex; flex-direction: row; flex-wrap: wrap; justify-content: flex-start; width: 100% }\n",
              "    .wandb-col { display: flex; flex-direction: column; flex-basis: 100%; flex: 1; padding: 10px; }\n",
              "    </style>\n",
              "<div class=\"wandb-row\"><div class=\"wandb-col\"><h3>Run history:</h3><br/><table class=\"wandb\"><tr><td>eval/accuracy</td><td>█▁▄▆▆▆▁▁█▆██▃████▆██▇</td></tr><tr><td>eval/f1</td><td>█▁▃▅▅▅▁▁█▅██▃████▅██▇</td></tr><tr><td>eval/loss</td><td>▃▅▂▂▂█▂▃▂▁▃▂▂▂▂▁▂▁▁▁▁</td></tr><tr><td>eval/recall</td><td>█▁▄▆▆▆▁▁█▆██▃████▆██▇</td></tr><tr><td>eval/runtime</td><td>▃▆▃▅▆▅▁▆▅▄▃▃█▅▃▆▃▅▄▄▃</td></tr><tr><td>eval/samples_per_second</td><td>▆▃▆▄▃▄█▃▄▄▆▆▁▄▆▃▆▄▅▅▆</td></tr><tr><td>eval/steps_per_second</td><td>▆▃▆▄▃▄█▃▄▅▆▆▁▄▆▃▆▄▅▅▆</td></tr><tr><td>train/epoch</td><td>▁▁▁▁▂▂▂▂▂▂▃▃▃▃▄▄▄▄▄▄▅▅▅▅▅▆▆▆▆▇▇▇▇▇▇█████</td></tr><tr><td>train/global_step</td><td>▁▁▁▁▂▂▂▂▂▂▃▃▃▄▄▄▄▄▄▅▅▅▅▅▅▆▆▆▇▇▇▇▇▇██████</td></tr><tr><td>train/learning_rate</td><td>██▇▇▇▆▆▅▅▅▄▄▄▃▃▂▂▂▁▁</td></tr><tr><td>train/loss</td><td>████▇█▆▆▆▅▄▄▄▃▃▂▂▂▁▁</td></tr><tr><td>train/total_flos</td><td>▁</td></tr><tr><td>train/train_loss</td><td>▁</td></tr><tr><td>train/train_runtime</td><td>▁</td></tr><tr><td>train/train_samples_per_second</td><td>▁</td></tr><tr><td>train/train_steps_per_second</td><td>▁</td></tr></table><br/></div><div class=\"wandb-col\"><h3>Run summary:</h3><br/><table class=\"wandb\"><tr><td>eval/accuracy</td><td>0.27</td></tr><tr><td>eval/f1</td><td>0.1148</td></tr><tr><td>eval/loss</td><td>1.5525</td></tr><tr><td>eval/recall</td><td>0.27</td></tr><tr><td>eval/runtime</td><td>14.5804</td></tr><tr><td>eval/samples_per_second</td><td>34.293</td></tr><tr><td>eval/steps_per_second</td><td>4.321</td></tr><tr><td>train/epoch</td><td>20.0</td></tr><tr><td>train/global_step</td><td>10000</td></tr><tr><td>train/learning_rate</td><td>0.0</td></tr><tr><td>train/loss</td><td>1.668</td></tr><tr><td>train/total_flos</td><td>2.104945139712e+16</td></tr><tr><td>train/train_loss</td><td>2.32244</td></tr><tr><td>train/train_runtime</td><td>7440.5352</td></tr><tr><td>train/train_samples_per_second</td><td>10.752</td></tr><tr><td>train/train_steps_per_second</td><td>1.344</td></tr></table><br/></div></div>"
            ]
          },
          "metadata": {}
        },
        {
          "output_type": "display_data",
          "data": {
            "text/plain": [
              "<IPython.core.display.HTML object>"
            ],
            "text/html": [
              " View run <strong style=\"color:#cdcd00\">text_20_epochs_plain_text</strong> at: <a href='https://wandb.ai/julian-petrykowski/projekt%20inzynieria%20lingwistyczna/runs/iv8co8uu' target=\"_blank\">https://wandb.ai/julian-petrykowski/projekt%20inzynieria%20lingwistyczna/runs/iv8co8uu</a><br/>Synced 5 W&B file(s), 0 media file(s), 0 artifact file(s) and 0 other file(s)"
            ]
          },
          "metadata": {}
        },
        {
          "output_type": "display_data",
          "data": {
            "text/plain": [
              "<IPython.core.display.HTML object>"
            ],
            "text/html": [
              "Find logs at: <code>./wandb/run-20230714_140720-iv8co8uu/logs</code>"
            ]
          },
          "metadata": {}
        }
      ]
    },
    {
      "cell_type": "markdown",
      "source": [
        "###Model dla lemmatized_text"
      ],
      "metadata": {
        "id": "ekMl4-461bnF"
      }
    },
    {
      "cell_type": "code",
      "source": [
        "wandb.init(project=\"projekt inzynieria lingwistyczna\", name=\"lemmatized_text_10_epochs\")\n",
        "\n",
        "training_args2= TrainingArguments(output_dir=\"wyniki_text\",\n",
        "                                  evaluation_strategy=\"epoch\",\n",
        "                                  logging_strategy=\"epoch\",\n",
        "                                  num_train_epochs=10,\n",
        "                                  report_to=\"wandb\",\n",
        "                                  run_name=\"lemmatized_text_10_epochs\",\n",
        "                                  learning_rate=10**(-2),\n",
        "\n",
        "                                  )\n",
        "\n",
        "model_2=model\n",
        "trainer = Trainer(\n",
        "    model=model_2,\n",
        "    args=training_args2,\n",
        "    train_dataset=train_dataset_lemmatized_text,\n",
        "    eval_dataset=eval_dataset_lemmatized_text,\n",
        "    compute_metrics=compute_metrics\n",
        ")\n",
        "\n",
        "trainer.train()\n",
        "\n",
        "evaluation_lemmatized_text_10_epochs=trainer.evaluate(eval_dataset=test_dataset_lemmatized_text)\n",
        "wandb.log({\"evaluation_lemmatized_text\":evaluation_lemmatized_text_10_epochs})\n",
        "print(evaluation_lemmatized_text_10_epochs)\n",
        "\n",
        "wandb.finish()"
      ],
      "metadata": {
        "id": "KuplLMoq1djk"
      },
      "execution_count": null,
      "outputs": []
    },
    {
      "cell_type": "markdown",
      "source": [
        "### Model dla lemmatized_text_only_common"
      ],
      "metadata": {
        "id": "RSSI8Fq42py7"
      }
    },
    {
      "cell_type": "code",
      "source": [
        "wandb.init(project=\"projekt inzynieria lingwistyczna\", name=\"lemmatized_text_only_common_21_epochs\")\n",
        "\n",
        "training_args = TrainingArguments(output_dir=\"wyniki_text\",\n",
        "                                  evaluation_strategy=\"epoch\",\n",
        "                                  logging_strategy=\"epoch\",\n",
        "                                  num_train_epochs=21,\n",
        "                                  report_to=\"wandb\",\n",
        "                                  run_name=\"lemmatized_text_only_common_21_epochs\",\n",
        "                                  learning_rate=10**(-2),\n",
        "\n",
        "                                  )\n",
        "model_3=model\n",
        "trainer = Trainer(\n",
        "    model=model_3,\n",
        "    args=training_args,\n",
        "    train_dataset=train_dataset_lemmatized_text_only_common,\n",
        "    eval_dataset=eval_dataset_lemmatized_text_only_common,\n",
        "    compute_metrics=compute_metrics\n",
        ")\n",
        "\n",
        "trainer.train()\n",
        "\n",
        "evaluation_lemmatized_text_only_common_10_epochs=trainer.evaluate(eval_dataset=test_dataset_lemmatized_text_only_common)\n",
        "wandb.log({\"evaluation_lemmatized_text\":evaluation_lemmatized_text_only_common_10_epochs})\n",
        "print(evaluation_lemmatized_text_only_common_10_epochs)\n",
        "wandb.finish()"
      ],
      "metadata": {
        "colab": {
          "base_uri": "https://localhost:8080/",
          "height": 1000
        },
        "id": "ENKPC52l2tdm",
        "outputId": "225c77ec-e5b9-480a-bad8-f67de98c4675"
      },
      "execution_count": null,
      "outputs": [
        {
          "metadata": {
            "tags": null
          },
          "name": "stderr",
          "output_type": "stream",
          "text": [
            "\u001b[34m\u001b[1mwandb\u001b[0m: Currently logged in as: \u001b[33mjulian-petrykowski\u001b[0m. Use \u001b[1m`wandb login --relogin`\u001b[0m to force relogin\n"
          ]
        },
        {
          "data": {
            "text/html": [
              "Tracking run with wandb version 0.15.5"
            ],
            "text/plain": [
              "<IPython.core.display.HTML object>"
            ]
          },
          "metadata": {},
          "output_type": "display_data"
        },
        {
          "data": {
            "text/html": [
              "Run data is saved locally in <code>/content/wandb/run-20230709_191746-7s61vwfj</code>"
            ],
            "text/plain": [
              "<IPython.core.display.HTML object>"
            ]
          },
          "metadata": {},
          "output_type": "display_data"
        },
        {
          "data": {
            "text/html": [
              "Syncing run <strong><a href='https://wandb.ai/julian-petrykowski/projekt%20inzynieria%20lingwistyczna/runs/7s61vwfj' target=\"_blank\">lemmatized_text_only_common_21_epochs</a></strong> to <a href='https://wandb.ai/julian-petrykowski/projekt%20inzynieria%20lingwistyczna' target=\"_blank\">Weights & Biases</a> (<a href='https://wandb.me/run' target=\"_blank\">docs</a>)<br/>"
            ],
            "text/plain": [
              "<IPython.core.display.HTML object>"
            ]
          },
          "metadata": {},
          "output_type": "display_data"
        },
        {
          "data": {
            "text/html": [
              " View project at <a href='https://wandb.ai/julian-petrykowski/projekt%20inzynieria%20lingwistyczna' target=\"_blank\">https://wandb.ai/julian-petrykowski/projekt%20inzynieria%20lingwistyczna</a>"
            ],
            "text/plain": [
              "<IPython.core.display.HTML object>"
            ]
          },
          "metadata": {},
          "output_type": "display_data"
        },
        {
          "data": {
            "text/html": [
              " View run at <a href='https://wandb.ai/julian-petrykowski/projekt%20inzynieria%20lingwistyczna/runs/7s61vwfj' target=\"_blank\">https://wandb.ai/julian-petrykowski/projekt%20inzynieria%20lingwistyczna/runs/7s61vwfj</a>"
            ],
            "text/plain": [
              "<IPython.core.display.HTML object>"
            ]
          },
          "metadata": {},
          "output_type": "display_data"
        },
        {
          "metadata": {
            "tags": null
          },
          "name": "stderr",
          "output_type": "stream",
          "text": [
            "/usr/local/lib/python3.10/dist-packages/transformers/optimization.py:411: FutureWarning: This implementation of AdamW is deprecated and will be removed in a future version. Use the PyTorch implementation torch.optim.AdamW instead, or set `no_deprecation_warning=True` to disable this warning\n",
            "  warnings.warn(\n"
          ]
        },
        {
          "data": {
            "text/html": [
              "\n",
              "    <div>\n",
              "      \n",
              "      <progress value='4433' max='10500' style='width:300px; height:20px; vertical-align: middle;'></progress>\n",
              "      [ 4433/10500 58:48 < 1:20:30, 1.26 it/s, Epoch 8.86/21]\n",
              "    </div>\n",
              "    <table border=\"1\" class=\"dataframe\">\n",
              "  <thead>\n",
              " <tr style=\"text-align: left;\">\n",
              "      <th>Epoch</th>\n",
              "      <th>Training Loss</th>\n",
              "      <th>Validation Loss</th>\n",
              "      <th>F1</th>\n",
              "      <th>Recall</th>\n",
              "      <th>Accuracy</th>\n",
              "    </tr>\n",
              "  </thead>\n",
              "  <tbody>\n",
              "    <tr>\n",
              "      <td>1</td>\n",
              "      <td>2.693700</td>\n",
              "      <td>3.384280</td>\n",
              "      <td>0.070375</td>\n",
              "      <td>0.206000</td>\n",
              "      <td>0.206000</td>\n",
              "    </tr>\n",
              "    <tr>\n",
              "      <td>2</td>\n",
              "      <td>2.748600</td>\n",
              "      <td>2.581164</td>\n",
              "      <td>0.125632</td>\n",
              "      <td>0.284000</td>\n",
              "      <td>0.284000</td>\n",
              "    </tr>\n",
              "    <tr>\n",
              "      <td>3</td>\n",
              "      <td>2.793600</td>\n",
              "      <td>3.090258</td>\n",
              "      <td>0.053793</td>\n",
              "      <td>0.178000</td>\n",
              "      <td>0.178000</td>\n",
              "    </tr>\n",
              "    <tr>\n",
              "      <td>4</td>\n",
              "      <td>2.643200</td>\n",
              "      <td>2.270671</td>\n",
              "      <td>0.092903</td>\n",
              "      <td>0.240000</td>\n",
              "      <td>0.240000</td>\n",
              "    </tr>\n",
              "    <tr>\n",
              "      <td>5</td>\n",
              "      <td>2.666000</td>\n",
              "      <td>1.907109</td>\n",
              "      <td>0.092903</td>\n",
              "      <td>0.240000</td>\n",
              "      <td>0.240000</td>\n",
              "    </tr>\n",
              "    <tr>\n",
              "      <td>6</td>\n",
              "      <td>2.526600</td>\n",
              "      <td>1.795204</td>\n",
              "      <td>0.070375</td>\n",
              "      <td>0.206000</td>\n",
              "      <td>0.206000</td>\n",
              "    </tr>\n",
              "    <tr>\n",
              "      <td>7</td>\n",
              "      <td>2.561700</td>\n",
              "      <td>2.450413</td>\n",
              "      <td>0.125632</td>\n",
              "      <td>0.284000</td>\n",
              "      <td>0.284000</td>\n",
              "    </tr>\n",
              "    <tr>\n",
              "      <td>8</td>\n",
              "      <td>2.450200</td>\n",
              "      <td>1.667928</td>\n",
              "      <td>0.092903</td>\n",
              "      <td>0.240000</td>\n",
              "      <td>0.240000</td>\n",
              "    </tr>\n",
              "  </tbody>\n",
              "</table><p>"
            ],
            "text/plain": [
              "<IPython.core.display.HTML object>"
            ]
          },
          "metadata": {},
          "output_type": "display_data"
        },
        {
          "output_type": "display_data",
          "data": {
            "text/plain": [
              "<IPython.core.display.HTML object>"
            ],
            "text/html": [
              "\n",
              "    <div>\n",
              "      \n",
              "      <progress value='10500' max='10500' style='width:300px; height:20px; vertical-align: middle;'></progress>\n",
              "      [10500/10500 2:20:29, Epoch 21/21]\n",
              "    </div>\n",
              "    <table border=\"1\" class=\"dataframe\">\n",
              "  <thead>\n",
              " <tr style=\"text-align: left;\">\n",
              "      <th>Epoch</th>\n",
              "      <th>Training Loss</th>\n",
              "      <th>Validation Loss</th>\n",
              "      <th>F1</th>\n",
              "      <th>Recall</th>\n",
              "      <th>Accuracy</th>\n",
              "    </tr>\n",
              "  </thead>\n",
              "  <tbody>\n",
              "    <tr>\n",
              "      <td>1</td>\n",
              "      <td>2.693700</td>\n",
              "      <td>3.384280</td>\n",
              "      <td>0.070375</td>\n",
              "      <td>0.206000</td>\n",
              "      <td>0.206000</td>\n",
              "    </tr>\n",
              "    <tr>\n",
              "      <td>2</td>\n",
              "      <td>2.748600</td>\n",
              "      <td>2.581164</td>\n",
              "      <td>0.125632</td>\n",
              "      <td>0.284000</td>\n",
              "      <td>0.284000</td>\n",
              "    </tr>\n",
              "    <tr>\n",
              "      <td>3</td>\n",
              "      <td>2.793600</td>\n",
              "      <td>3.090258</td>\n",
              "      <td>0.053793</td>\n",
              "      <td>0.178000</td>\n",
              "      <td>0.178000</td>\n",
              "    </tr>\n",
              "    <tr>\n",
              "      <td>4</td>\n",
              "      <td>2.643200</td>\n",
              "      <td>2.270671</td>\n",
              "      <td>0.092903</td>\n",
              "      <td>0.240000</td>\n",
              "      <td>0.240000</td>\n",
              "    </tr>\n",
              "    <tr>\n",
              "      <td>5</td>\n",
              "      <td>2.666000</td>\n",
              "      <td>1.907109</td>\n",
              "      <td>0.092903</td>\n",
              "      <td>0.240000</td>\n",
              "      <td>0.240000</td>\n",
              "    </tr>\n",
              "    <tr>\n",
              "      <td>6</td>\n",
              "      <td>2.526600</td>\n",
              "      <td>1.795204</td>\n",
              "      <td>0.070375</td>\n",
              "      <td>0.206000</td>\n",
              "      <td>0.206000</td>\n",
              "    </tr>\n",
              "    <tr>\n",
              "      <td>7</td>\n",
              "      <td>2.561700</td>\n",
              "      <td>2.450413</td>\n",
              "      <td>0.125632</td>\n",
              "      <td>0.284000</td>\n",
              "      <td>0.284000</td>\n",
              "    </tr>\n",
              "    <tr>\n",
              "      <td>8</td>\n",
              "      <td>2.450200</td>\n",
              "      <td>1.667928</td>\n",
              "      <td>0.092903</td>\n",
              "      <td>0.240000</td>\n",
              "      <td>0.240000</td>\n",
              "    </tr>\n",
              "    <tr>\n",
              "      <td>9</td>\n",
              "      <td>2.457300</td>\n",
              "      <td>2.593766</td>\n",
              "      <td>0.125632</td>\n",
              "      <td>0.284000</td>\n",
              "      <td>0.284000</td>\n",
              "    </tr>\n",
              "    <tr>\n",
              "      <td>10</td>\n",
              "      <td>2.354800</td>\n",
              "      <td>2.089651</td>\n",
              "      <td>0.053793</td>\n",
              "      <td>0.178000</td>\n",
              "      <td>0.178000</td>\n",
              "    </tr>\n",
              "    <tr>\n",
              "      <td>11</td>\n",
              "      <td>2.246900</td>\n",
              "      <td>1.835869</td>\n",
              "      <td>0.092903</td>\n",
              "      <td>0.240000</td>\n",
              "      <td>0.240000</td>\n",
              "    </tr>\n",
              "    <tr>\n",
              "      <td>12</td>\n",
              "      <td>2.357300</td>\n",
              "      <td>1.878907</td>\n",
              "      <td>0.125632</td>\n",
              "      <td>0.284000</td>\n",
              "      <td>0.284000</td>\n",
              "    </tr>\n",
              "    <tr>\n",
              "      <td>13</td>\n",
              "      <td>2.163100</td>\n",
              "      <td>2.020044</td>\n",
              "      <td>0.053793</td>\n",
              "      <td>0.178000</td>\n",
              "      <td>0.178000</td>\n",
              "    </tr>\n",
              "    <tr>\n",
              "      <td>14</td>\n",
              "      <td>2.034500</td>\n",
              "      <td>1.636486</td>\n",
              "      <td>0.070375</td>\n",
              "      <td>0.206000</td>\n",
              "      <td>0.206000</td>\n",
              "    </tr>\n",
              "    <tr>\n",
              "      <td>15</td>\n",
              "      <td>2.048600</td>\n",
              "      <td>2.113428</td>\n",
              "      <td>0.053793</td>\n",
              "      <td>0.178000</td>\n",
              "      <td>0.178000</td>\n",
              "    </tr>\n",
              "    <tr>\n",
              "      <td>16</td>\n",
              "      <td>1.997300</td>\n",
              "      <td>1.621935</td>\n",
              "      <td>0.070375</td>\n",
              "      <td>0.206000</td>\n",
              "      <td>0.206000</td>\n",
              "    </tr>\n",
              "    <tr>\n",
              "      <td>17</td>\n",
              "      <td>1.876000</td>\n",
              "      <td>2.110681</td>\n",
              "      <td>0.053793</td>\n",
              "      <td>0.178000</td>\n",
              "      <td>0.178000</td>\n",
              "    </tr>\n",
              "    <tr>\n",
              "      <td>18</td>\n",
              "      <td>1.861800</td>\n",
              "      <td>1.643647</td>\n",
              "      <td>0.092903</td>\n",
              "      <td>0.240000</td>\n",
              "      <td>0.240000</td>\n",
              "    </tr>\n",
              "    <tr>\n",
              "      <td>19</td>\n",
              "      <td>1.766300</td>\n",
              "      <td>1.596433</td>\n",
              "      <td>0.125632</td>\n",
              "      <td>0.284000</td>\n",
              "      <td>0.284000</td>\n",
              "    </tr>\n",
              "    <tr>\n",
              "      <td>20</td>\n",
              "      <td>1.722200</td>\n",
              "      <td>1.696151</td>\n",
              "      <td>0.092903</td>\n",
              "      <td>0.240000</td>\n",
              "      <td>0.240000</td>\n",
              "    </tr>\n",
              "    <tr>\n",
              "      <td>21</td>\n",
              "      <td>1.649700</td>\n",
              "      <td>1.554377</td>\n",
              "      <td>0.125632</td>\n",
              "      <td>0.284000</td>\n",
              "      <td>0.284000</td>\n",
              "    </tr>\n",
              "  </tbody>\n",
              "</table><p>"
            ]
          },
          "metadata": {}
        },
        {
          "output_type": "display_data",
          "data": {
            "text/plain": [
              "<IPython.core.display.HTML object>"
            ],
            "text/html": [
              "\n",
              "    <div>\n",
              "      \n",
              "      <progress value='63' max='63' style='width:300px; height:20px; vertical-align: middle;'></progress>\n",
              "      [63/63 00:16]\n",
              "    </div>\n",
              "    "
            ]
          },
          "metadata": {}
        },
        {
          "output_type": "stream",
          "name": "stdout",
          "text": [
            "{'eval_loss': 1.5754269361495972, 'eval_f1': 0.12250000000000001, 'eval_recall': 0.28, 'eval_accuracy': 0.28, 'eval_runtime': 16.3436, 'eval_samples_per_second': 30.593, 'eval_steps_per_second': 3.855, 'epoch': 21.0}\n"
          ]
        },
        {
          "output_type": "display_data",
          "data": {
            "text/plain": [
              "<IPython.core.display.HTML object>"
            ],
            "text/html": [
              "Waiting for W&B process to finish... <strong style=\"color:green\">(success).</strong>"
            ]
          },
          "metadata": {}
        },
        {
          "output_type": "display_data",
          "data": {
            "text/plain": [
              "<IPython.core.display.HTML object>"
            ],
            "text/html": [
              "<style>\n",
              "    table.wandb td:nth-child(1) { padding: 0 10px; text-align: left ; width: auto;} td:nth-child(2) {text-align: left ; width: 100%}\n",
              "    .wandb-row { display: flex; flex-direction: row; flex-wrap: wrap; justify-content: flex-start; width: 100% }\n",
              "    .wandb-col { display: flex; flex-direction: column; flex-basis: 100%; flex: 1; padding: 10px; }\n",
              "    </style>\n",
              "<div class=\"wandb-row\"><div class=\"wandb-col\"><h3>Run history:</h3><br/><table class=\"wandb\"><tr><td>eval/accuracy</td><td>▃█▁▅▅▃█▅█▁▅█▁▃▁▃▁▅█▅██</td></tr><tr><td>eval/f1</td><td>▃█▁▅▅▃█▅█▁▅█▁▃▁▃▁▅█▅██</td></tr><tr><td>eval/loss</td><td>█▅▇▄▂▂▄▁▅▃▂▂▃▁▃▁▃▁▁▂▁▁</td></tr><tr><td>eval/recall</td><td>▃█▁▅▅▃█▅█▁▅█▁▃▁▃▁▅█▅██</td></tr><tr><td>eval/runtime</td><td>▂▂▄▃▁▃▁▃▃▂▃▃▃▂▂▂▂▂▂▃▄█</td></tr><tr><td>eval/samples_per_second</td><td>▇▇▅▆█▆█▆▆▇▆▆▆▇▇▇▇▇▆▆▅▁</td></tr><tr><td>eval/steps_per_second</td><td>▇▇▅▆█▆█▆▆▇▆▆▆▇▇▇▇▇▆▆▅▁</td></tr><tr><td>train/epoch</td><td>▁▁▁▁▂▂▂▂▂▂▃▃▃▃▃▄▄▄▄▅▅▅▅▅▆▆▆▆▆▆▇▇▇▇▇█████</td></tr><tr><td>train/global_step</td><td>▁▁▁▁▂▂▂▂▂▃▃▃▃▃▃▄▄▄▅▅▅▅▅▅▆▆▆▆▆▇▇▇▇▇██████</td></tr><tr><td>train/learning_rate</td><td>██▇▇▇▆▆▆▅▅▄▄▄▃▃▃▂▂▂▁▁</td></tr><tr><td>train/loss</td><td>▇██▇▇▆▇▆▆▅▅▅▄▃▃▃▂▂▂▁▁</td></tr><tr><td>train/total_flos</td><td>▁</td></tr><tr><td>train/train_loss</td><td>▁</td></tr><tr><td>train/train_runtime</td><td>▁</td></tr><tr><td>train/train_samples_per_second</td><td>▁</td></tr><tr><td>train/train_steps_per_second</td><td>▁</td></tr></table><br/></div><div class=\"wandb-col\"><h3>Run summary:</h3><br/><table class=\"wandb\"><tr><td>eval/accuracy</td><td>0.28</td></tr><tr><td>eval/f1</td><td>0.1225</td></tr><tr><td>eval/loss</td><td>1.57543</td></tr><tr><td>eval/recall</td><td>0.28</td></tr><tr><td>eval/runtime</td><td>16.3436</td></tr><tr><td>eval/samples_per_second</td><td>30.593</td></tr><tr><td>eval/steps_per_second</td><td>3.855</td></tr><tr><td>train/epoch</td><td>21.0</td></tr><tr><td>train/global_step</td><td>10500</td></tr><tr><td>train/learning_rate</td><td>0.0</td></tr><tr><td>train/loss</td><td>1.6497</td></tr><tr><td>train/total_flos</td><td>2.2101923966976e+16</td></tr><tr><td>train/train_loss</td><td>2.26758</td></tr><tr><td>train/train_runtime</td><td>8433.6143</td></tr><tr><td>train/train_samples_per_second</td><td>9.96</td></tr><tr><td>train/train_steps_per_second</td><td>1.245</td></tr></table><br/></div></div>"
            ]
          },
          "metadata": {}
        },
        {
          "output_type": "display_data",
          "data": {
            "text/plain": [
              "<IPython.core.display.HTML object>"
            ],
            "text/html": [
              " View run <strong style=\"color:#cdcd00\">lemmatized_text_only_common_21_epochs</strong> at: <a href='https://wandb.ai/julian-petrykowski/projekt%20inzynieria%20lingwistyczna/runs/7s61vwfj' target=\"_blank\">https://wandb.ai/julian-petrykowski/projekt%20inzynieria%20lingwistyczna/runs/7s61vwfj</a><br/>Synced 5 W&B file(s), 0 media file(s), 0 artifact file(s) and 0 other file(s)"
            ]
          },
          "metadata": {}
        },
        {
          "output_type": "display_data",
          "data": {
            "text/plain": [
              "<IPython.core.display.HTML object>"
            ],
            "text/html": [
              "Find logs at: <code>./wandb/run-20230709_191746-7s61vwfj/logs</code>"
            ]
          },
          "metadata": {}
        }
      ]
    },
    {
      "cell_type": "markdown",
      "source": [
        "###Benchmark"
      ],
      "metadata": {
        "id": "jtiNcq8h4WX7"
      }
    },
    {
      "cell_type": "code",
      "source": [
        "wandb.init(project=\"projekt inzynieria lingwistyczna\", name=\"benchmark\")\n",
        "\n",
        "trainer = Trainer(\n",
        "    model=model,\n",
        "    args=training_args,\n",
        "    train_dataset=train_dataset_lemmatized_text_only_common,\n",
        "    eval_dataset=eval_dataset_lemmatized_text_only_common,\n",
        "    compute_metrics=compute_metrics\n",
        ")\n",
        "evaluation=trainer.evaluate(eval_dataset=test_dataset_lemmatized_text_only_common)\n",
        "wandb.log({\"evaluation_lemmatized_text\":evaluation})\n",
        "wandb.finish()"
      ],
      "metadata": {
        "colab": {
          "base_uri": "https://localhost:8080/",
          "height": 667
        },
        "id": "H1BZxYu64ZED",
        "outputId": "e9207b37-6850-4c77-80d6-4ffd4da5da7d"
      },
      "execution_count": null,
      "outputs": [
        {
          "output_type": "display_data",
          "data": {
            "text/plain": [
              "<IPython.core.display.HTML object>"
            ],
            "text/html": [
              "Finishing last run (ID:1moq5k05) before initializing another..."
            ]
          },
          "metadata": {}
        },
        {
          "output_type": "display_data",
          "data": {
            "text/plain": [
              "<IPython.core.display.HTML object>"
            ],
            "text/html": [
              "Waiting for W&B process to finish... <strong style=\"color:green\">(success).</strong>"
            ]
          },
          "metadata": {}
        },
        {
          "output_type": "display_data",
          "data": {
            "text/plain": [
              "<IPython.core.display.HTML object>"
            ],
            "text/html": [
              "<style>\n",
              "    table.wandb td:nth-child(1) { padding: 0 10px; text-align: left ; width: auto;} td:nth-child(2) {text-align: left ; width: 100%}\n",
              "    .wandb-row { display: flex; flex-direction: row; flex-wrap: wrap; justify-content: flex-start; width: 100% }\n",
              "    .wandb-col { display: flex; flex-direction: column; flex-basis: 100%; flex: 1; padding: 10px; }\n",
              "    </style>\n",
              "<div class=\"wandb-row\"><div class=\"wandb-col\"><h3>Run history:</h3><br/><table class=\"wandb\"><tr><td>eval/accuracy</td><td>▁▁█▆█▇</td></tr><tr><td>eval/f1</td><td>▁▁█▆█▇</td></tr><tr><td>eval/loss</td><td>▄▂█▂▁▁</td></tr><tr><td>eval/recall</td><td>▁▁█▆█▇</td></tr><tr><td>eval/runtime</td><td>▁▂▄▅▄█</td></tr><tr><td>eval/samples_per_second</td><td>█▇▅▄▅▁</td></tr><tr><td>eval/steps_per_second</td><td>█▇▅▄▅▁</td></tr><tr><td>train/epoch</td><td>▁▁▃▃▅▅▆▆████</td></tr><tr><td>train/global_step</td><td>▁▁▃▃▅▅▆▆█████</td></tr><tr><td>train/learning_rate</td><td>█▆▅▃▁</td></tr><tr><td>train/loss</td><td>█▆▄▂▁</td></tr><tr><td>train/total_flos</td><td>▁</td></tr><tr><td>train/train_loss</td><td>▁</td></tr><tr><td>train/train_runtime</td><td>▁</td></tr><tr><td>train/train_samples_per_second</td><td>▁</td></tr><tr><td>train/train_steps_per_second</td><td>▁</td></tr></table><br/></div><div class=\"wandb-col\"><h3>Run summary:</h3><br/><table class=\"wandb\"><tr><td>eval/accuracy</td><td>0.27</td></tr><tr><td>eval/f1</td><td>0.1148</td></tr><tr><td>eval/loss</td><td>1.58169</td></tr><tr><td>eval/recall</td><td>0.27</td></tr><tr><td>eval/runtime</td><td>14.8876</td></tr><tr><td>eval/samples_per_second</td><td>33.585</td></tr><tr><td>eval/steps_per_second</td><td>4.232</td></tr><tr><td>train/epoch</td><td>5.0</td></tr><tr><td>train/global_step</td><td>2500</td></tr><tr><td>train/learning_rate</td><td>0.0</td></tr><tr><td>train/loss</td><td>1.8112</td></tr><tr><td>train/total_flos</td><td>5262362849280000.0</td></tr><tr><td>train/train_loss</td><td>2.26356</td></tr><tr><td>train/train_runtime</td><td>1864.3041</td></tr><tr><td>train/train_samples_per_second</td><td>10.728</td></tr><tr><td>train/train_steps_per_second</td><td>1.341</td></tr></table><br/></div></div>"
            ]
          },
          "metadata": {}
        },
        {
          "output_type": "display_data",
          "data": {
            "text/plain": [
              "<IPython.core.display.HTML object>"
            ],
            "text/html": [
              " View run <strong style=\"color:#cdcd00\">lemmatized_text_only_common</strong> at: <a href='https://wandb.ai/julian-petrykowski/projekt%20inzynieria%20lingwistyczna/runs/1moq5k05' target=\"_blank\">https://wandb.ai/julian-petrykowski/projekt%20inzynieria%20lingwistyczna/runs/1moq5k05</a><br/>Synced 5 W&B file(s), 0 media file(s), 0 artifact file(s) and 0 other file(s)"
            ]
          },
          "metadata": {}
        },
        {
          "output_type": "display_data",
          "data": {
            "text/plain": [
              "<IPython.core.display.HTML object>"
            ],
            "text/html": [
              "Find logs at: <code>./wandb/run-20230628_225828-1moq5k05/logs</code>"
            ]
          },
          "metadata": {}
        },
        {
          "output_type": "display_data",
          "data": {
            "text/plain": [
              "<IPython.core.display.HTML object>"
            ],
            "text/html": [
              "Successfully finished last run (ID:1moq5k05). Initializing new run:<br/>"
            ]
          },
          "metadata": {}
        },
        {
          "output_type": "display_data",
          "data": {
            "text/plain": [
              "<IPython.core.display.HTML object>"
            ],
            "text/html": [
              "Tracking run with wandb version 0.15.4"
            ]
          },
          "metadata": {}
        },
        {
          "output_type": "display_data",
          "data": {
            "text/plain": [
              "<IPython.core.display.HTML object>"
            ],
            "text/html": [
              "Run data is saved locally in <code>/content/wandb/run-20230628_232959-gft45kp2</code>"
            ]
          },
          "metadata": {}
        },
        {
          "output_type": "display_data",
          "data": {
            "text/plain": [
              "<IPython.core.display.HTML object>"
            ],
            "text/html": [
              "Syncing run <strong><a href='https://wandb.ai/julian-petrykowski/projekt%20inzynieria%20lingwistyczna/runs/gft45kp2' target=\"_blank\">benchmark</a></strong> to <a href='https://wandb.ai/julian-petrykowski/projekt%20inzynieria%20lingwistyczna' target=\"_blank\">Weights & Biases</a> (<a href='https://wandb.me/run' target=\"_blank\">docs</a>)<br/>"
            ]
          },
          "metadata": {}
        },
        {
          "output_type": "display_data",
          "data": {
            "text/plain": [
              "<IPython.core.display.HTML object>"
            ],
            "text/html": [
              " View project at <a href='https://wandb.ai/julian-petrykowski/projekt%20inzynieria%20lingwistyczna' target=\"_blank\">https://wandb.ai/julian-petrykowski/projekt%20inzynieria%20lingwistyczna</a>"
            ]
          },
          "metadata": {}
        },
        {
          "output_type": "display_data",
          "data": {
            "text/plain": [
              "<IPython.core.display.HTML object>"
            ],
            "text/html": [
              " View run at <a href='https://wandb.ai/julian-petrykowski/projekt%20inzynieria%20lingwistyczna/runs/gft45kp2' target=\"_blank\">https://wandb.ai/julian-petrykowski/projekt%20inzynieria%20lingwistyczna/runs/gft45kp2</a>"
            ]
          },
          "metadata": {}
        },
        {
          "output_type": "display_data",
          "data": {
            "text/plain": [
              "<IPython.core.display.HTML object>"
            ],
            "text/html": [
              "\n",
              "    <div>\n",
              "      \n",
              "      <progress value='63' max='63' style='width:300px; height:20px; vertical-align: middle;'></progress>\n",
              "      [63/63 00:14]\n",
              "    </div>\n",
              "    "
            ]
          },
          "metadata": {}
        }
      ]
    }
  ],
  "metadata": {
    "accelerator": "GPU",
    "colab": {
      "provenance": [],
      "gpuType": "T4",
      "include_colab_link": true
    },
    "kernelspec": {
      "display_name": "Python 3",
      "name": "python3"
    },
    "language_info": {
      "name": "python"
    },
    "widgets": {
      "application/vnd.jupyter.widget-state+json": {
        "0a83c333e4f24fba991c7cf526321ede": {
          "model_module": "@jupyter-widgets/controls",
          "model_name": "HBoxModel",
          "model_module_version": "1.5.0",
          "state": {
            "_dom_classes": [],
            "_model_module": "@jupyter-widgets/controls",
            "_model_module_version": "1.5.0",
            "_model_name": "HBoxModel",
            "_view_count": null,
            "_view_module": "@jupyter-widgets/controls",
            "_view_module_version": "1.5.0",
            "_view_name": "HBoxView",
            "box_style": "",
            "children": [
              "IPY_MODEL_ae7a026ddd6f45508544c581ec5b725c",
              "IPY_MODEL_d0b0131dbc9343479dc188547eeddf39",
              "IPY_MODEL_50c345c9494d4868a2ed3bb8affeb206"
            ],
            "layout": "IPY_MODEL_a9df4d9897dd4f30871d6a5a340886b3"
          }
        },
        "ae7a026ddd6f45508544c581ec5b725c": {
          "model_module": "@jupyter-widgets/controls",
          "model_name": "HTMLModel",
          "model_module_version": "1.5.0",
          "state": {
            "_dom_classes": [],
            "_model_module": "@jupyter-widgets/controls",
            "_model_module_version": "1.5.0",
            "_model_name": "HTMLModel",
            "_view_count": null,
            "_view_module": "@jupyter-widgets/controls",
            "_view_module_version": "1.5.0",
            "_view_name": "HTMLView",
            "description": "",
            "description_tooltip": null,
            "layout": "IPY_MODEL_405b96b7316b488d8a823e7559d1e456",
            "placeholder": "​",
            "style": "IPY_MODEL_192d75ab24ed42f5bb83bcb825acf820",
            "value": "Downloading builder script: 100%"
          }
        },
        "d0b0131dbc9343479dc188547eeddf39": {
          "model_module": "@jupyter-widgets/controls",
          "model_name": "FloatProgressModel",
          "model_module_version": "1.5.0",
          "state": {
            "_dom_classes": [],
            "_model_module": "@jupyter-widgets/controls",
            "_model_module_version": "1.5.0",
            "_model_name": "FloatProgressModel",
            "_view_count": null,
            "_view_module": "@jupyter-widgets/controls",
            "_view_module_version": "1.5.0",
            "_view_name": "ProgressView",
            "bar_style": "success",
            "description": "",
            "description_tooltip": null,
            "layout": "IPY_MODEL_523edb2c615d4a3fa5a5cb9c3ca2a4d9",
            "max": 6771,
            "min": 0,
            "orientation": "horizontal",
            "style": "IPY_MODEL_a600a20512cf4667aaeee6c601b76fa6",
            "value": 6771
          }
        },
        "50c345c9494d4868a2ed3bb8affeb206": {
          "model_module": "@jupyter-widgets/controls",
          "model_name": "HTMLModel",
          "model_module_version": "1.5.0",
          "state": {
            "_dom_classes": [],
            "_model_module": "@jupyter-widgets/controls",
            "_model_module_version": "1.5.0",
            "_model_name": "HTMLModel",
            "_view_count": null,
            "_view_module": "@jupyter-widgets/controls",
            "_view_module_version": "1.5.0",
            "_view_name": "HTMLView",
            "description": "",
            "description_tooltip": null,
            "layout": "IPY_MODEL_d612a304740c4792806dc82a69dfbd3d",
            "placeholder": "​",
            "style": "IPY_MODEL_bc1419c857b148599e5a046ec669bdf9",
            "value": " 6.77k/6.77k [00:00&lt;00:00, 218kB/s]"
          }
        },
        "a9df4d9897dd4f30871d6a5a340886b3": {
          "model_module": "@jupyter-widgets/base",
          "model_name": "LayoutModel",
          "model_module_version": "1.2.0",
          "state": {
            "_model_module": "@jupyter-widgets/base",
            "_model_module_version": "1.2.0",
            "_model_name": "LayoutModel",
            "_view_count": null,
            "_view_module": "@jupyter-widgets/base",
            "_view_module_version": "1.2.0",
            "_view_name": "LayoutView",
            "align_content": null,
            "align_items": null,
            "align_self": null,
            "border": null,
            "bottom": null,
            "display": null,
            "flex": null,
            "flex_flow": null,
            "grid_area": null,
            "grid_auto_columns": null,
            "grid_auto_flow": null,
            "grid_auto_rows": null,
            "grid_column": null,
            "grid_gap": null,
            "grid_row": null,
            "grid_template_areas": null,
            "grid_template_columns": null,
            "grid_template_rows": null,
            "height": null,
            "justify_content": null,
            "justify_items": null,
            "left": null,
            "margin": null,
            "max_height": null,
            "max_width": null,
            "min_height": null,
            "min_width": null,
            "object_fit": null,
            "object_position": null,
            "order": null,
            "overflow": null,
            "overflow_x": null,
            "overflow_y": null,
            "padding": null,
            "right": null,
            "top": null,
            "visibility": null,
            "width": null
          }
        },
        "405b96b7316b488d8a823e7559d1e456": {
          "model_module": "@jupyter-widgets/base",
          "model_name": "LayoutModel",
          "model_module_version": "1.2.0",
          "state": {
            "_model_module": "@jupyter-widgets/base",
            "_model_module_version": "1.2.0",
            "_model_name": "LayoutModel",
            "_view_count": null,
            "_view_module": "@jupyter-widgets/base",
            "_view_module_version": "1.2.0",
            "_view_name": "LayoutView",
            "align_content": null,
            "align_items": null,
            "align_self": null,
            "border": null,
            "bottom": null,
            "display": null,
            "flex": null,
            "flex_flow": null,
            "grid_area": null,
            "grid_auto_columns": null,
            "grid_auto_flow": null,
            "grid_auto_rows": null,
            "grid_column": null,
            "grid_gap": null,
            "grid_row": null,
            "grid_template_areas": null,
            "grid_template_columns": null,
            "grid_template_rows": null,
            "height": null,
            "justify_content": null,
            "justify_items": null,
            "left": null,
            "margin": null,
            "max_height": null,
            "max_width": null,
            "min_height": null,
            "min_width": null,
            "object_fit": null,
            "object_position": null,
            "order": null,
            "overflow": null,
            "overflow_x": null,
            "overflow_y": null,
            "padding": null,
            "right": null,
            "top": null,
            "visibility": null,
            "width": null
          }
        },
        "192d75ab24ed42f5bb83bcb825acf820": {
          "model_module": "@jupyter-widgets/controls",
          "model_name": "DescriptionStyleModel",
          "model_module_version": "1.5.0",
          "state": {
            "_model_module": "@jupyter-widgets/controls",
            "_model_module_version": "1.5.0",
            "_model_name": "DescriptionStyleModel",
            "_view_count": null,
            "_view_module": "@jupyter-widgets/base",
            "_view_module_version": "1.2.0",
            "_view_name": "StyleView",
            "description_width": ""
          }
        },
        "523edb2c615d4a3fa5a5cb9c3ca2a4d9": {
          "model_module": "@jupyter-widgets/base",
          "model_name": "LayoutModel",
          "model_module_version": "1.2.0",
          "state": {
            "_model_module": "@jupyter-widgets/base",
            "_model_module_version": "1.2.0",
            "_model_name": "LayoutModel",
            "_view_count": null,
            "_view_module": "@jupyter-widgets/base",
            "_view_module_version": "1.2.0",
            "_view_name": "LayoutView",
            "align_content": null,
            "align_items": null,
            "align_self": null,
            "border": null,
            "bottom": null,
            "display": null,
            "flex": null,
            "flex_flow": null,
            "grid_area": null,
            "grid_auto_columns": null,
            "grid_auto_flow": null,
            "grid_auto_rows": null,
            "grid_column": null,
            "grid_gap": null,
            "grid_row": null,
            "grid_template_areas": null,
            "grid_template_columns": null,
            "grid_template_rows": null,
            "height": null,
            "justify_content": null,
            "justify_items": null,
            "left": null,
            "margin": null,
            "max_height": null,
            "max_width": null,
            "min_height": null,
            "min_width": null,
            "object_fit": null,
            "object_position": null,
            "order": null,
            "overflow": null,
            "overflow_x": null,
            "overflow_y": null,
            "padding": null,
            "right": null,
            "top": null,
            "visibility": null,
            "width": null
          }
        },
        "a600a20512cf4667aaeee6c601b76fa6": {
          "model_module": "@jupyter-widgets/controls",
          "model_name": "ProgressStyleModel",
          "model_module_version": "1.5.0",
          "state": {
            "_model_module": "@jupyter-widgets/controls",
            "_model_module_version": "1.5.0",
            "_model_name": "ProgressStyleModel",
            "_view_count": null,
            "_view_module": "@jupyter-widgets/base",
            "_view_module_version": "1.2.0",
            "_view_name": "StyleView",
            "bar_color": null,
            "description_width": ""
          }
        },
        "d612a304740c4792806dc82a69dfbd3d": {
          "model_module": "@jupyter-widgets/base",
          "model_name": "LayoutModel",
          "model_module_version": "1.2.0",
          "state": {
            "_model_module": "@jupyter-widgets/base",
            "_model_module_version": "1.2.0",
            "_model_name": "LayoutModel",
            "_view_count": null,
            "_view_module": "@jupyter-widgets/base",
            "_view_module_version": "1.2.0",
            "_view_name": "LayoutView",
            "align_content": null,
            "align_items": null,
            "align_self": null,
            "border": null,
            "bottom": null,
            "display": null,
            "flex": null,
            "flex_flow": null,
            "grid_area": null,
            "grid_auto_columns": null,
            "grid_auto_flow": null,
            "grid_auto_rows": null,
            "grid_column": null,
            "grid_gap": null,
            "grid_row": null,
            "grid_template_areas": null,
            "grid_template_columns": null,
            "grid_template_rows": null,
            "height": null,
            "justify_content": null,
            "justify_items": null,
            "left": null,
            "margin": null,
            "max_height": null,
            "max_width": null,
            "min_height": null,
            "min_width": null,
            "object_fit": null,
            "object_position": null,
            "order": null,
            "overflow": null,
            "overflow_x": null,
            "overflow_y": null,
            "padding": null,
            "right": null,
            "top": null,
            "visibility": null,
            "width": null
          }
        },
        "bc1419c857b148599e5a046ec669bdf9": {
          "model_module": "@jupyter-widgets/controls",
          "model_name": "DescriptionStyleModel",
          "model_module_version": "1.5.0",
          "state": {
            "_model_module": "@jupyter-widgets/controls",
            "_model_module_version": "1.5.0",
            "_model_name": "DescriptionStyleModel",
            "_view_count": null,
            "_view_module": "@jupyter-widgets/base",
            "_view_module_version": "1.2.0",
            "_view_name": "StyleView",
            "description_width": ""
          }
        },
        "68e87bf488014130862ea5f7a0326bb7": {
          "model_module": "@jupyter-widgets/controls",
          "model_name": "HBoxModel",
          "model_module_version": "1.5.0",
          "state": {
            "_dom_classes": [],
            "_model_module": "@jupyter-widgets/controls",
            "_model_module_version": "1.5.0",
            "_model_name": "HBoxModel",
            "_view_count": null,
            "_view_module": "@jupyter-widgets/controls",
            "_view_module_version": "1.5.0",
            "_view_name": "HBoxView",
            "box_style": "",
            "children": [
              "IPY_MODEL_6dbe584568b84bd59373ff1b4d803fc6",
              "IPY_MODEL_65d6d1d41b6646b5bc0c902ccee5f481",
              "IPY_MODEL_759691084bbb4e48b3d891d4f5d68d3e"
            ],
            "layout": "IPY_MODEL_c7b9d41a66e24d10848a28648a4de603"
          }
        },
        "6dbe584568b84bd59373ff1b4d803fc6": {
          "model_module": "@jupyter-widgets/controls",
          "model_name": "HTMLModel",
          "model_module_version": "1.5.0",
          "state": {
            "_dom_classes": [],
            "_model_module": "@jupyter-widgets/controls",
            "_model_module_version": "1.5.0",
            "_model_name": "HTMLModel",
            "_view_count": null,
            "_view_module": "@jupyter-widgets/controls",
            "_view_module_version": "1.5.0",
            "_view_name": "HTMLView",
            "description": "",
            "description_tooltip": null,
            "layout": "IPY_MODEL_bd46abd64a3b43e5ab3dba6fd5657295",
            "placeholder": "​",
            "style": "IPY_MODEL_b1149ef9b21544dc979811e9d2384f02",
            "value": "Downloading builder script: 100%"
          }
        },
        "65d6d1d41b6646b5bc0c902ccee5f481": {
          "model_module": "@jupyter-widgets/controls",
          "model_name": "FloatProgressModel",
          "model_module_version": "1.5.0",
          "state": {
            "_dom_classes": [],
            "_model_module": "@jupyter-widgets/controls",
            "_model_module_version": "1.5.0",
            "_model_name": "FloatProgressModel",
            "_view_count": null,
            "_view_module": "@jupyter-widgets/controls",
            "_view_module_version": "1.5.0",
            "_view_name": "ProgressView",
            "bar_style": "success",
            "description": "",
            "description_tooltip": null,
            "layout": "IPY_MODEL_b8c14563ba494d9eb303bfdd9a56cdb9",
            "max": 7363,
            "min": 0,
            "orientation": "horizontal",
            "style": "IPY_MODEL_a057c9060fda436ab71815da481f5b1c",
            "value": 7363
          }
        },
        "759691084bbb4e48b3d891d4f5d68d3e": {
          "model_module": "@jupyter-widgets/controls",
          "model_name": "HTMLModel",
          "model_module_version": "1.5.0",
          "state": {
            "_dom_classes": [],
            "_model_module": "@jupyter-widgets/controls",
            "_model_module_version": "1.5.0",
            "_model_name": "HTMLModel",
            "_view_count": null,
            "_view_module": "@jupyter-widgets/controls",
            "_view_module_version": "1.5.0",
            "_view_name": "HTMLView",
            "description": "",
            "description_tooltip": null,
            "layout": "IPY_MODEL_03b4fa741fb34ebc899985d15a416708",
            "placeholder": "​",
            "style": "IPY_MODEL_799fbf825ce6467492cb5c683fbc737b",
            "value": " 7.36k/7.36k [00:00&lt;00:00, 160kB/s]"
          }
        },
        "c7b9d41a66e24d10848a28648a4de603": {
          "model_module": "@jupyter-widgets/base",
          "model_name": "LayoutModel",
          "model_module_version": "1.2.0",
          "state": {
            "_model_module": "@jupyter-widgets/base",
            "_model_module_version": "1.2.0",
            "_model_name": "LayoutModel",
            "_view_count": null,
            "_view_module": "@jupyter-widgets/base",
            "_view_module_version": "1.2.0",
            "_view_name": "LayoutView",
            "align_content": null,
            "align_items": null,
            "align_self": null,
            "border": null,
            "bottom": null,
            "display": null,
            "flex": null,
            "flex_flow": null,
            "grid_area": null,
            "grid_auto_columns": null,
            "grid_auto_flow": null,
            "grid_auto_rows": null,
            "grid_column": null,
            "grid_gap": null,
            "grid_row": null,
            "grid_template_areas": null,
            "grid_template_columns": null,
            "grid_template_rows": null,
            "height": null,
            "justify_content": null,
            "justify_items": null,
            "left": null,
            "margin": null,
            "max_height": null,
            "max_width": null,
            "min_height": null,
            "min_width": null,
            "object_fit": null,
            "object_position": null,
            "order": null,
            "overflow": null,
            "overflow_x": null,
            "overflow_y": null,
            "padding": null,
            "right": null,
            "top": null,
            "visibility": null,
            "width": null
          }
        },
        "bd46abd64a3b43e5ab3dba6fd5657295": {
          "model_module": "@jupyter-widgets/base",
          "model_name": "LayoutModel",
          "model_module_version": "1.2.0",
          "state": {
            "_model_module": "@jupyter-widgets/base",
            "_model_module_version": "1.2.0",
            "_model_name": "LayoutModel",
            "_view_count": null,
            "_view_module": "@jupyter-widgets/base",
            "_view_module_version": "1.2.0",
            "_view_name": "LayoutView",
            "align_content": null,
            "align_items": null,
            "align_self": null,
            "border": null,
            "bottom": null,
            "display": null,
            "flex": null,
            "flex_flow": null,
            "grid_area": null,
            "grid_auto_columns": null,
            "grid_auto_flow": null,
            "grid_auto_rows": null,
            "grid_column": null,
            "grid_gap": null,
            "grid_row": null,
            "grid_template_areas": null,
            "grid_template_columns": null,
            "grid_template_rows": null,
            "height": null,
            "justify_content": null,
            "justify_items": null,
            "left": null,
            "margin": null,
            "max_height": null,
            "max_width": null,
            "min_height": null,
            "min_width": null,
            "object_fit": null,
            "object_position": null,
            "order": null,
            "overflow": null,
            "overflow_x": null,
            "overflow_y": null,
            "padding": null,
            "right": null,
            "top": null,
            "visibility": null,
            "width": null
          }
        },
        "b1149ef9b21544dc979811e9d2384f02": {
          "model_module": "@jupyter-widgets/controls",
          "model_name": "DescriptionStyleModel",
          "model_module_version": "1.5.0",
          "state": {
            "_model_module": "@jupyter-widgets/controls",
            "_model_module_version": "1.5.0",
            "_model_name": "DescriptionStyleModel",
            "_view_count": null,
            "_view_module": "@jupyter-widgets/base",
            "_view_module_version": "1.2.0",
            "_view_name": "StyleView",
            "description_width": ""
          }
        },
        "b8c14563ba494d9eb303bfdd9a56cdb9": {
          "model_module": "@jupyter-widgets/base",
          "model_name": "LayoutModel",
          "model_module_version": "1.2.0",
          "state": {
            "_model_module": "@jupyter-widgets/base",
            "_model_module_version": "1.2.0",
            "_model_name": "LayoutModel",
            "_view_count": null,
            "_view_module": "@jupyter-widgets/base",
            "_view_module_version": "1.2.0",
            "_view_name": "LayoutView",
            "align_content": null,
            "align_items": null,
            "align_self": null,
            "border": null,
            "bottom": null,
            "display": null,
            "flex": null,
            "flex_flow": null,
            "grid_area": null,
            "grid_auto_columns": null,
            "grid_auto_flow": null,
            "grid_auto_rows": null,
            "grid_column": null,
            "grid_gap": null,
            "grid_row": null,
            "grid_template_areas": null,
            "grid_template_columns": null,
            "grid_template_rows": null,
            "height": null,
            "justify_content": null,
            "justify_items": null,
            "left": null,
            "margin": null,
            "max_height": null,
            "max_width": null,
            "min_height": null,
            "min_width": null,
            "object_fit": null,
            "object_position": null,
            "order": null,
            "overflow": null,
            "overflow_x": null,
            "overflow_y": null,
            "padding": null,
            "right": null,
            "top": null,
            "visibility": null,
            "width": null
          }
        },
        "a057c9060fda436ab71815da481f5b1c": {
          "model_module": "@jupyter-widgets/controls",
          "model_name": "ProgressStyleModel",
          "model_module_version": "1.5.0",
          "state": {
            "_model_module": "@jupyter-widgets/controls",
            "_model_module_version": "1.5.0",
            "_model_name": "ProgressStyleModel",
            "_view_count": null,
            "_view_module": "@jupyter-widgets/base",
            "_view_module_version": "1.2.0",
            "_view_name": "StyleView",
            "bar_color": null,
            "description_width": ""
          }
        },
        "03b4fa741fb34ebc899985d15a416708": {
          "model_module": "@jupyter-widgets/base",
          "model_name": "LayoutModel",
          "model_module_version": "1.2.0",
          "state": {
            "_model_module": "@jupyter-widgets/base",
            "_model_module_version": "1.2.0",
            "_model_name": "LayoutModel",
            "_view_count": null,
            "_view_module": "@jupyter-widgets/base",
            "_view_module_version": "1.2.0",
            "_view_name": "LayoutView",
            "align_content": null,
            "align_items": null,
            "align_self": null,
            "border": null,
            "bottom": null,
            "display": null,
            "flex": null,
            "flex_flow": null,
            "grid_area": null,
            "grid_auto_columns": null,
            "grid_auto_flow": null,
            "grid_auto_rows": null,
            "grid_column": null,
            "grid_gap": null,
            "grid_row": null,
            "grid_template_areas": null,
            "grid_template_columns": null,
            "grid_template_rows": null,
            "height": null,
            "justify_content": null,
            "justify_items": null,
            "left": null,
            "margin": null,
            "max_height": null,
            "max_width": null,
            "min_height": null,
            "min_width": null,
            "object_fit": null,
            "object_position": null,
            "order": null,
            "overflow": null,
            "overflow_x": null,
            "overflow_y": null,
            "padding": null,
            "right": null,
            "top": null,
            "visibility": null,
            "width": null
          }
        },
        "799fbf825ce6467492cb5c683fbc737b": {
          "model_module": "@jupyter-widgets/controls",
          "model_name": "DescriptionStyleModel",
          "model_module_version": "1.5.0",
          "state": {
            "_model_module": "@jupyter-widgets/controls",
            "_model_module_version": "1.5.0",
            "_model_name": "DescriptionStyleModel",
            "_view_count": null,
            "_view_module": "@jupyter-widgets/base",
            "_view_module_version": "1.2.0",
            "_view_name": "StyleView",
            "description_width": ""
          }
        },
        "3a5167e021654cd79134082080db1daa": {
          "model_module": "@jupyter-widgets/controls",
          "model_name": "HBoxModel",
          "model_module_version": "1.5.0",
          "state": {
            "_dom_classes": [],
            "_model_module": "@jupyter-widgets/controls",
            "_model_module_version": "1.5.0",
            "_model_name": "HBoxModel",
            "_view_count": null,
            "_view_module": "@jupyter-widgets/controls",
            "_view_module_version": "1.5.0",
            "_view_name": "HBoxView",
            "box_style": "",
            "children": [
              "IPY_MODEL_d3bcb72b5854480ca00b6416527a4b34",
              "IPY_MODEL_9c195e7b41a94ead830b1a61ae27532e",
              "IPY_MODEL_e07b8d0bfe32485c80416e73a86761cc"
            ],
            "layout": "IPY_MODEL_43dec9dbfb3f407b95c2c1e540e95e03"
          }
        },
        "d3bcb72b5854480ca00b6416527a4b34": {
          "model_module": "@jupyter-widgets/controls",
          "model_name": "HTMLModel",
          "model_module_version": "1.5.0",
          "state": {
            "_dom_classes": [],
            "_model_module": "@jupyter-widgets/controls",
            "_model_module_version": "1.5.0",
            "_model_name": "HTMLModel",
            "_view_count": null,
            "_view_module": "@jupyter-widgets/controls",
            "_view_module_version": "1.5.0",
            "_view_name": "HTMLView",
            "description": "",
            "description_tooltip": null,
            "layout": "IPY_MODEL_4cc055162a304f4094825cf6da287fd4",
            "placeholder": "​",
            "style": "IPY_MODEL_335f7bc479f74a69bfe75a8bc3034bcf",
            "value": "Downloading builder script: 100%"
          }
        },
        "9c195e7b41a94ead830b1a61ae27532e": {
          "model_module": "@jupyter-widgets/controls",
          "model_name": "FloatProgressModel",
          "model_module_version": "1.5.0",
          "state": {
            "_dom_classes": [],
            "_model_module": "@jupyter-widgets/controls",
            "_model_module_version": "1.5.0",
            "_model_name": "FloatProgressModel",
            "_view_count": null,
            "_view_module": "@jupyter-widgets/controls",
            "_view_module_version": "1.5.0",
            "_view_name": "ProgressView",
            "bar_style": "success",
            "description": "",
            "description_tooltip": null,
            "layout": "IPY_MODEL_06490cec285043ebadc40f74f34f8fa2",
            "max": 4203,
            "min": 0,
            "orientation": "horizontal",
            "style": "IPY_MODEL_0595b44199d040708e8906147b589f25",
            "value": 4203
          }
        },
        "e07b8d0bfe32485c80416e73a86761cc": {
          "model_module": "@jupyter-widgets/controls",
          "model_name": "HTMLModel",
          "model_module_version": "1.5.0",
          "state": {
            "_dom_classes": [],
            "_model_module": "@jupyter-widgets/controls",
            "_model_module_version": "1.5.0",
            "_model_name": "HTMLModel",
            "_view_count": null,
            "_view_module": "@jupyter-widgets/controls",
            "_view_module_version": "1.5.0",
            "_view_name": "HTMLView",
            "description": "",
            "description_tooltip": null,
            "layout": "IPY_MODEL_c394d5843eff4d42b63683491d82d6a4",
            "placeholder": "​",
            "style": "IPY_MODEL_c58710b726bf4d32b01baefadd4beee0",
            "value": " 4.20k/4.20k [00:00&lt;00:00, 83.1kB/s]"
          }
        },
        "43dec9dbfb3f407b95c2c1e540e95e03": {
          "model_module": "@jupyter-widgets/base",
          "model_name": "LayoutModel",
          "model_module_version": "1.2.0",
          "state": {
            "_model_module": "@jupyter-widgets/base",
            "_model_module_version": "1.2.0",
            "_model_name": "LayoutModel",
            "_view_count": null,
            "_view_module": "@jupyter-widgets/base",
            "_view_module_version": "1.2.0",
            "_view_name": "LayoutView",
            "align_content": null,
            "align_items": null,
            "align_self": null,
            "border": null,
            "bottom": null,
            "display": null,
            "flex": null,
            "flex_flow": null,
            "grid_area": null,
            "grid_auto_columns": null,
            "grid_auto_flow": null,
            "grid_auto_rows": null,
            "grid_column": null,
            "grid_gap": null,
            "grid_row": null,
            "grid_template_areas": null,
            "grid_template_columns": null,
            "grid_template_rows": null,
            "height": null,
            "justify_content": null,
            "justify_items": null,
            "left": null,
            "margin": null,
            "max_height": null,
            "max_width": null,
            "min_height": null,
            "min_width": null,
            "object_fit": null,
            "object_position": null,
            "order": null,
            "overflow": null,
            "overflow_x": null,
            "overflow_y": null,
            "padding": null,
            "right": null,
            "top": null,
            "visibility": null,
            "width": null
          }
        },
        "4cc055162a304f4094825cf6da287fd4": {
          "model_module": "@jupyter-widgets/base",
          "model_name": "LayoutModel",
          "model_module_version": "1.2.0",
          "state": {
            "_model_module": "@jupyter-widgets/base",
            "_model_module_version": "1.2.0",
            "_model_name": "LayoutModel",
            "_view_count": null,
            "_view_module": "@jupyter-widgets/base",
            "_view_module_version": "1.2.0",
            "_view_name": "LayoutView",
            "align_content": null,
            "align_items": null,
            "align_self": null,
            "border": null,
            "bottom": null,
            "display": null,
            "flex": null,
            "flex_flow": null,
            "grid_area": null,
            "grid_auto_columns": null,
            "grid_auto_flow": null,
            "grid_auto_rows": null,
            "grid_column": null,
            "grid_gap": null,
            "grid_row": null,
            "grid_template_areas": null,
            "grid_template_columns": null,
            "grid_template_rows": null,
            "height": null,
            "justify_content": null,
            "justify_items": null,
            "left": null,
            "margin": null,
            "max_height": null,
            "max_width": null,
            "min_height": null,
            "min_width": null,
            "object_fit": null,
            "object_position": null,
            "order": null,
            "overflow": null,
            "overflow_x": null,
            "overflow_y": null,
            "padding": null,
            "right": null,
            "top": null,
            "visibility": null,
            "width": null
          }
        },
        "335f7bc479f74a69bfe75a8bc3034bcf": {
          "model_module": "@jupyter-widgets/controls",
          "model_name": "DescriptionStyleModel",
          "model_module_version": "1.5.0",
          "state": {
            "_model_module": "@jupyter-widgets/controls",
            "_model_module_version": "1.5.0",
            "_model_name": "DescriptionStyleModel",
            "_view_count": null,
            "_view_module": "@jupyter-widgets/base",
            "_view_module_version": "1.2.0",
            "_view_name": "StyleView",
            "description_width": ""
          }
        },
        "06490cec285043ebadc40f74f34f8fa2": {
          "model_module": "@jupyter-widgets/base",
          "model_name": "LayoutModel",
          "model_module_version": "1.2.0",
          "state": {
            "_model_module": "@jupyter-widgets/base",
            "_model_module_version": "1.2.0",
            "_model_name": "LayoutModel",
            "_view_count": null,
            "_view_module": "@jupyter-widgets/base",
            "_view_module_version": "1.2.0",
            "_view_name": "LayoutView",
            "align_content": null,
            "align_items": null,
            "align_self": null,
            "border": null,
            "bottom": null,
            "display": null,
            "flex": null,
            "flex_flow": null,
            "grid_area": null,
            "grid_auto_columns": null,
            "grid_auto_flow": null,
            "grid_auto_rows": null,
            "grid_column": null,
            "grid_gap": null,
            "grid_row": null,
            "grid_template_areas": null,
            "grid_template_columns": null,
            "grid_template_rows": null,
            "height": null,
            "justify_content": null,
            "justify_items": null,
            "left": null,
            "margin": null,
            "max_height": null,
            "max_width": null,
            "min_height": null,
            "min_width": null,
            "object_fit": null,
            "object_position": null,
            "order": null,
            "overflow": null,
            "overflow_x": null,
            "overflow_y": null,
            "padding": null,
            "right": null,
            "top": null,
            "visibility": null,
            "width": null
          }
        },
        "0595b44199d040708e8906147b589f25": {
          "model_module": "@jupyter-widgets/controls",
          "model_name": "ProgressStyleModel",
          "model_module_version": "1.5.0",
          "state": {
            "_model_module": "@jupyter-widgets/controls",
            "_model_module_version": "1.5.0",
            "_model_name": "ProgressStyleModel",
            "_view_count": null,
            "_view_module": "@jupyter-widgets/base",
            "_view_module_version": "1.2.0",
            "_view_name": "StyleView",
            "bar_color": null,
            "description_width": ""
          }
        },
        "c394d5843eff4d42b63683491d82d6a4": {
          "model_module": "@jupyter-widgets/base",
          "model_name": "LayoutModel",
          "model_module_version": "1.2.0",
          "state": {
            "_model_module": "@jupyter-widgets/base",
            "_model_module_version": "1.2.0",
            "_model_name": "LayoutModel",
            "_view_count": null,
            "_view_module": "@jupyter-widgets/base",
            "_view_module_version": "1.2.0",
            "_view_name": "LayoutView",
            "align_content": null,
            "align_items": null,
            "align_self": null,
            "border": null,
            "bottom": null,
            "display": null,
            "flex": null,
            "flex_flow": null,
            "grid_area": null,
            "grid_auto_columns": null,
            "grid_auto_flow": null,
            "grid_auto_rows": null,
            "grid_column": null,
            "grid_gap": null,
            "grid_row": null,
            "grid_template_areas": null,
            "grid_template_columns": null,
            "grid_template_rows": null,
            "height": null,
            "justify_content": null,
            "justify_items": null,
            "left": null,
            "margin": null,
            "max_height": null,
            "max_width": null,
            "min_height": null,
            "min_width": null,
            "object_fit": null,
            "object_position": null,
            "order": null,
            "overflow": null,
            "overflow_x": null,
            "overflow_y": null,
            "padding": null,
            "right": null,
            "top": null,
            "visibility": null,
            "width": null
          }
        },
        "c58710b726bf4d32b01baefadd4beee0": {
          "model_module": "@jupyter-widgets/controls",
          "model_name": "DescriptionStyleModel",
          "model_module_version": "1.5.0",
          "state": {
            "_model_module": "@jupyter-widgets/controls",
            "_model_module_version": "1.5.0",
            "_model_name": "DescriptionStyleModel",
            "_view_count": null,
            "_view_module": "@jupyter-widgets/base",
            "_view_module_version": "1.2.0",
            "_view_name": "StyleView",
            "description_width": ""
          }
        },
        "af61c734a2c84aaab7f06eacf3aaf1fa": {
          "model_module": "@jupyter-widgets/controls",
          "model_name": "HBoxModel",
          "model_module_version": "1.5.0",
          "state": {
            "_dom_classes": [],
            "_model_module": "@jupyter-widgets/controls",
            "_model_module_version": "1.5.0",
            "_model_name": "HBoxModel",
            "_view_count": null,
            "_view_module": "@jupyter-widgets/controls",
            "_view_module_version": "1.5.0",
            "_view_name": "HBoxView",
            "box_style": "",
            "children": [
              "IPY_MODEL_e5c85a2c92c84388a99d36abe9492b42",
              "IPY_MODEL_73589ef319d1492aa04717adda90ff1e",
              "IPY_MODEL_21d93ef3877f41afab40257963fce491"
            ],
            "layout": "IPY_MODEL_e40af7ded49543179b42e99edd4dce44"
          }
        },
        "e5c85a2c92c84388a99d36abe9492b42": {
          "model_module": "@jupyter-widgets/controls",
          "model_name": "HTMLModel",
          "model_module_version": "1.5.0",
          "state": {
            "_dom_classes": [],
            "_model_module": "@jupyter-widgets/controls",
            "_model_module_version": "1.5.0",
            "_model_name": "HTMLModel",
            "_view_count": null,
            "_view_module": "@jupyter-widgets/controls",
            "_view_module_version": "1.5.0",
            "_view_name": "HTMLView",
            "description": "",
            "description_tooltip": null,
            "layout": "IPY_MODEL_0701a39ec8d64f76bd07f45aa65dfa6d",
            "placeholder": "​",
            "style": "IPY_MODEL_8e48805d46e048e589acf0c0991127cb",
            "value": "Downloading (…)okenizer_config.json: 100%"
          }
        },
        "73589ef319d1492aa04717adda90ff1e": {
          "model_module": "@jupyter-widgets/controls",
          "model_name": "FloatProgressModel",
          "model_module_version": "1.5.0",
          "state": {
            "_dom_classes": [],
            "_model_module": "@jupyter-widgets/controls",
            "_model_module_version": "1.5.0",
            "_model_name": "FloatProgressModel",
            "_view_count": null,
            "_view_module": "@jupyter-widgets/controls",
            "_view_module_version": "1.5.0",
            "_view_name": "ProgressView",
            "bar_style": "success",
            "description": "",
            "description_tooltip": null,
            "layout": "IPY_MODEL_824d024d3f88418086c29c9f97eb87ca",
            "max": 229,
            "min": 0,
            "orientation": "horizontal",
            "style": "IPY_MODEL_cb566c34eeb445e58c7a8201b0c07834",
            "value": 229
          }
        },
        "21d93ef3877f41afab40257963fce491": {
          "model_module": "@jupyter-widgets/controls",
          "model_name": "HTMLModel",
          "model_module_version": "1.5.0",
          "state": {
            "_dom_classes": [],
            "_model_module": "@jupyter-widgets/controls",
            "_model_module_version": "1.5.0",
            "_model_name": "HTMLModel",
            "_view_count": null,
            "_view_module": "@jupyter-widgets/controls",
            "_view_module_version": "1.5.0",
            "_view_name": "HTMLView",
            "description": "",
            "description_tooltip": null,
            "layout": "IPY_MODEL_a2e4297f071f4e47a4b64ceaba357595",
            "placeholder": "​",
            "style": "IPY_MODEL_d57698d60b984b6a842a6e4978c304f1",
            "value": " 229/229 [00:00&lt;00:00, 5.88kB/s]"
          }
        },
        "e40af7ded49543179b42e99edd4dce44": {
          "model_module": "@jupyter-widgets/base",
          "model_name": "LayoutModel",
          "model_module_version": "1.2.0",
          "state": {
            "_model_module": "@jupyter-widgets/base",
            "_model_module_version": "1.2.0",
            "_model_name": "LayoutModel",
            "_view_count": null,
            "_view_module": "@jupyter-widgets/base",
            "_view_module_version": "1.2.0",
            "_view_name": "LayoutView",
            "align_content": null,
            "align_items": null,
            "align_self": null,
            "border": null,
            "bottom": null,
            "display": null,
            "flex": null,
            "flex_flow": null,
            "grid_area": null,
            "grid_auto_columns": null,
            "grid_auto_flow": null,
            "grid_auto_rows": null,
            "grid_column": null,
            "grid_gap": null,
            "grid_row": null,
            "grid_template_areas": null,
            "grid_template_columns": null,
            "grid_template_rows": null,
            "height": null,
            "justify_content": null,
            "justify_items": null,
            "left": null,
            "margin": null,
            "max_height": null,
            "max_width": null,
            "min_height": null,
            "min_width": null,
            "object_fit": null,
            "object_position": null,
            "order": null,
            "overflow": null,
            "overflow_x": null,
            "overflow_y": null,
            "padding": null,
            "right": null,
            "top": null,
            "visibility": null,
            "width": null
          }
        },
        "0701a39ec8d64f76bd07f45aa65dfa6d": {
          "model_module": "@jupyter-widgets/base",
          "model_name": "LayoutModel",
          "model_module_version": "1.2.0",
          "state": {
            "_model_module": "@jupyter-widgets/base",
            "_model_module_version": "1.2.0",
            "_model_name": "LayoutModel",
            "_view_count": null,
            "_view_module": "@jupyter-widgets/base",
            "_view_module_version": "1.2.0",
            "_view_name": "LayoutView",
            "align_content": null,
            "align_items": null,
            "align_self": null,
            "border": null,
            "bottom": null,
            "display": null,
            "flex": null,
            "flex_flow": null,
            "grid_area": null,
            "grid_auto_columns": null,
            "grid_auto_flow": null,
            "grid_auto_rows": null,
            "grid_column": null,
            "grid_gap": null,
            "grid_row": null,
            "grid_template_areas": null,
            "grid_template_columns": null,
            "grid_template_rows": null,
            "height": null,
            "justify_content": null,
            "justify_items": null,
            "left": null,
            "margin": null,
            "max_height": null,
            "max_width": null,
            "min_height": null,
            "min_width": null,
            "object_fit": null,
            "object_position": null,
            "order": null,
            "overflow": null,
            "overflow_x": null,
            "overflow_y": null,
            "padding": null,
            "right": null,
            "top": null,
            "visibility": null,
            "width": null
          }
        },
        "8e48805d46e048e589acf0c0991127cb": {
          "model_module": "@jupyter-widgets/controls",
          "model_name": "DescriptionStyleModel",
          "model_module_version": "1.5.0",
          "state": {
            "_model_module": "@jupyter-widgets/controls",
            "_model_module_version": "1.5.0",
            "_model_name": "DescriptionStyleModel",
            "_view_count": null,
            "_view_module": "@jupyter-widgets/base",
            "_view_module_version": "1.2.0",
            "_view_name": "StyleView",
            "description_width": ""
          }
        },
        "824d024d3f88418086c29c9f97eb87ca": {
          "model_module": "@jupyter-widgets/base",
          "model_name": "LayoutModel",
          "model_module_version": "1.2.0",
          "state": {
            "_model_module": "@jupyter-widgets/base",
            "_model_module_version": "1.2.0",
            "_model_name": "LayoutModel",
            "_view_count": null,
            "_view_module": "@jupyter-widgets/base",
            "_view_module_version": "1.2.0",
            "_view_name": "LayoutView",
            "align_content": null,
            "align_items": null,
            "align_self": null,
            "border": null,
            "bottom": null,
            "display": null,
            "flex": null,
            "flex_flow": null,
            "grid_area": null,
            "grid_auto_columns": null,
            "grid_auto_flow": null,
            "grid_auto_rows": null,
            "grid_column": null,
            "grid_gap": null,
            "grid_row": null,
            "grid_template_areas": null,
            "grid_template_columns": null,
            "grid_template_rows": null,
            "height": null,
            "justify_content": null,
            "justify_items": null,
            "left": null,
            "margin": null,
            "max_height": null,
            "max_width": null,
            "min_height": null,
            "min_width": null,
            "object_fit": null,
            "object_position": null,
            "order": null,
            "overflow": null,
            "overflow_x": null,
            "overflow_y": null,
            "padding": null,
            "right": null,
            "top": null,
            "visibility": null,
            "width": null
          }
        },
        "cb566c34eeb445e58c7a8201b0c07834": {
          "model_module": "@jupyter-widgets/controls",
          "model_name": "ProgressStyleModel",
          "model_module_version": "1.5.0",
          "state": {
            "_model_module": "@jupyter-widgets/controls",
            "_model_module_version": "1.5.0",
            "_model_name": "ProgressStyleModel",
            "_view_count": null,
            "_view_module": "@jupyter-widgets/base",
            "_view_module_version": "1.2.0",
            "_view_name": "StyleView",
            "bar_color": null,
            "description_width": ""
          }
        },
        "a2e4297f071f4e47a4b64ceaba357595": {
          "model_module": "@jupyter-widgets/base",
          "model_name": "LayoutModel",
          "model_module_version": "1.2.0",
          "state": {
            "_model_module": "@jupyter-widgets/base",
            "_model_module_version": "1.2.0",
            "_model_name": "LayoutModel",
            "_view_count": null,
            "_view_module": "@jupyter-widgets/base",
            "_view_module_version": "1.2.0",
            "_view_name": "LayoutView",
            "align_content": null,
            "align_items": null,
            "align_self": null,
            "border": null,
            "bottom": null,
            "display": null,
            "flex": null,
            "flex_flow": null,
            "grid_area": null,
            "grid_auto_columns": null,
            "grid_auto_flow": null,
            "grid_auto_rows": null,
            "grid_column": null,
            "grid_gap": null,
            "grid_row": null,
            "grid_template_areas": null,
            "grid_template_columns": null,
            "grid_template_rows": null,
            "height": null,
            "justify_content": null,
            "justify_items": null,
            "left": null,
            "margin": null,
            "max_height": null,
            "max_width": null,
            "min_height": null,
            "min_width": null,
            "object_fit": null,
            "object_position": null,
            "order": null,
            "overflow": null,
            "overflow_x": null,
            "overflow_y": null,
            "padding": null,
            "right": null,
            "top": null,
            "visibility": null,
            "width": null
          }
        },
        "d57698d60b984b6a842a6e4978c304f1": {
          "model_module": "@jupyter-widgets/controls",
          "model_name": "DescriptionStyleModel",
          "model_module_version": "1.5.0",
          "state": {
            "_model_module": "@jupyter-widgets/controls",
            "_model_module_version": "1.5.0",
            "_model_name": "DescriptionStyleModel",
            "_view_count": null,
            "_view_module": "@jupyter-widgets/base",
            "_view_module_version": "1.2.0",
            "_view_name": "StyleView",
            "description_width": ""
          }
        },
        "76fc50101ff14ad6a9b443c2e67780e7": {
          "model_module": "@jupyter-widgets/controls",
          "model_name": "HBoxModel",
          "model_module_version": "1.5.0",
          "state": {
            "_dom_classes": [],
            "_model_module": "@jupyter-widgets/controls",
            "_model_module_version": "1.5.0",
            "_model_name": "HBoxModel",
            "_view_count": null,
            "_view_module": "@jupyter-widgets/controls",
            "_view_module_version": "1.5.0",
            "_view_name": "HBoxView",
            "box_style": "",
            "children": [
              "IPY_MODEL_c27a5991f0ea4543b8745f011d748a00",
              "IPY_MODEL_91ad4d5aa62348f4887c7648d4ae9c6f",
              "IPY_MODEL_8de255b1361a4caeacc23e923029f9d9"
            ],
            "layout": "IPY_MODEL_06de9b2d638d421498c99773055b2676"
          }
        },
        "c27a5991f0ea4543b8745f011d748a00": {
          "model_module": "@jupyter-widgets/controls",
          "model_name": "HTMLModel",
          "model_module_version": "1.5.0",
          "state": {
            "_dom_classes": [],
            "_model_module": "@jupyter-widgets/controls",
            "_model_module_version": "1.5.0",
            "_model_name": "HTMLModel",
            "_view_count": null,
            "_view_module": "@jupyter-widgets/controls",
            "_view_module_version": "1.5.0",
            "_view_name": "HTMLView",
            "description": "",
            "description_tooltip": null,
            "layout": "IPY_MODEL_b210a86342fe4758b02f80e5b9d142c5",
            "placeholder": "​",
            "style": "IPY_MODEL_d7e26febe9ee44fa9eeafccc5c1f7d52",
            "value": "Downloading (…)lve/main/config.json: 100%"
          }
        },
        "91ad4d5aa62348f4887c7648d4ae9c6f": {
          "model_module": "@jupyter-widgets/controls",
          "model_name": "FloatProgressModel",
          "model_module_version": "1.5.0",
          "state": {
            "_dom_classes": [],
            "_model_module": "@jupyter-widgets/controls",
            "_model_module_version": "1.5.0",
            "_model_name": "FloatProgressModel",
            "_view_count": null,
            "_view_module": "@jupyter-widgets/controls",
            "_view_module_version": "1.5.0",
            "_view_name": "ProgressView",
            "bar_style": "success",
            "description": "",
            "description_tooltip": null,
            "layout": "IPY_MODEL_5e7629f0ed0844eabdb030b237ba3557",
            "max": 472,
            "min": 0,
            "orientation": "horizontal",
            "style": "IPY_MODEL_fc7762d3ac1341fb993757a10096e391",
            "value": 472
          }
        },
        "8de255b1361a4caeacc23e923029f9d9": {
          "model_module": "@jupyter-widgets/controls",
          "model_name": "HTMLModel",
          "model_module_version": "1.5.0",
          "state": {
            "_dom_classes": [],
            "_model_module": "@jupyter-widgets/controls",
            "_model_module_version": "1.5.0",
            "_model_name": "HTMLModel",
            "_view_count": null,
            "_view_module": "@jupyter-widgets/controls",
            "_view_module_version": "1.5.0",
            "_view_name": "HTMLView",
            "description": "",
            "description_tooltip": null,
            "layout": "IPY_MODEL_5f0834ce431f49fb8d047ea390172958",
            "placeholder": "​",
            "style": "IPY_MODEL_520e3ef905c642fe921a4e571b0d7e89",
            "value": " 472/472 [00:00&lt;00:00, 10.1kB/s]"
          }
        },
        "06de9b2d638d421498c99773055b2676": {
          "model_module": "@jupyter-widgets/base",
          "model_name": "LayoutModel",
          "model_module_version": "1.2.0",
          "state": {
            "_model_module": "@jupyter-widgets/base",
            "_model_module_version": "1.2.0",
            "_model_name": "LayoutModel",
            "_view_count": null,
            "_view_module": "@jupyter-widgets/base",
            "_view_module_version": "1.2.0",
            "_view_name": "LayoutView",
            "align_content": null,
            "align_items": null,
            "align_self": null,
            "border": null,
            "bottom": null,
            "display": null,
            "flex": null,
            "flex_flow": null,
            "grid_area": null,
            "grid_auto_columns": null,
            "grid_auto_flow": null,
            "grid_auto_rows": null,
            "grid_column": null,
            "grid_gap": null,
            "grid_row": null,
            "grid_template_areas": null,
            "grid_template_columns": null,
            "grid_template_rows": null,
            "height": null,
            "justify_content": null,
            "justify_items": null,
            "left": null,
            "margin": null,
            "max_height": null,
            "max_width": null,
            "min_height": null,
            "min_width": null,
            "object_fit": null,
            "object_position": null,
            "order": null,
            "overflow": null,
            "overflow_x": null,
            "overflow_y": null,
            "padding": null,
            "right": null,
            "top": null,
            "visibility": null,
            "width": null
          }
        },
        "b210a86342fe4758b02f80e5b9d142c5": {
          "model_module": "@jupyter-widgets/base",
          "model_name": "LayoutModel",
          "model_module_version": "1.2.0",
          "state": {
            "_model_module": "@jupyter-widgets/base",
            "_model_module_version": "1.2.0",
            "_model_name": "LayoutModel",
            "_view_count": null,
            "_view_module": "@jupyter-widgets/base",
            "_view_module_version": "1.2.0",
            "_view_name": "LayoutView",
            "align_content": null,
            "align_items": null,
            "align_self": null,
            "border": null,
            "bottom": null,
            "display": null,
            "flex": null,
            "flex_flow": null,
            "grid_area": null,
            "grid_auto_columns": null,
            "grid_auto_flow": null,
            "grid_auto_rows": null,
            "grid_column": null,
            "grid_gap": null,
            "grid_row": null,
            "grid_template_areas": null,
            "grid_template_columns": null,
            "grid_template_rows": null,
            "height": null,
            "justify_content": null,
            "justify_items": null,
            "left": null,
            "margin": null,
            "max_height": null,
            "max_width": null,
            "min_height": null,
            "min_width": null,
            "object_fit": null,
            "object_position": null,
            "order": null,
            "overflow": null,
            "overflow_x": null,
            "overflow_y": null,
            "padding": null,
            "right": null,
            "top": null,
            "visibility": null,
            "width": null
          }
        },
        "d7e26febe9ee44fa9eeafccc5c1f7d52": {
          "model_module": "@jupyter-widgets/controls",
          "model_name": "DescriptionStyleModel",
          "model_module_version": "1.5.0",
          "state": {
            "_model_module": "@jupyter-widgets/controls",
            "_model_module_version": "1.5.0",
            "_model_name": "DescriptionStyleModel",
            "_view_count": null,
            "_view_module": "@jupyter-widgets/base",
            "_view_module_version": "1.2.0",
            "_view_name": "StyleView",
            "description_width": ""
          }
        },
        "5e7629f0ed0844eabdb030b237ba3557": {
          "model_module": "@jupyter-widgets/base",
          "model_name": "LayoutModel",
          "model_module_version": "1.2.0",
          "state": {
            "_model_module": "@jupyter-widgets/base",
            "_model_module_version": "1.2.0",
            "_model_name": "LayoutModel",
            "_view_count": null,
            "_view_module": "@jupyter-widgets/base",
            "_view_module_version": "1.2.0",
            "_view_name": "LayoutView",
            "align_content": null,
            "align_items": null,
            "align_self": null,
            "border": null,
            "bottom": null,
            "display": null,
            "flex": null,
            "flex_flow": null,
            "grid_area": null,
            "grid_auto_columns": null,
            "grid_auto_flow": null,
            "grid_auto_rows": null,
            "grid_column": null,
            "grid_gap": null,
            "grid_row": null,
            "grid_template_areas": null,
            "grid_template_columns": null,
            "grid_template_rows": null,
            "height": null,
            "justify_content": null,
            "justify_items": null,
            "left": null,
            "margin": null,
            "max_height": null,
            "max_width": null,
            "min_height": null,
            "min_width": null,
            "object_fit": null,
            "object_position": null,
            "order": null,
            "overflow": null,
            "overflow_x": null,
            "overflow_y": null,
            "padding": null,
            "right": null,
            "top": null,
            "visibility": null,
            "width": null
          }
        },
        "fc7762d3ac1341fb993757a10096e391": {
          "model_module": "@jupyter-widgets/controls",
          "model_name": "ProgressStyleModel",
          "model_module_version": "1.5.0",
          "state": {
            "_model_module": "@jupyter-widgets/controls",
            "_model_module_version": "1.5.0",
            "_model_name": "ProgressStyleModel",
            "_view_count": null,
            "_view_module": "@jupyter-widgets/base",
            "_view_module_version": "1.2.0",
            "_view_name": "StyleView",
            "bar_color": null,
            "description_width": ""
          }
        },
        "5f0834ce431f49fb8d047ea390172958": {
          "model_module": "@jupyter-widgets/base",
          "model_name": "LayoutModel",
          "model_module_version": "1.2.0",
          "state": {
            "_model_module": "@jupyter-widgets/base",
            "_model_module_version": "1.2.0",
            "_model_name": "LayoutModel",
            "_view_count": null,
            "_view_module": "@jupyter-widgets/base",
            "_view_module_version": "1.2.0",
            "_view_name": "LayoutView",
            "align_content": null,
            "align_items": null,
            "align_self": null,
            "border": null,
            "bottom": null,
            "display": null,
            "flex": null,
            "flex_flow": null,
            "grid_area": null,
            "grid_auto_columns": null,
            "grid_auto_flow": null,
            "grid_auto_rows": null,
            "grid_column": null,
            "grid_gap": null,
            "grid_row": null,
            "grid_template_areas": null,
            "grid_template_columns": null,
            "grid_template_rows": null,
            "height": null,
            "justify_content": null,
            "justify_items": null,
            "left": null,
            "margin": null,
            "max_height": null,
            "max_width": null,
            "min_height": null,
            "min_width": null,
            "object_fit": null,
            "object_position": null,
            "order": null,
            "overflow": null,
            "overflow_x": null,
            "overflow_y": null,
            "padding": null,
            "right": null,
            "top": null,
            "visibility": null,
            "width": null
          }
        },
        "520e3ef905c642fe921a4e571b0d7e89": {
          "model_module": "@jupyter-widgets/controls",
          "model_name": "DescriptionStyleModel",
          "model_module_version": "1.5.0",
          "state": {
            "_model_module": "@jupyter-widgets/controls",
            "_model_module_version": "1.5.0",
            "_model_name": "DescriptionStyleModel",
            "_view_count": null,
            "_view_module": "@jupyter-widgets/base",
            "_view_module_version": "1.2.0",
            "_view_name": "StyleView",
            "description_width": ""
          }
        },
        "b1498a8845d5415ab53a97b63d9c0ac8": {
          "model_module": "@jupyter-widgets/controls",
          "model_name": "HBoxModel",
          "model_module_version": "1.5.0",
          "state": {
            "_dom_classes": [],
            "_model_module": "@jupyter-widgets/controls",
            "_model_module_version": "1.5.0",
            "_model_name": "HBoxModel",
            "_view_count": null,
            "_view_module": "@jupyter-widgets/controls",
            "_view_module_version": "1.5.0",
            "_view_name": "HBoxView",
            "box_style": "",
            "children": [
              "IPY_MODEL_f2c47d75d460475eb5859f2cf2393477",
              "IPY_MODEL_0ede8fe8e7e84b71b4c5e65934ab4259",
              "IPY_MODEL_114d03fe56f74909b8ad8e999371bd0e"
            ],
            "layout": "IPY_MODEL_c1233411942f4827a8efd0344aa768fa"
          }
        },
        "f2c47d75d460475eb5859f2cf2393477": {
          "model_module": "@jupyter-widgets/controls",
          "model_name": "HTMLModel",
          "model_module_version": "1.5.0",
          "state": {
            "_dom_classes": [],
            "_model_module": "@jupyter-widgets/controls",
            "_model_module_version": "1.5.0",
            "_model_name": "HTMLModel",
            "_view_count": null,
            "_view_module": "@jupyter-widgets/controls",
            "_view_module_version": "1.5.0",
            "_view_name": "HTMLView",
            "description": "",
            "description_tooltip": null,
            "layout": "IPY_MODEL_e620754c8aad43139fb1ca2da2f68870",
            "placeholder": "​",
            "style": "IPY_MODEL_254dcaf4252a46baa8700178dc55a551",
            "value": "Downloading (…)olve/main/vocab.json: 100%"
          }
        },
        "0ede8fe8e7e84b71b4c5e65934ab4259": {
          "model_module": "@jupyter-widgets/controls",
          "model_name": "FloatProgressModel",
          "model_module_version": "1.5.0",
          "state": {
            "_dom_classes": [],
            "_model_module": "@jupyter-widgets/controls",
            "_model_module_version": "1.5.0",
            "_model_name": "FloatProgressModel",
            "_view_count": null,
            "_view_module": "@jupyter-widgets/controls",
            "_view_module_version": "1.5.0",
            "_view_name": "ProgressView",
            "bar_style": "success",
            "description": "",
            "description_tooltip": null,
            "layout": "IPY_MODEL_0a33ef01b8804771942d0917c5109d68",
            "max": 906984,
            "min": 0,
            "orientation": "horizontal",
            "style": "IPY_MODEL_f02034f70bca4155bfc23623239a5d37",
            "value": 906984
          }
        },
        "114d03fe56f74909b8ad8e999371bd0e": {
          "model_module": "@jupyter-widgets/controls",
          "model_name": "HTMLModel",
          "model_module_version": "1.5.0",
          "state": {
            "_dom_classes": [],
            "_model_module": "@jupyter-widgets/controls",
            "_model_module_version": "1.5.0",
            "_model_name": "HTMLModel",
            "_view_count": null,
            "_view_module": "@jupyter-widgets/controls",
            "_view_module_version": "1.5.0",
            "_view_name": "HTMLView",
            "description": "",
            "description_tooltip": null,
            "layout": "IPY_MODEL_15aff10d30e240f4a5247f53b32106ec",
            "placeholder": "​",
            "style": "IPY_MODEL_38373cf07a0644de8a6f9b293064a75f",
            "value": " 907k/907k [00:00&lt;00:00, 8.95MB/s]"
          }
        },
        "c1233411942f4827a8efd0344aa768fa": {
          "model_module": "@jupyter-widgets/base",
          "model_name": "LayoutModel",
          "model_module_version": "1.2.0",
          "state": {
            "_model_module": "@jupyter-widgets/base",
            "_model_module_version": "1.2.0",
            "_model_name": "LayoutModel",
            "_view_count": null,
            "_view_module": "@jupyter-widgets/base",
            "_view_module_version": "1.2.0",
            "_view_name": "LayoutView",
            "align_content": null,
            "align_items": null,
            "align_self": null,
            "border": null,
            "bottom": null,
            "display": null,
            "flex": null,
            "flex_flow": null,
            "grid_area": null,
            "grid_auto_columns": null,
            "grid_auto_flow": null,
            "grid_auto_rows": null,
            "grid_column": null,
            "grid_gap": null,
            "grid_row": null,
            "grid_template_areas": null,
            "grid_template_columns": null,
            "grid_template_rows": null,
            "height": null,
            "justify_content": null,
            "justify_items": null,
            "left": null,
            "margin": null,
            "max_height": null,
            "max_width": null,
            "min_height": null,
            "min_width": null,
            "object_fit": null,
            "object_position": null,
            "order": null,
            "overflow": null,
            "overflow_x": null,
            "overflow_y": null,
            "padding": null,
            "right": null,
            "top": null,
            "visibility": null,
            "width": null
          }
        },
        "e620754c8aad43139fb1ca2da2f68870": {
          "model_module": "@jupyter-widgets/base",
          "model_name": "LayoutModel",
          "model_module_version": "1.2.0",
          "state": {
            "_model_module": "@jupyter-widgets/base",
            "_model_module_version": "1.2.0",
            "_model_name": "LayoutModel",
            "_view_count": null,
            "_view_module": "@jupyter-widgets/base",
            "_view_module_version": "1.2.0",
            "_view_name": "LayoutView",
            "align_content": null,
            "align_items": null,
            "align_self": null,
            "border": null,
            "bottom": null,
            "display": null,
            "flex": null,
            "flex_flow": null,
            "grid_area": null,
            "grid_auto_columns": null,
            "grid_auto_flow": null,
            "grid_auto_rows": null,
            "grid_column": null,
            "grid_gap": null,
            "grid_row": null,
            "grid_template_areas": null,
            "grid_template_columns": null,
            "grid_template_rows": null,
            "height": null,
            "justify_content": null,
            "justify_items": null,
            "left": null,
            "margin": null,
            "max_height": null,
            "max_width": null,
            "min_height": null,
            "min_width": null,
            "object_fit": null,
            "object_position": null,
            "order": null,
            "overflow": null,
            "overflow_x": null,
            "overflow_y": null,
            "padding": null,
            "right": null,
            "top": null,
            "visibility": null,
            "width": null
          }
        },
        "254dcaf4252a46baa8700178dc55a551": {
          "model_module": "@jupyter-widgets/controls",
          "model_name": "DescriptionStyleModel",
          "model_module_version": "1.5.0",
          "state": {
            "_model_module": "@jupyter-widgets/controls",
            "_model_module_version": "1.5.0",
            "_model_name": "DescriptionStyleModel",
            "_view_count": null,
            "_view_module": "@jupyter-widgets/base",
            "_view_module_version": "1.2.0",
            "_view_name": "StyleView",
            "description_width": ""
          }
        },
        "0a33ef01b8804771942d0917c5109d68": {
          "model_module": "@jupyter-widgets/base",
          "model_name": "LayoutModel",
          "model_module_version": "1.2.0",
          "state": {
            "_model_module": "@jupyter-widgets/base",
            "_model_module_version": "1.2.0",
            "_model_name": "LayoutModel",
            "_view_count": null,
            "_view_module": "@jupyter-widgets/base",
            "_view_module_version": "1.2.0",
            "_view_name": "LayoutView",
            "align_content": null,
            "align_items": null,
            "align_self": null,
            "border": null,
            "bottom": null,
            "display": null,
            "flex": null,
            "flex_flow": null,
            "grid_area": null,
            "grid_auto_columns": null,
            "grid_auto_flow": null,
            "grid_auto_rows": null,
            "grid_column": null,
            "grid_gap": null,
            "grid_row": null,
            "grid_template_areas": null,
            "grid_template_columns": null,
            "grid_template_rows": null,
            "height": null,
            "justify_content": null,
            "justify_items": null,
            "left": null,
            "margin": null,
            "max_height": null,
            "max_width": null,
            "min_height": null,
            "min_width": null,
            "object_fit": null,
            "object_position": null,
            "order": null,
            "overflow": null,
            "overflow_x": null,
            "overflow_y": null,
            "padding": null,
            "right": null,
            "top": null,
            "visibility": null,
            "width": null
          }
        },
        "f02034f70bca4155bfc23623239a5d37": {
          "model_module": "@jupyter-widgets/controls",
          "model_name": "ProgressStyleModel",
          "model_module_version": "1.5.0",
          "state": {
            "_model_module": "@jupyter-widgets/controls",
            "_model_module_version": "1.5.0",
            "_model_name": "ProgressStyleModel",
            "_view_count": null,
            "_view_module": "@jupyter-widgets/base",
            "_view_module_version": "1.2.0",
            "_view_name": "StyleView",
            "bar_color": null,
            "description_width": ""
          }
        },
        "15aff10d30e240f4a5247f53b32106ec": {
          "model_module": "@jupyter-widgets/base",
          "model_name": "LayoutModel",
          "model_module_version": "1.2.0",
          "state": {
            "_model_module": "@jupyter-widgets/base",
            "_model_module_version": "1.2.0",
            "_model_name": "LayoutModel",
            "_view_count": null,
            "_view_module": "@jupyter-widgets/base",
            "_view_module_version": "1.2.0",
            "_view_name": "LayoutView",
            "align_content": null,
            "align_items": null,
            "align_self": null,
            "border": null,
            "bottom": null,
            "display": null,
            "flex": null,
            "flex_flow": null,
            "grid_area": null,
            "grid_auto_columns": null,
            "grid_auto_flow": null,
            "grid_auto_rows": null,
            "grid_column": null,
            "grid_gap": null,
            "grid_row": null,
            "grid_template_areas": null,
            "grid_template_columns": null,
            "grid_template_rows": null,
            "height": null,
            "justify_content": null,
            "justify_items": null,
            "left": null,
            "margin": null,
            "max_height": null,
            "max_width": null,
            "min_height": null,
            "min_width": null,
            "object_fit": null,
            "object_position": null,
            "order": null,
            "overflow": null,
            "overflow_x": null,
            "overflow_y": null,
            "padding": null,
            "right": null,
            "top": null,
            "visibility": null,
            "width": null
          }
        },
        "38373cf07a0644de8a6f9b293064a75f": {
          "model_module": "@jupyter-widgets/controls",
          "model_name": "DescriptionStyleModel",
          "model_module_version": "1.5.0",
          "state": {
            "_model_module": "@jupyter-widgets/controls",
            "_model_module_version": "1.5.0",
            "_model_name": "DescriptionStyleModel",
            "_view_count": null,
            "_view_module": "@jupyter-widgets/base",
            "_view_module_version": "1.2.0",
            "_view_name": "StyleView",
            "description_width": ""
          }
        },
        "828838d2cac240ea83b1fefe5024e102": {
          "model_module": "@jupyter-widgets/controls",
          "model_name": "HBoxModel",
          "model_module_version": "1.5.0",
          "state": {
            "_dom_classes": [],
            "_model_module": "@jupyter-widgets/controls",
            "_model_module_version": "1.5.0",
            "_model_name": "HBoxModel",
            "_view_count": null,
            "_view_module": "@jupyter-widgets/controls",
            "_view_module_version": "1.5.0",
            "_view_name": "HBoxView",
            "box_style": "",
            "children": [
              "IPY_MODEL_a006e6ff7cb744d3a1ab69b0e397f1dc",
              "IPY_MODEL_d98c6f7e2aa441da866675f60ecd0c58",
              "IPY_MODEL_7fc0650632754e94a66295edbf54c2e6"
            ],
            "layout": "IPY_MODEL_f28feaf5e7c54e9996e4395a829303f8"
          }
        },
        "a006e6ff7cb744d3a1ab69b0e397f1dc": {
          "model_module": "@jupyter-widgets/controls",
          "model_name": "HTMLModel",
          "model_module_version": "1.5.0",
          "state": {
            "_dom_classes": [],
            "_model_module": "@jupyter-widgets/controls",
            "_model_module_version": "1.5.0",
            "_model_name": "HTMLModel",
            "_view_count": null,
            "_view_module": "@jupyter-widgets/controls",
            "_view_module_version": "1.5.0",
            "_view_name": "HTMLView",
            "description": "",
            "description_tooltip": null,
            "layout": "IPY_MODEL_9485a2c0dcc24bfdb44f0d1e875f07c0",
            "placeholder": "​",
            "style": "IPY_MODEL_a61caf1a9c2946dea3af80608648e17d",
            "value": "Downloading (…)olve/main/merges.txt: 100%"
          }
        },
        "d98c6f7e2aa441da866675f60ecd0c58": {
          "model_module": "@jupyter-widgets/controls",
          "model_name": "FloatProgressModel",
          "model_module_version": "1.5.0",
          "state": {
            "_dom_classes": [],
            "_model_module": "@jupyter-widgets/controls",
            "_model_module_version": "1.5.0",
            "_model_name": "FloatProgressModel",
            "_view_count": null,
            "_view_module": "@jupyter-widgets/controls",
            "_view_module_version": "1.5.0",
            "_view_name": "ProgressView",
            "bar_style": "success",
            "description": "",
            "description_tooltip": null,
            "layout": "IPY_MODEL_397c8df9a3d141d593ddda956b4fcd4c",
            "max": 555571,
            "min": 0,
            "orientation": "horizontal",
            "style": "IPY_MODEL_b90542eeec0d4633b2abced024aa3490",
            "value": 555571
          }
        },
        "7fc0650632754e94a66295edbf54c2e6": {
          "model_module": "@jupyter-widgets/controls",
          "model_name": "HTMLModel",
          "model_module_version": "1.5.0",
          "state": {
            "_dom_classes": [],
            "_model_module": "@jupyter-widgets/controls",
            "_model_module_version": "1.5.0",
            "_model_name": "HTMLModel",
            "_view_count": null,
            "_view_module": "@jupyter-widgets/controls",
            "_view_module_version": "1.5.0",
            "_view_name": "HTMLView",
            "description": "",
            "description_tooltip": null,
            "layout": "IPY_MODEL_1b296e42bec540d09d0a8ea0a8194652",
            "placeholder": "​",
            "style": "IPY_MODEL_bf5358950cda40b1a56e727083459cde",
            "value": " 556k/556k [00:00&lt;00:00, 13.3MB/s]"
          }
        },
        "f28feaf5e7c54e9996e4395a829303f8": {
          "model_module": "@jupyter-widgets/base",
          "model_name": "LayoutModel",
          "model_module_version": "1.2.0",
          "state": {
            "_model_module": "@jupyter-widgets/base",
            "_model_module_version": "1.2.0",
            "_model_name": "LayoutModel",
            "_view_count": null,
            "_view_module": "@jupyter-widgets/base",
            "_view_module_version": "1.2.0",
            "_view_name": "LayoutView",
            "align_content": null,
            "align_items": null,
            "align_self": null,
            "border": null,
            "bottom": null,
            "display": null,
            "flex": null,
            "flex_flow": null,
            "grid_area": null,
            "grid_auto_columns": null,
            "grid_auto_flow": null,
            "grid_auto_rows": null,
            "grid_column": null,
            "grid_gap": null,
            "grid_row": null,
            "grid_template_areas": null,
            "grid_template_columns": null,
            "grid_template_rows": null,
            "height": null,
            "justify_content": null,
            "justify_items": null,
            "left": null,
            "margin": null,
            "max_height": null,
            "max_width": null,
            "min_height": null,
            "min_width": null,
            "object_fit": null,
            "object_position": null,
            "order": null,
            "overflow": null,
            "overflow_x": null,
            "overflow_y": null,
            "padding": null,
            "right": null,
            "top": null,
            "visibility": null,
            "width": null
          }
        },
        "9485a2c0dcc24bfdb44f0d1e875f07c0": {
          "model_module": "@jupyter-widgets/base",
          "model_name": "LayoutModel",
          "model_module_version": "1.2.0",
          "state": {
            "_model_module": "@jupyter-widgets/base",
            "_model_module_version": "1.2.0",
            "_model_name": "LayoutModel",
            "_view_count": null,
            "_view_module": "@jupyter-widgets/base",
            "_view_module_version": "1.2.0",
            "_view_name": "LayoutView",
            "align_content": null,
            "align_items": null,
            "align_self": null,
            "border": null,
            "bottom": null,
            "display": null,
            "flex": null,
            "flex_flow": null,
            "grid_area": null,
            "grid_auto_columns": null,
            "grid_auto_flow": null,
            "grid_auto_rows": null,
            "grid_column": null,
            "grid_gap": null,
            "grid_row": null,
            "grid_template_areas": null,
            "grid_template_columns": null,
            "grid_template_rows": null,
            "height": null,
            "justify_content": null,
            "justify_items": null,
            "left": null,
            "margin": null,
            "max_height": null,
            "max_width": null,
            "min_height": null,
            "min_width": null,
            "object_fit": null,
            "object_position": null,
            "order": null,
            "overflow": null,
            "overflow_x": null,
            "overflow_y": null,
            "padding": null,
            "right": null,
            "top": null,
            "visibility": null,
            "width": null
          }
        },
        "a61caf1a9c2946dea3af80608648e17d": {
          "model_module": "@jupyter-widgets/controls",
          "model_name": "DescriptionStyleModel",
          "model_module_version": "1.5.0",
          "state": {
            "_model_module": "@jupyter-widgets/controls",
            "_model_module_version": "1.5.0",
            "_model_name": "DescriptionStyleModel",
            "_view_count": null,
            "_view_module": "@jupyter-widgets/base",
            "_view_module_version": "1.2.0",
            "_view_name": "StyleView",
            "description_width": ""
          }
        },
        "397c8df9a3d141d593ddda956b4fcd4c": {
          "model_module": "@jupyter-widgets/base",
          "model_name": "LayoutModel",
          "model_module_version": "1.2.0",
          "state": {
            "_model_module": "@jupyter-widgets/base",
            "_model_module_version": "1.2.0",
            "_model_name": "LayoutModel",
            "_view_count": null,
            "_view_module": "@jupyter-widgets/base",
            "_view_module_version": "1.2.0",
            "_view_name": "LayoutView",
            "align_content": null,
            "align_items": null,
            "align_self": null,
            "border": null,
            "bottom": null,
            "display": null,
            "flex": null,
            "flex_flow": null,
            "grid_area": null,
            "grid_auto_columns": null,
            "grid_auto_flow": null,
            "grid_auto_rows": null,
            "grid_column": null,
            "grid_gap": null,
            "grid_row": null,
            "grid_template_areas": null,
            "grid_template_columns": null,
            "grid_template_rows": null,
            "height": null,
            "justify_content": null,
            "justify_items": null,
            "left": null,
            "margin": null,
            "max_height": null,
            "max_width": null,
            "min_height": null,
            "min_width": null,
            "object_fit": null,
            "object_position": null,
            "order": null,
            "overflow": null,
            "overflow_x": null,
            "overflow_y": null,
            "padding": null,
            "right": null,
            "top": null,
            "visibility": null,
            "width": null
          }
        },
        "b90542eeec0d4633b2abced024aa3490": {
          "model_module": "@jupyter-widgets/controls",
          "model_name": "ProgressStyleModel",
          "model_module_version": "1.5.0",
          "state": {
            "_model_module": "@jupyter-widgets/controls",
            "_model_module_version": "1.5.0",
            "_model_name": "ProgressStyleModel",
            "_view_count": null,
            "_view_module": "@jupyter-widgets/base",
            "_view_module_version": "1.2.0",
            "_view_name": "StyleView",
            "bar_color": null,
            "description_width": ""
          }
        },
        "1b296e42bec540d09d0a8ea0a8194652": {
          "model_module": "@jupyter-widgets/base",
          "model_name": "LayoutModel",
          "model_module_version": "1.2.0",
          "state": {
            "_model_module": "@jupyter-widgets/base",
            "_model_module_version": "1.2.0",
            "_model_name": "LayoutModel",
            "_view_count": null,
            "_view_module": "@jupyter-widgets/base",
            "_view_module_version": "1.2.0",
            "_view_name": "LayoutView",
            "align_content": null,
            "align_items": null,
            "align_self": null,
            "border": null,
            "bottom": null,
            "display": null,
            "flex": null,
            "flex_flow": null,
            "grid_area": null,
            "grid_auto_columns": null,
            "grid_auto_flow": null,
            "grid_auto_rows": null,
            "grid_column": null,
            "grid_gap": null,
            "grid_row": null,
            "grid_template_areas": null,
            "grid_template_columns": null,
            "grid_template_rows": null,
            "height": null,
            "justify_content": null,
            "justify_items": null,
            "left": null,
            "margin": null,
            "max_height": null,
            "max_width": null,
            "min_height": null,
            "min_width": null,
            "object_fit": null,
            "object_position": null,
            "order": null,
            "overflow": null,
            "overflow_x": null,
            "overflow_y": null,
            "padding": null,
            "right": null,
            "top": null,
            "visibility": null,
            "width": null
          }
        },
        "bf5358950cda40b1a56e727083459cde": {
          "model_module": "@jupyter-widgets/controls",
          "model_name": "DescriptionStyleModel",
          "model_module_version": "1.5.0",
          "state": {
            "_model_module": "@jupyter-widgets/controls",
            "_model_module_version": "1.5.0",
            "_model_name": "DescriptionStyleModel",
            "_view_count": null,
            "_view_module": "@jupyter-widgets/base",
            "_view_module_version": "1.2.0",
            "_view_name": "StyleView",
            "description_width": ""
          }
        },
        "fa033b2c877c465b938977f062254a1c": {
          "model_module": "@jupyter-widgets/controls",
          "model_name": "HBoxModel",
          "model_module_version": "1.5.0",
          "state": {
            "_dom_classes": [],
            "_model_module": "@jupyter-widgets/controls",
            "_model_module_version": "1.5.0",
            "_model_name": "HBoxModel",
            "_view_count": null,
            "_view_module": "@jupyter-widgets/controls",
            "_view_module_version": "1.5.0",
            "_view_name": "HBoxView",
            "box_style": "",
            "children": [
              "IPY_MODEL_44e2155f25264e83a9ff5921975a5e61",
              "IPY_MODEL_e42338f8afc647b9abc804a97d3417fc",
              "IPY_MODEL_6205c7cee93e43459717934baad571c2"
            ],
            "layout": "IPY_MODEL_7469f735e0ef4ad8888f575c10abbdd4"
          }
        },
        "44e2155f25264e83a9ff5921975a5e61": {
          "model_module": "@jupyter-widgets/controls",
          "model_name": "HTMLModel",
          "model_module_version": "1.5.0",
          "state": {
            "_dom_classes": [],
            "_model_module": "@jupyter-widgets/controls",
            "_model_module_version": "1.5.0",
            "_model_name": "HTMLModel",
            "_view_count": null,
            "_view_module": "@jupyter-widgets/controls",
            "_view_module_version": "1.5.0",
            "_view_name": "HTMLView",
            "description": "",
            "description_tooltip": null,
            "layout": "IPY_MODEL_258bef030e33459788e34dbacc9b7717",
            "placeholder": "​",
            "style": "IPY_MODEL_12d3766c20414172a3d6a7c9b3fd310a",
            "value": "Downloading (…)cial_tokens_map.json: 100%"
          }
        },
        "e42338f8afc647b9abc804a97d3417fc": {
          "model_module": "@jupyter-widgets/controls",
          "model_name": "FloatProgressModel",
          "model_module_version": "1.5.0",
          "state": {
            "_dom_classes": [],
            "_model_module": "@jupyter-widgets/controls",
            "_model_module_version": "1.5.0",
            "_model_name": "FloatProgressModel",
            "_view_count": null,
            "_view_module": "@jupyter-widgets/controls",
            "_view_module_version": "1.5.0",
            "_view_name": "ProgressView",
            "bar_style": "success",
            "description": "",
            "description_tooltip": null,
            "layout": "IPY_MODEL_fcb8c2ec95c74f788918b15b4554716c",
            "max": 129,
            "min": 0,
            "orientation": "horizontal",
            "style": "IPY_MODEL_0f626b51bdcc467c9d3af96a8d45215d",
            "value": 129
          }
        },
        "6205c7cee93e43459717934baad571c2": {
          "model_module": "@jupyter-widgets/controls",
          "model_name": "HTMLModel",
          "model_module_version": "1.5.0",
          "state": {
            "_dom_classes": [],
            "_model_module": "@jupyter-widgets/controls",
            "_model_module_version": "1.5.0",
            "_model_name": "HTMLModel",
            "_view_count": null,
            "_view_module": "@jupyter-widgets/controls",
            "_view_module_version": "1.5.0",
            "_view_name": "HTMLView",
            "description": "",
            "description_tooltip": null,
            "layout": "IPY_MODEL_92016dff8f054c67bea6cd0a72d99d9e",
            "placeholder": "​",
            "style": "IPY_MODEL_ee64f82a79e642c392e61f8dbc599705",
            "value": " 129/129 [00:00&lt;00:00, 3.07kB/s]"
          }
        },
        "7469f735e0ef4ad8888f575c10abbdd4": {
          "model_module": "@jupyter-widgets/base",
          "model_name": "LayoutModel",
          "model_module_version": "1.2.0",
          "state": {
            "_model_module": "@jupyter-widgets/base",
            "_model_module_version": "1.2.0",
            "_model_name": "LayoutModel",
            "_view_count": null,
            "_view_module": "@jupyter-widgets/base",
            "_view_module_version": "1.2.0",
            "_view_name": "LayoutView",
            "align_content": null,
            "align_items": null,
            "align_self": null,
            "border": null,
            "bottom": null,
            "display": null,
            "flex": null,
            "flex_flow": null,
            "grid_area": null,
            "grid_auto_columns": null,
            "grid_auto_flow": null,
            "grid_auto_rows": null,
            "grid_column": null,
            "grid_gap": null,
            "grid_row": null,
            "grid_template_areas": null,
            "grid_template_columns": null,
            "grid_template_rows": null,
            "height": null,
            "justify_content": null,
            "justify_items": null,
            "left": null,
            "margin": null,
            "max_height": null,
            "max_width": null,
            "min_height": null,
            "min_width": null,
            "object_fit": null,
            "object_position": null,
            "order": null,
            "overflow": null,
            "overflow_x": null,
            "overflow_y": null,
            "padding": null,
            "right": null,
            "top": null,
            "visibility": null,
            "width": null
          }
        },
        "258bef030e33459788e34dbacc9b7717": {
          "model_module": "@jupyter-widgets/base",
          "model_name": "LayoutModel",
          "model_module_version": "1.2.0",
          "state": {
            "_model_module": "@jupyter-widgets/base",
            "_model_module_version": "1.2.0",
            "_model_name": "LayoutModel",
            "_view_count": null,
            "_view_module": "@jupyter-widgets/base",
            "_view_module_version": "1.2.0",
            "_view_name": "LayoutView",
            "align_content": null,
            "align_items": null,
            "align_self": null,
            "border": null,
            "bottom": null,
            "display": null,
            "flex": null,
            "flex_flow": null,
            "grid_area": null,
            "grid_auto_columns": null,
            "grid_auto_flow": null,
            "grid_auto_rows": null,
            "grid_column": null,
            "grid_gap": null,
            "grid_row": null,
            "grid_template_areas": null,
            "grid_template_columns": null,
            "grid_template_rows": null,
            "height": null,
            "justify_content": null,
            "justify_items": null,
            "left": null,
            "margin": null,
            "max_height": null,
            "max_width": null,
            "min_height": null,
            "min_width": null,
            "object_fit": null,
            "object_position": null,
            "order": null,
            "overflow": null,
            "overflow_x": null,
            "overflow_y": null,
            "padding": null,
            "right": null,
            "top": null,
            "visibility": null,
            "width": null
          }
        },
        "12d3766c20414172a3d6a7c9b3fd310a": {
          "model_module": "@jupyter-widgets/controls",
          "model_name": "DescriptionStyleModel",
          "model_module_version": "1.5.0",
          "state": {
            "_model_module": "@jupyter-widgets/controls",
            "_model_module_version": "1.5.0",
            "_model_name": "DescriptionStyleModel",
            "_view_count": null,
            "_view_module": "@jupyter-widgets/base",
            "_view_module_version": "1.2.0",
            "_view_name": "StyleView",
            "description_width": ""
          }
        },
        "fcb8c2ec95c74f788918b15b4554716c": {
          "model_module": "@jupyter-widgets/base",
          "model_name": "LayoutModel",
          "model_module_version": "1.2.0",
          "state": {
            "_model_module": "@jupyter-widgets/base",
            "_model_module_version": "1.2.0",
            "_model_name": "LayoutModel",
            "_view_count": null,
            "_view_module": "@jupyter-widgets/base",
            "_view_module_version": "1.2.0",
            "_view_name": "LayoutView",
            "align_content": null,
            "align_items": null,
            "align_self": null,
            "border": null,
            "bottom": null,
            "display": null,
            "flex": null,
            "flex_flow": null,
            "grid_area": null,
            "grid_auto_columns": null,
            "grid_auto_flow": null,
            "grid_auto_rows": null,
            "grid_column": null,
            "grid_gap": null,
            "grid_row": null,
            "grid_template_areas": null,
            "grid_template_columns": null,
            "grid_template_rows": null,
            "height": null,
            "justify_content": null,
            "justify_items": null,
            "left": null,
            "margin": null,
            "max_height": null,
            "max_width": null,
            "min_height": null,
            "min_width": null,
            "object_fit": null,
            "object_position": null,
            "order": null,
            "overflow": null,
            "overflow_x": null,
            "overflow_y": null,
            "padding": null,
            "right": null,
            "top": null,
            "visibility": null,
            "width": null
          }
        },
        "0f626b51bdcc467c9d3af96a8d45215d": {
          "model_module": "@jupyter-widgets/controls",
          "model_name": "ProgressStyleModel",
          "model_module_version": "1.5.0",
          "state": {
            "_model_module": "@jupyter-widgets/controls",
            "_model_module_version": "1.5.0",
            "_model_name": "ProgressStyleModel",
            "_view_count": null,
            "_view_module": "@jupyter-widgets/base",
            "_view_module_version": "1.2.0",
            "_view_name": "StyleView",
            "bar_color": null,
            "description_width": ""
          }
        },
        "92016dff8f054c67bea6cd0a72d99d9e": {
          "model_module": "@jupyter-widgets/base",
          "model_name": "LayoutModel",
          "model_module_version": "1.2.0",
          "state": {
            "_model_module": "@jupyter-widgets/base",
            "_model_module_version": "1.2.0",
            "_model_name": "LayoutModel",
            "_view_count": null,
            "_view_module": "@jupyter-widgets/base",
            "_view_module_version": "1.2.0",
            "_view_name": "LayoutView",
            "align_content": null,
            "align_items": null,
            "align_self": null,
            "border": null,
            "bottom": null,
            "display": null,
            "flex": null,
            "flex_flow": null,
            "grid_area": null,
            "grid_auto_columns": null,
            "grid_auto_flow": null,
            "grid_auto_rows": null,
            "grid_column": null,
            "grid_gap": null,
            "grid_row": null,
            "grid_template_areas": null,
            "grid_template_columns": null,
            "grid_template_rows": null,
            "height": null,
            "justify_content": null,
            "justify_items": null,
            "left": null,
            "margin": null,
            "max_height": null,
            "max_width": null,
            "min_height": null,
            "min_width": null,
            "object_fit": null,
            "object_position": null,
            "order": null,
            "overflow": null,
            "overflow_x": null,
            "overflow_y": null,
            "padding": null,
            "right": null,
            "top": null,
            "visibility": null,
            "width": null
          }
        },
        "ee64f82a79e642c392e61f8dbc599705": {
          "model_module": "@jupyter-widgets/controls",
          "model_name": "DescriptionStyleModel",
          "model_module_version": "1.5.0",
          "state": {
            "_model_module": "@jupyter-widgets/controls",
            "_model_module_version": "1.5.0",
            "_model_name": "DescriptionStyleModel",
            "_view_count": null,
            "_view_module": "@jupyter-widgets/base",
            "_view_module_version": "1.2.0",
            "_view_name": "StyleView",
            "description_width": ""
          }
        },
        "e8cf12288d064915b14316a608f9f223": {
          "model_module": "@jupyter-widgets/controls",
          "model_name": "HBoxModel",
          "model_module_version": "1.5.0",
          "state": {
            "_dom_classes": [],
            "_model_module": "@jupyter-widgets/controls",
            "_model_module_version": "1.5.0",
            "_model_name": "HBoxModel",
            "_view_count": null,
            "_view_module": "@jupyter-widgets/controls",
            "_view_module_version": "1.5.0",
            "_view_name": "HBoxView",
            "box_style": "",
            "children": [
              "IPY_MODEL_818b3c5feac64a7f8b7fa30aae9dba26",
              "IPY_MODEL_e090a08d83694b488b0bd91f67a2b2ee",
              "IPY_MODEL_60a927df912c4c9c84dffd4c2809663f"
            ],
            "layout": "IPY_MODEL_b7b96aac524240a1984e1ec753afa14b"
          }
        },
        "818b3c5feac64a7f8b7fa30aae9dba26": {
          "model_module": "@jupyter-widgets/controls",
          "model_name": "HTMLModel",
          "model_module_version": "1.5.0",
          "state": {
            "_dom_classes": [],
            "_model_module": "@jupyter-widgets/controls",
            "_model_module_version": "1.5.0",
            "_model_name": "HTMLModel",
            "_view_count": null,
            "_view_module": "@jupyter-widgets/controls",
            "_view_module_version": "1.5.0",
            "_view_name": "HTMLView",
            "description": "",
            "description_tooltip": null,
            "layout": "IPY_MODEL_6436accc446f4934a7531f7f6fe522cb",
            "placeholder": "​",
            "style": "IPY_MODEL_fc0fd4efbfa64d87a1b4dc81907c0aa6",
            "value": "Map: 100%"
          }
        },
        "e090a08d83694b488b0bd91f67a2b2ee": {
          "model_module": "@jupyter-widgets/controls",
          "model_name": "FloatProgressModel",
          "model_module_version": "1.5.0",
          "state": {
            "_dom_classes": [],
            "_model_module": "@jupyter-widgets/controls",
            "_model_module_version": "1.5.0",
            "_model_name": "FloatProgressModel",
            "_view_count": null,
            "_view_module": "@jupyter-widgets/controls",
            "_view_module_version": "1.5.0",
            "_view_name": "ProgressView",
            "bar_style": "",
            "description": "",
            "description_tooltip": null,
            "layout": "IPY_MODEL_a83b365baef84d5b83932624f73cd5e9",
            "max": 20564,
            "min": 0,
            "orientation": "horizontal",
            "style": "IPY_MODEL_f107ded1c3b04040a5ccc15e3f2e295c",
            "value": 20564
          }
        },
        "60a927df912c4c9c84dffd4c2809663f": {
          "model_module": "@jupyter-widgets/controls",
          "model_name": "HTMLModel",
          "model_module_version": "1.5.0",
          "state": {
            "_dom_classes": [],
            "_model_module": "@jupyter-widgets/controls",
            "_model_module_version": "1.5.0",
            "_model_name": "HTMLModel",
            "_view_count": null,
            "_view_module": "@jupyter-widgets/controls",
            "_view_module_version": "1.5.0",
            "_view_name": "HTMLView",
            "description": "",
            "description_tooltip": null,
            "layout": "IPY_MODEL_c77e1004b0f84292ae36359399c37bbb",
            "placeholder": "​",
            "style": "IPY_MODEL_523178bc3b9348f39f6f91db34519301",
            "value": " 20564/20564 [00:26&lt;00:00, 941.32 examples/s]"
          }
        },
        "b7b96aac524240a1984e1ec753afa14b": {
          "model_module": "@jupyter-widgets/base",
          "model_name": "LayoutModel",
          "model_module_version": "1.2.0",
          "state": {
            "_model_module": "@jupyter-widgets/base",
            "_model_module_version": "1.2.0",
            "_model_name": "LayoutModel",
            "_view_count": null,
            "_view_module": "@jupyter-widgets/base",
            "_view_module_version": "1.2.0",
            "_view_name": "LayoutView",
            "align_content": null,
            "align_items": null,
            "align_self": null,
            "border": null,
            "bottom": null,
            "display": null,
            "flex": null,
            "flex_flow": null,
            "grid_area": null,
            "grid_auto_columns": null,
            "grid_auto_flow": null,
            "grid_auto_rows": null,
            "grid_column": null,
            "grid_gap": null,
            "grid_row": null,
            "grid_template_areas": null,
            "grid_template_columns": null,
            "grid_template_rows": null,
            "height": null,
            "justify_content": null,
            "justify_items": null,
            "left": null,
            "margin": null,
            "max_height": null,
            "max_width": null,
            "min_height": null,
            "min_width": null,
            "object_fit": null,
            "object_position": null,
            "order": null,
            "overflow": null,
            "overflow_x": null,
            "overflow_y": null,
            "padding": null,
            "right": null,
            "top": null,
            "visibility": "hidden",
            "width": null
          }
        },
        "6436accc446f4934a7531f7f6fe522cb": {
          "model_module": "@jupyter-widgets/base",
          "model_name": "LayoutModel",
          "model_module_version": "1.2.0",
          "state": {
            "_model_module": "@jupyter-widgets/base",
            "_model_module_version": "1.2.0",
            "_model_name": "LayoutModel",
            "_view_count": null,
            "_view_module": "@jupyter-widgets/base",
            "_view_module_version": "1.2.0",
            "_view_name": "LayoutView",
            "align_content": null,
            "align_items": null,
            "align_self": null,
            "border": null,
            "bottom": null,
            "display": null,
            "flex": null,
            "flex_flow": null,
            "grid_area": null,
            "grid_auto_columns": null,
            "grid_auto_flow": null,
            "grid_auto_rows": null,
            "grid_column": null,
            "grid_gap": null,
            "grid_row": null,
            "grid_template_areas": null,
            "grid_template_columns": null,
            "grid_template_rows": null,
            "height": null,
            "justify_content": null,
            "justify_items": null,
            "left": null,
            "margin": null,
            "max_height": null,
            "max_width": null,
            "min_height": null,
            "min_width": null,
            "object_fit": null,
            "object_position": null,
            "order": null,
            "overflow": null,
            "overflow_x": null,
            "overflow_y": null,
            "padding": null,
            "right": null,
            "top": null,
            "visibility": null,
            "width": null
          }
        },
        "fc0fd4efbfa64d87a1b4dc81907c0aa6": {
          "model_module": "@jupyter-widgets/controls",
          "model_name": "DescriptionStyleModel",
          "model_module_version": "1.5.0",
          "state": {
            "_model_module": "@jupyter-widgets/controls",
            "_model_module_version": "1.5.0",
            "_model_name": "DescriptionStyleModel",
            "_view_count": null,
            "_view_module": "@jupyter-widgets/base",
            "_view_module_version": "1.2.0",
            "_view_name": "StyleView",
            "description_width": ""
          }
        },
        "a83b365baef84d5b83932624f73cd5e9": {
          "model_module": "@jupyter-widgets/base",
          "model_name": "LayoutModel",
          "model_module_version": "1.2.0",
          "state": {
            "_model_module": "@jupyter-widgets/base",
            "_model_module_version": "1.2.0",
            "_model_name": "LayoutModel",
            "_view_count": null,
            "_view_module": "@jupyter-widgets/base",
            "_view_module_version": "1.2.0",
            "_view_name": "LayoutView",
            "align_content": null,
            "align_items": null,
            "align_self": null,
            "border": null,
            "bottom": null,
            "display": null,
            "flex": null,
            "flex_flow": null,
            "grid_area": null,
            "grid_auto_columns": null,
            "grid_auto_flow": null,
            "grid_auto_rows": null,
            "grid_column": null,
            "grid_gap": null,
            "grid_row": null,
            "grid_template_areas": null,
            "grid_template_columns": null,
            "grid_template_rows": null,
            "height": null,
            "justify_content": null,
            "justify_items": null,
            "left": null,
            "margin": null,
            "max_height": null,
            "max_width": null,
            "min_height": null,
            "min_width": null,
            "object_fit": null,
            "object_position": null,
            "order": null,
            "overflow": null,
            "overflow_x": null,
            "overflow_y": null,
            "padding": null,
            "right": null,
            "top": null,
            "visibility": null,
            "width": null
          }
        },
        "f107ded1c3b04040a5ccc15e3f2e295c": {
          "model_module": "@jupyter-widgets/controls",
          "model_name": "ProgressStyleModel",
          "model_module_version": "1.5.0",
          "state": {
            "_model_module": "@jupyter-widgets/controls",
            "_model_module_version": "1.5.0",
            "_model_name": "ProgressStyleModel",
            "_view_count": null,
            "_view_module": "@jupyter-widgets/base",
            "_view_module_version": "1.2.0",
            "_view_name": "StyleView",
            "bar_color": null,
            "description_width": ""
          }
        },
        "c77e1004b0f84292ae36359399c37bbb": {
          "model_module": "@jupyter-widgets/base",
          "model_name": "LayoutModel",
          "model_module_version": "1.2.0",
          "state": {
            "_model_module": "@jupyter-widgets/base",
            "_model_module_version": "1.2.0",
            "_model_name": "LayoutModel",
            "_view_count": null,
            "_view_module": "@jupyter-widgets/base",
            "_view_module_version": "1.2.0",
            "_view_name": "LayoutView",
            "align_content": null,
            "align_items": null,
            "align_self": null,
            "border": null,
            "bottom": null,
            "display": null,
            "flex": null,
            "flex_flow": null,
            "grid_area": null,
            "grid_auto_columns": null,
            "grid_auto_flow": null,
            "grid_auto_rows": null,
            "grid_column": null,
            "grid_gap": null,
            "grid_row": null,
            "grid_template_areas": null,
            "grid_template_columns": null,
            "grid_template_rows": null,
            "height": null,
            "justify_content": null,
            "justify_items": null,
            "left": null,
            "margin": null,
            "max_height": null,
            "max_width": null,
            "min_height": null,
            "min_width": null,
            "object_fit": null,
            "object_position": null,
            "order": null,
            "overflow": null,
            "overflow_x": null,
            "overflow_y": null,
            "padding": null,
            "right": null,
            "top": null,
            "visibility": null,
            "width": null
          }
        },
        "523178bc3b9348f39f6f91db34519301": {
          "model_module": "@jupyter-widgets/controls",
          "model_name": "DescriptionStyleModel",
          "model_module_version": "1.5.0",
          "state": {
            "_model_module": "@jupyter-widgets/controls",
            "_model_module_version": "1.5.0",
            "_model_name": "DescriptionStyleModel",
            "_view_count": null,
            "_view_module": "@jupyter-widgets/base",
            "_view_module_version": "1.2.0",
            "_view_name": "StyleView",
            "description_width": ""
          }
        }
      }
    }
  },
  "nbformat": 4,
  "nbformat_minor": 0
}